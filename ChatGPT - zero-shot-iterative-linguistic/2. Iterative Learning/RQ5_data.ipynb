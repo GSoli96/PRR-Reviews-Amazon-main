{
 "cells": [
  {
   "cell_type": "code",
   "metadata": {
    "ExecuteTime": {
     "end_time": "2025-04-11T08:31:31.002608Z",
     "start_time": "2025-04-11T08:31:30.887010Z"
    }
   },
   "source": [
    "import pandas as pd\n",
    "import time\n",
    "import numpy as np\n",
    "import sys\n",
    "import argparse\n",
    "import json\n",
    "import random\n",
    "import re\n",
    "import string\n",
    "import pandas as pd\n",
    "import time\n",
    "\n",
    "from sklearn import metrics\n",
    "from sklearn.metrics import confusion_matrix,accuracy_score, precision_score, recall_score, classification_report,f1_score\n",
    "from sklearn.metrics import multilabel_confusion_matrix\n",
    "# from sklearn.metrics import plot_confusion_matrix\n",
    "import seaborn as sn\n",
    "import pandas as pd\n",
    "import matplotlib.pyplot as plt\n",
    "import os"
   ],
   "outputs": [],
   "execution_count": 2
  },
  {
   "cell_type": "code",
   "metadata": {
    "ExecuteTime": {
     "end_time": "2025-04-11T08:31:31.583814Z",
     "start_time": "2025-04-11T08:31:31.578588Z"
    }
   },
   "source": [
    "fake_generate = \"Computer_Generate/test set contenente fake (generate) e real.csv\"\n",
    "fake_reali = \"Human_Written/test set contenente fake (reali) e real.csv\""
   ],
   "outputs": [],
   "execution_count": 3
  },
  {
   "cell_type": "code",
   "metadata": {
    "ExecuteTime": {
     "end_time": "2025-04-11T08:31:32.189191Z",
     "start_time": "2025-04-11T08:31:32.181967Z"
    }
   },
   "source": [
    "def split_dataframe(file):\n",
    "    df = pd.read_csv(file,sep=\";\")\n",
    "    df = df.sample(frac=1).reset_index(drop=True)\n",
    "\n",
    "    df_GPT = df.drop(labels=[\"Titolo\", \"Contenuto\", \"ID\"], axis=1)\n",
    "\n",
    "    return df_GPT"
   ],
   "outputs": [],
   "execution_count": 4
  },
  {
   "cell_type": "code",
   "metadata": {
    "ExecuteTime": {
     "end_time": "2025-04-11T08:31:32.913724Z",
     "start_time": "2025-04-11T08:31:32.885229Z"
    }
   },
   "source": [
    "df_GPT_generate = split_dataframe(fake_generate)\n",
    "df_GPT_generate"
   ],
   "outputs": [
    {
     "data": {
      "text/plain": [
       "     Label  Predicted\n",
       "0        1          1\n",
       "1        0          0\n",
       "2        1          1\n",
       "3        1          1\n",
       "4        1          0\n",
       "..     ...        ...\n",
       "145      1          0\n",
       "146      1          1\n",
       "147      1          1\n",
       "148      0          0\n",
       "149      1          1\n",
       "\n",
       "[150 rows x 2 columns]"
      ],
      "text/html": [
       "<div>\n",
       "<style scoped>\n",
       "    .dataframe tbody tr th:only-of-type {\n",
       "        vertical-align: middle;\n",
       "    }\n",
       "\n",
       "    .dataframe tbody tr th {\n",
       "        vertical-align: top;\n",
       "    }\n",
       "\n",
       "    .dataframe thead th {\n",
       "        text-align: right;\n",
       "    }\n",
       "</style>\n",
       "<table border=\"1\" class=\"dataframe\">\n",
       "  <thead>\n",
       "    <tr style=\"text-align: right;\">\n",
       "      <th></th>\n",
       "      <th>Label</th>\n",
       "      <th>Predicted</th>\n",
       "    </tr>\n",
       "  </thead>\n",
       "  <tbody>\n",
       "    <tr>\n",
       "      <th>0</th>\n",
       "      <td>1</td>\n",
       "      <td>1</td>\n",
       "    </tr>\n",
       "    <tr>\n",
       "      <th>1</th>\n",
       "      <td>0</td>\n",
       "      <td>0</td>\n",
       "    </tr>\n",
       "    <tr>\n",
       "      <th>2</th>\n",
       "      <td>1</td>\n",
       "      <td>1</td>\n",
       "    </tr>\n",
       "    <tr>\n",
       "      <th>3</th>\n",
       "      <td>1</td>\n",
       "      <td>1</td>\n",
       "    </tr>\n",
       "    <tr>\n",
       "      <th>4</th>\n",
       "      <td>1</td>\n",
       "      <td>0</td>\n",
       "    </tr>\n",
       "    <tr>\n",
       "      <th>...</th>\n",
       "      <td>...</td>\n",
       "      <td>...</td>\n",
       "    </tr>\n",
       "    <tr>\n",
       "      <th>145</th>\n",
       "      <td>1</td>\n",
       "      <td>0</td>\n",
       "    </tr>\n",
       "    <tr>\n",
       "      <th>146</th>\n",
       "      <td>1</td>\n",
       "      <td>1</td>\n",
       "    </tr>\n",
       "    <tr>\n",
       "      <th>147</th>\n",
       "      <td>1</td>\n",
       "      <td>1</td>\n",
       "    </tr>\n",
       "    <tr>\n",
       "      <th>148</th>\n",
       "      <td>0</td>\n",
       "      <td>0</td>\n",
       "    </tr>\n",
       "    <tr>\n",
       "      <th>149</th>\n",
       "      <td>1</td>\n",
       "      <td>1</td>\n",
       "    </tr>\n",
       "  </tbody>\n",
       "</table>\n",
       "<p>150 rows × 2 columns</p>\n",
       "</div>"
      ]
     },
     "execution_count": 5,
     "metadata": {},
     "output_type": "execute_result"
    }
   ],
   "execution_count": 5
  },
  {
   "cell_type": "code",
   "metadata": {
    "ExecuteTime": {
     "end_time": "2025-04-11T08:31:33.928764Z",
     "start_time": "2025-04-11T08:31:33.911406Z"
    }
   },
   "source": [
    "df_GPT_reali = split_dataframe(fake_reali)\n",
    "df_GPT_reali"
   ],
   "outputs": [
    {
     "data": {
      "text/plain": [
       "    Label  Predicted\n",
       "0       0          1\n",
       "1       0          0\n",
       "2       1          1\n",
       "3       0          0\n",
       "4       0          0\n",
       "..    ...        ...\n",
       "95      0          1\n",
       "96      1          1\n",
       "97      0          0\n",
       "98      1          1\n",
       "99      0          0\n",
       "\n",
       "[100 rows x 2 columns]"
      ],
      "text/html": [
       "<div>\n",
       "<style scoped>\n",
       "    .dataframe tbody tr th:only-of-type {\n",
       "        vertical-align: middle;\n",
       "    }\n",
       "\n",
       "    .dataframe tbody tr th {\n",
       "        vertical-align: top;\n",
       "    }\n",
       "\n",
       "    .dataframe thead th {\n",
       "        text-align: right;\n",
       "    }\n",
       "</style>\n",
       "<table border=\"1\" class=\"dataframe\">\n",
       "  <thead>\n",
       "    <tr style=\"text-align: right;\">\n",
       "      <th></th>\n",
       "      <th>Label</th>\n",
       "      <th>Predicted</th>\n",
       "    </tr>\n",
       "  </thead>\n",
       "  <tbody>\n",
       "    <tr>\n",
       "      <th>0</th>\n",
       "      <td>0</td>\n",
       "      <td>1</td>\n",
       "    </tr>\n",
       "    <tr>\n",
       "      <th>1</th>\n",
       "      <td>0</td>\n",
       "      <td>0</td>\n",
       "    </tr>\n",
       "    <tr>\n",
       "      <th>2</th>\n",
       "      <td>1</td>\n",
       "      <td>1</td>\n",
       "    </tr>\n",
       "    <tr>\n",
       "      <th>3</th>\n",
       "      <td>0</td>\n",
       "      <td>0</td>\n",
       "    </tr>\n",
       "    <tr>\n",
       "      <th>4</th>\n",
       "      <td>0</td>\n",
       "      <td>0</td>\n",
       "    </tr>\n",
       "    <tr>\n",
       "      <th>...</th>\n",
       "      <td>...</td>\n",
       "      <td>...</td>\n",
       "    </tr>\n",
       "    <tr>\n",
       "      <th>95</th>\n",
       "      <td>0</td>\n",
       "      <td>1</td>\n",
       "    </tr>\n",
       "    <tr>\n",
       "      <th>96</th>\n",
       "      <td>1</td>\n",
       "      <td>1</td>\n",
       "    </tr>\n",
       "    <tr>\n",
       "      <th>97</th>\n",
       "      <td>0</td>\n",
       "      <td>0</td>\n",
       "    </tr>\n",
       "    <tr>\n",
       "      <th>98</th>\n",
       "      <td>1</td>\n",
       "      <td>1</td>\n",
       "    </tr>\n",
       "    <tr>\n",
       "      <th>99</th>\n",
       "      <td>0</td>\n",
       "      <td>0</td>\n",
       "    </tr>\n",
       "  </tbody>\n",
       "</table>\n",
       "<p>100 rows × 2 columns</p>\n",
       "</div>"
      ]
     },
     "execution_count": 6,
     "metadata": {},
     "output_type": "execute_result"
    }
   ],
   "execution_count": 6
  },
  {
   "cell_type": "markdown",
   "metadata": {},
   "source": [
    "# Confusion Matrix"
   ]
  },
  {
   "cell_type": "code",
   "metadata": {
    "ExecuteTime": {
     "end_time": "2025-04-11T08:31:56.690369Z",
     "start_time": "2025-04-11T08:31:56.679106Z"
    }
   },
   "source": [
    "def conf_matrix(y_true, y_pred, model, tipo):\n",
    "    path_result = \"Result/\"\n",
    "    # path_result = f\"{path}Result/\"\n",
    "\n",
    "    Accuracy = metrics.accuracy_score(y_true, y_pred)\n",
    "    Precision = metrics.precision_score(y_true, y_pred, labels=[\"Real\", \"Fake\"])\n",
    "    Sensitivity_recall = metrics.recall_score(y_true, y_pred, labels=[\"Real\", \"Fake\"])\n",
    "    F1_score = metrics.f1_score(y_true, y_pred, labels=[\"Real\", \"Fake\"])\n",
    "\n",
    "    confusion_matrix = metrics.confusion_matrix(y_true, y_pred)\n",
    "\n",
    "    cm_display = metrics.ConfusionMatrixDisplay(confusion_matrix = confusion_matrix, display_labels=[\"Real\", \"Fake\"])\n",
    "\n",
    "    plt.rcParams[\"figure.figsize\"] = (10,10)\n",
    "\n",
    "    cm_display.plot(cmap=plt.cm.Greens, colorbar=False)\n",
    "    plt.xticks(rotation = 90)\n",
    "\n",
    "    print({\"Accuracy\":Accuracy,\"Precision\":Precision,\"Sensitivity_recall\":Sensitivity_recall, \"F1_score\":F1_score})\n",
    "    plt.tight_layout()\n",
    "\n",
    "    os.makedirs(f\"{path_result}{model}/{tipo}\", exist_ok=True)\n",
    "    plt.savefig(f\"{path_result}{model}/{tipo}/confusion-matrix_{tipo}_{model}.pdf\")\n",
    "\n",
    "    evaluation_report = classification_report(y_true, y_pred, labels=[0,1], target_names=[\"Real\",\"Fake\"])\n",
    "    print(evaluation_report)\n",
    "\n",
    "    with open(f\"{path_result}{model}/{tipo}/{tipo}_predictions_{model}.txt\", \"w\") as f:\n",
    "      f.write(f\"{evaluation_report}\\nMetrics:\\nAccuracy_score: {Accuracy}\\nPrecision_score: {Precision}\\nRecall_score: {Sensitivity_recall}\\nF1_Score: {F1_score}\")\n",
    "\n",
    "    print(f\"{path_result}{model}/{tipo}/{tipo}_predictions_{model}.txt\")"
   ],
   "outputs": [],
   "execution_count": 7
  },
  {
   "cell_type": "markdown",
   "metadata": {},
   "source": [
    "# GPT"
   ]
  },
  {
   "cell_type": "code",
   "metadata": {
    "ExecuteTime": {
     "end_time": "2025-04-11T08:31:59.721328Z",
     "start_time": "2025-04-11T08:31:59.235363Z"
    }
   },
   "source": [
    "conf_matrix(y_true= df_GPT_generate[\"Label\"], y_pred= df_GPT_generate[\"Predicted\"], model= \"Best_ChatGPT\", tipo=\"fake_generate\")"
   ],
   "outputs": [
    {
     "name": "stdout",
     "output_type": "stream",
     "text": [
      "{'Accuracy': 0.6933333333333334, 'Precision': 0.7755102040816326, 'Sensitivity_recall': 0.76, 'F1_score': 0.7676767676767676}\n",
      "              precision    recall  f1-score   support\n",
      "\n",
      "        Real       0.54      0.56      0.55        50\n",
      "        Fake       0.78      0.76      0.77       100\n",
      "\n",
      "    accuracy                           0.69       150\n",
      "   macro avg       0.66      0.66      0.66       150\n",
      "weighted avg       0.70      0.69      0.69       150\n",
      "\n",
      "Result/Best_ChatGPT/fake_generate/fake_generate_predictions_Best_ChatGPT.txt\n"
     ]
    },
    {
     "data": {
      "text/plain": [
       "<Figure size 1000x1000 with 1 Axes>"
      ],
      "image/png": "[encoded data removed]"
     },
     "metadata": {},
     "output_type": "display_data"
    }
   ],
   "execution_count": 8
  },
  {
   "cell_type": "code",
   "metadata": {
    "ExecuteTime": {
     "end_time": "2025-04-11T08:32:29.312897Z",
     "start_time": "2025-04-11T08:32:29.027744Z"
    }
   },
   "source": [
    "conf_matrix(y_true= df_GPT_reali[\"Label\"], y_pred= df_GPT_reali[\"Predicted\"], model= \"Best_ChatGPT\", tipo=\"real_generate\")"
   ],
   "outputs": [
    {
     "name": "stdout",
     "output_type": "stream",
     "text": [
      "{'Accuracy': 0.78, 'Precision': 0.7121212121212122, 'Sensitivity_recall': 0.94, 'F1_score': 0.8103448275862069}\n",
      "              precision    recall  f1-score   support\n",
      "\n",
      "        Real       0.91      0.62      0.74        50\n",
      "        Fake       0.71      0.94      0.81        50\n",
      "\n",
      "    accuracy                           0.78       100\n",
      "   macro avg       0.81      0.78      0.77       100\n",
      "weighted avg       0.81      0.78      0.77       100\n",
      "\n",
      "Result/Best_ChatGPT/real_generate/real_generate_predictions_Best_ChatGPT.txt\n"
     ]
    },
    {
     "data": {
      "text/plain": [
       "<Figure size 1000x1000 with 1 Axes>"
      ],
      "image/png": "[encoded data removed]"
     },
     "metadata": {},
     "output_type": "display_data"
    }
   ],
   "execution_count": 9
  },
  {
   "metadata": {},
   "cell_type": "code",
   "outputs": [],
   "execution_count": null,
   "source": ""
  }
 ],
 "metadata": {
  "kernelspec": {
   "display_name": "Laura",
   "language": "python",
   "name": "python3"
  },
  "language_info": {
   "codemirror_mode": {
    "name": "ipython",
    "version": 3
   },
   "file_extension": ".py",
   "mimetype": "text/x-python",
   "name": "python",
   "nbconvert_exporter": "python",
   "pygments_lexer": "ipython3",
   "version": "3.12.8"
  },
  "orig_nbformat": 4
 },
 "nbformat": 4,
 "nbformat_minor": 2
}
