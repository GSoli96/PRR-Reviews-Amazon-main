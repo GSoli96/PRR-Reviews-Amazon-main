{
 "cells": [
  {
   "metadata": {
    "ExecuteTime": {
     "end_time": "2025-04-15T21:03:55.359251Z",
     "start_time": "2025-04-15T21:03:54.887241Z"
    }
   },
   "cell_type": "code",
   "source": [
    "import pandas as pd\n",
    "import numpy as np\n",
    "import os\n",
    "import openai\n",
    "import lmstudio as lms"
   ],
   "outputs": [],
   "execution_count": 8
  },
  {
   "metadata": {
    "ExecuteTime": {
     "end_time": "2025-04-15T21:14:57.978656Z",
     "start_time": "2025-04-15T21:14:57.260033Z"
    }
   },
   "cell_type": "code",
   "source": [
    "import pandas as pd\n",
    "import matplotlib.pyplot as plt\n",
    "import seaborn as sns\n",
    "from sklearn.metrics import (\n",
    "    classification_report,\n",
    "    confusion_matrix,\n",
    "    accuracy_score,\n",
    "    precision_score,\n",
    "    recall_score,\n",
    "    f1_score\n",
    ")\n",
    "import os\n",
    "\n",
    "# === Percorsi input/output ===\n",
    "datasets = {\n",
    "    \"Computer_test\": \"Test_GPT/result/Computer_test_features_con_llm_predictions.csv\",\n",
    "    \"Human_test\": \"Test_GPT/result/Human_test_features_con_llm_predictions.csv\"\n",
    "}\n",
    "\n",
    "output_base = \"Test_GPT/result\"\n",
    "\n",
    "# === Funzione per valutare e salvare risultati ===\n",
    "def evaluate_predictions(name, df):\n",
    "    y_true = df[\"Label\"]\n",
    "    y_pred = df[\"LLM_Label\"]\n",
    "\n",
    "    acc = accuracy_score(y_true, y_pred)\n",
    "    prec = precision_score(y_true, y_pred, zero_division=0)\n",
    "    rec = recall_score(y_true, y_pred, zero_division=0)\n",
    "    f1 = f1_score(y_true, y_pred, zero_division=0)\n",
    "    report = classification_report(y_true, y_pred, zero_division=0)\n",
    "\n",
    "    # Crea directory se non esiste\n",
    "    output_dir = os.path.join(output_base, name)\n",
    "    os.makedirs(output_dir, exist_ok=True)\n",
    "\n",
    "    # Salva report testuale\n",
    "    report_path = os.path.join(output_dir, f\"evaluation_report_{name}.txt\")\n",
    "    with open(report_path, \"w\", encoding=\"utf-8\") as f:\n",
    "        f.write(f\"=== Evaluation Report for {name} ===\\n\")\n",
    "        f.write(f\"Accuracy: {acc:.4f}\\n\")\n",
    "        f.write(f\"Precision: {prec:.4f}\\n\")\n",
    "        f.write(f\"Recall: {rec:.4f}\\n\")\n",
    "        f.write(f\"F1-score: {f1:.4f}\\n\\n\")\n",
    "        f.write(report)\n",
    "\n",
    "    # Salva confusion matrix in PDF\n",
    "    cm = confusion_matrix(y_true, y_pred)\n",
    "    labels = [\"Real (0)\", \"Fake (1)\"]\n",
    "    plt.figure(figsize=(6, 5))\n",
    "    sns.heatmap(cm, annot=True, fmt='d', xticklabels=labels, yticklabels=labels, cmap=\"Blues\")\n",
    "    plt.title(f\"Confusion Matrix - {name}\")\n",
    "    plt.xlabel(\"Predicted\")\n",
    "    plt.ylabel(\"True\")\n",
    "    cm_path = os.path.join(output_dir, f\"confusion_matrix_{name}.pdf\")\n",
    "    plt.tight_layout()\n",
    "    plt.savefig(cm_path)\n",
    "    plt.close()\n",
    "\n",
    "    print(f\"✅ Valutazione completata per {name}. Report e matrice salvati in:\\n→ {output_dir}\\n\")\n",
    "\n",
    "# === Ciclo sui dataset ===\n",
    "for name, path in datasets.items():\n",
    "    df = pd.read_csv(path, sep=\";\", encoding=\"ISO-8859-1\")\n",
    "    if \"LLM_Label\" in df.columns:\n",
    "        evaluate_predictions(name, df)\n",
    "    else:\n",
    "        print(f\"⚠️ Il file {path} non contiene la colonna 'LLM_Label'\")\n"
   ],
   "outputs": [
    {
     "name": "stdout",
     "output_type": "stream",
     "text": [
      "✅ Valutazione completata per Computer_test. Report e matrice salvati in:\n",
      "→ Test_GPT/result\\Computer_test\n",
      "\n",
      "✅ Valutazione completata per Human_test. Report e matrice salvati in:\n",
      "→ Test_GPT/result\\Human_test\n",
      "\n"
     ]
    }
   ],
   "execution_count": 1
  },
  {
   "metadata": {},
   "cell_type": "code",
   "outputs": [],
   "execution_count": null,
   "source": ""
  }
 ],
 "metadata": {
  "accelerator": "GPU",
  "colab": {
   "provenance": []
  },
  "kernelspec": {
   "display_name": "Laura",
   "language": "python",
   "name": "python3"
  },
  "language_info": {
   "codemirror_mode": {
    "name": "ipython",
    "version": 3
   },
   "file_extension": ".py",
   "mimetype": "text/x-python",
   "name": "python",
   "nbconvert_exporter": "python",
   "pygments_lexer": "ipython3",
   "version": "3.12.8"
  }
 },
 "nbformat": 4,
 "nbformat_minor": 0
}
