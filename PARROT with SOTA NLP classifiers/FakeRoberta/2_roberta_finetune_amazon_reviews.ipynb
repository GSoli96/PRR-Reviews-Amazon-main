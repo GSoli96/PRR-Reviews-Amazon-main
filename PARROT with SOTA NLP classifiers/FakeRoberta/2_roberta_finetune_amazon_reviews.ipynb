{
 "cells": [
  {
   "cell_type": "code",
   "execution_count": 1,
   "metadata": {
    "executionInfo": {
     "elapsed": 3,
     "status": "ok",
     "timestamp": 1697639262389,
     "user": {
      "displayName": "Giandomenico SOLIMANDO",
      "userId": "03891575848656317834"
     },
     "user_tz": -120
    },
    "id": "FLSpQEFL0d4R"
   },
   "outputs": [],
   "source": [
    "# from google.colab import drive\n",
    "# drive.mount('/content/drive')"
   ]
  },
  {
   "cell_type": "code",
   "execution_count": 2,
   "metadata": {
    "executionInfo": {
     "elapsed": 3,
     "status": "ok",
     "timestamp": 1697639262389,
     "user": {
      "displayName": "Giandomenico SOLIMANDO",
      "userId": "03891575848656317834"
     },
     "user_tz": -120
    },
    "id": "HyPQ58NQ0fyA"
   },
   "outputs": [],
   "source": [
    "# path = \"/content/drive/MyDrive/2. Pubblicazioni/3. In Corso/2. Identifying Fake Reviews for Refund Purposes/4. comparative evaluation among PARROT and state-of-the-art models/\""
   ]
  },
  {
   "cell_type": "markdown",
   "metadata": {
    "id": "GHUK-HdV0abK"
   },
   "source": [
    "*This is fakeRoBERTa*"
   ]
  },
  {
   "cell_type": "code",
   "execution_count": 3,
   "metadata": {
    "colab": {
     "base_uri": "https://localhost:8080/"
    },
    "executionInfo": {
     "elapsed": 19939,
     "status": "ok",
     "timestamp": 1697639282326,
     "user": {
      "displayName": "Giandomenico SOLIMANDO",
      "userId": "03891575848656317834"
     },
     "user_tz": -120
    },
    "id": "ciG72GbP0wTR",
    "outputId": "01374885-e7a3-434a-88ef-20d1a5a71acc"
   },
   "outputs": [
    {
     "name": "stdout",
     "output_type": "stream",
     "text": [
      "Collecting transformers\n",
      "  Downloading transformers-4.34.0-py3-none-any.whl (7.7 MB)\n",
      "\u001b[2K     \u001b[90m━━━━━━━━━━━━━━━━━━━━━━━━━━━━━━━━━━━━━━━━\u001b[0m \u001b[32m7.7/7.7 MB\u001b[0m \u001b[31m23.0 MB/s\u001b[0m eta \u001b[36m0:00:00\u001b[0m\n",
      "\u001b[?25hRequirement already satisfied: filelock in /usr/local/lib/python3.10/dist-packages (from transformers) (3.12.4)\n",
      "Collecting huggingface-hub<1.0,>=0.16.4 (from transformers)\n",
      "  Downloading huggingface_hub-0.18.0-py3-none-any.whl (301 kB)\n",
      "\u001b[2K     \u001b[90m━━━━━━━━━━━━━━━━━━━━━━━━━━━━━━━━━━━━━━━━\u001b[0m \u001b[32m302.0/302.0 kB\u001b[0m \u001b[31m37.5 MB/s\u001b[0m eta \u001b[36m0:00:00\u001b[0m\n",
      "\u001b[?25hRequirement already satisfied: numpy>=1.17 in /usr/local/lib/python3.10/dist-packages (from transformers) (1.23.5)\n",
      "Requirement already satisfied: packaging>=20.0 in /usr/local/lib/python3.10/dist-packages (from transformers) (23.2)\n",
      "Requirement already satisfied: pyyaml>=5.1 in /usr/local/lib/python3.10/dist-packages (from transformers) (6.0.1)\n",
      "Requirement already satisfied: regex!=2019.12.17 in /usr/local/lib/python3.10/dist-packages (from transformers) (2023.6.3)\n",
      "Requirement already satisfied: requests in /usr/local/lib/python3.10/dist-packages (from transformers) (2.31.0)\n",
      "Collecting tokenizers<0.15,>=0.14 (from transformers)\n",
      "  Downloading tokenizers-0.14.1-cp310-cp310-manylinux_2_17_x86_64.manylinux2014_x86_64.whl (3.8 MB)\n",
      "\u001b[2K     \u001b[90m━━━━━━━━━━━━━━━━━━━━━━━━━━━━━━━━━━━━━━━━\u001b[0m \u001b[32m3.8/3.8 MB\u001b[0m \u001b[31m55.5 MB/s\u001b[0m eta \u001b[36m0:00:00\u001b[0m\n",
      "\u001b[?25hCollecting safetensors>=0.3.1 (from transformers)\n",
      "  Downloading safetensors-0.4.0-cp310-cp310-manylinux_2_17_x86_64.manylinux2014_x86_64.whl (1.3 MB)\n",
      "\u001b[2K     \u001b[90m━━━━━━━━━━━━━━━━━━━━━━━━━━━━━━━━━━━━━━━━\u001b[0m \u001b[32m1.3/1.3 MB\u001b[0m \u001b[31m62.5 MB/s\u001b[0m eta \u001b[36m0:00:00\u001b[0m\n",
      "\u001b[?25hRequirement already satisfied: tqdm>=4.27 in /usr/local/lib/python3.10/dist-packages (from transformers) (4.66.1)\n",
      "Requirement already satisfied: fsspec>=2023.5.0 in /usr/local/lib/python3.10/dist-packages (from huggingface-hub<1.0,>=0.16.4->transformers) (2023.6.0)\n",
      "Requirement already satisfied: typing-extensions>=3.7.4.3 in /usr/local/lib/python3.10/dist-packages (from huggingface-hub<1.0,>=0.16.4->transformers) (4.5.0)\n",
      "Collecting huggingface-hub<1.0,>=0.16.4 (from transformers)\n",
      "  Downloading huggingface_hub-0.17.3-py3-none-any.whl (295 kB)\n",
      "\u001b[2K     \u001b[90m━━━━━━━━━━━━━━━━━━━━━━━━━━━━━━━━━━━━━━━━\u001b[0m \u001b[32m295.0/295.0 kB\u001b[0m \u001b[31m39.8 MB/s\u001b[0m eta \u001b[36m0:00:00\u001b[0m\n",
      "\u001b[?25hRequirement already satisfied: charset-normalizer<4,>=2 in /usr/local/lib/python3.10/dist-packages (from requests->transformers) (3.3.0)\n",
      "Requirement already satisfied: idna<4,>=2.5 in /usr/local/lib/python3.10/dist-packages (from requests->transformers) (3.4)\n",
      "Requirement already satisfied: urllib3<3,>=1.21.1 in /usr/local/lib/python3.10/dist-packages (from requests->transformers) (2.0.6)\n",
      "Requirement already satisfied: certifi>=2017.4.17 in /usr/local/lib/python3.10/dist-packages (from requests->transformers) (2023.7.22)\n",
      "Installing collected packages: safetensors, huggingface-hub, tokenizers, transformers\n",
      "Successfully installed huggingface-hub-0.17.3 safetensors-0.4.0 tokenizers-0.14.1 transformers-4.34.0\n"
     ]
    }
   ],
   "source": [
    "!pip install transformers"
   ]
  },
  {
   "cell_type": "code",
   "execution_count": 1,
   "metadata": {
    "executionInfo": {
     "elapsed": 8068,
     "status": "ok",
     "timestamp": 1697639290392,
     "user": {
      "displayName": "Giandomenico SOLIMANDO",
      "userId": "03891575848656317834"
     },
     "user_tz": -120
    },
    "id": "-PmRyPnV0abN"
   },
   "outputs": [
    {
     "name": "stderr",
     "output_type": "stream",
     "text": [
      "WARNING:torchao.kernel.intmm:Warning: Detected no triton, on systems without Triton certain kernels will not work\n"
     ]
    }
   ],
   "source": [
    "import pandas as pd\n",
    "import torch\n",
    "from torch.utils.data import Dataset, DataLoader\n",
    "from transformers import RobertaForSequenceClassification, RobertaTokenizer\n",
    "from sklearn.model_selection import train_test_split"
   ]
  },
  {
   "cell_type": "code",
   "execution_count": 2,
   "metadata": {
    "colab": {
     "base_uri": "https://localhost:8080/",
     "height": 36
    },
    "executionInfo": {
     "elapsed": 6,
     "status": "ok",
     "timestamp": 1697639290392,
     "user": {
      "displayName": "Giandomenico SOLIMANDO",
      "userId": "03891575848656317834"
     },
     "user_tz": -120
    },
    "id": "3FE4zWEM0abO",
    "outputId": "9e0dd78f-bd48-47a3-e554-ca4eafa50127"
   },
   "outputs": [
    {
     "data": {
      "text/plain": [
       "'cuda'"
      ]
     },
     "execution_count": 2,
     "metadata": {},
     "output_type": "execute_result"
    }
   ],
   "source": [
    "from torch import cuda\n",
    "device = 'cuda' if cuda.is_available() else 'cpu'\n",
    "device"
   ]
  },
  {
   "cell_type": "code",
   "execution_count": null,
   "metadata": {
    "colab": {
     "base_uri": "https://localhost:8080/"
    },
    "executionInfo": {
     "elapsed": 15885,
     "status": "ok",
     "timestamp": 1697639306273,
     "user": {
      "displayName": "Giandomenico SOLIMANDO",
      "userId": "03891575848656317834"
     },
     "user_tz": -120
    },
    "id": "0FQlojjfLl2R",
    "outputId": "a7d11b26-c898-427b-c39f-28e84bcb1fa1"
   },
   "outputs": [
    {
     "name": "stdout",
     "output_type": "stream",
     "text": [
      "Mounted at /content/drive\n"
     ]
    }
   ],
   "source": [
    "# from google.colab import drive\n",
    "# drive.mount('/content/drive')"
   ]
  },
  {
   "cell_type": "code",
   "execution_count": 7,
   "metadata": {
    "executionInfo": {
     "elapsed": 6,
     "status": "ok",
     "timestamp": 1697639306273,
     "user": {
      "displayName": "Giandomenico SOLIMANDO",
      "userId": "03891575848656317834"
     },
     "user_tz": -120
    },
    "id": "UIV16C490abO"
   },
   "outputs": [],
   "source": [
    "# encoded_label_dict = {\"CG\" : 0, \"OR\" : 1}\n",
    "# def encode_label(x):\n",
    "#     return encoded_label_dict.get(x,-1)"
   ]
  },
  {
   "cell_type": "code",
   "execution_count": 8,
   "metadata": {
    "executionInfo": {
     "elapsed": 5,
     "status": "ok",
     "timestamp": 1697639306273,
     "user": {
      "displayName": "Giandomenico SOLIMANDO",
      "userId": "03891575848656317834"
     },
     "user_tz": -120
    },
    "id": "5S4WQTkf0abO"
   },
   "outputs": [],
   "source": [
    "# df = pd.read_csv(path + \"FakeRoberta/fake reviews dataset.csv\")"
   ]
  },
  {
   "cell_type": "code",
   "execution_count": 9,
   "metadata": {
    "executionInfo": {
     "elapsed": 5,
     "status": "ok",
     "timestamp": 1697639306273,
     "user": {
      "displayName": "Giandomenico SOLIMANDO",
      "userId": "03891575848656317834"
     },
     "user_tz": -120
    },
    "id": "61eP-Bcd0abP"
   },
   "outputs": [],
   "source": [
    "# df[\"target\"] = df[\"label\"].apply(lambda x: encode_label(x))"
   ]
  },
  {
   "cell_type": "code",
   "execution_count": 10,
   "metadata": {
    "executionInfo": {
     "elapsed": 5,
     "status": "ok",
     "timestamp": 1697639306273,
     "user": {
      "displayName": "Giandomenico SOLIMANDO",
      "userId": "03891575848656317834"
     },
     "user_tz": -120
    },
    "id": "Z8IGlY2x0abP"
   },
   "outputs": [],
   "source": [
    "# model_name = \"roberta-base\"\n",
    "# MAX_LEN = 256\n",
    "# TRAIN_BATCH_SIZE = 8\n",
    "# VALID_BATCH_SIZE = 8\n",
    "# EPOCHS = 1\n",
    "# LEARNING_RATE = 1e-05"
   ]
  },
  {
   "cell_type": "code",
   "execution_count": 11,
   "metadata": {
    "executionInfo": {
     "elapsed": 4,
     "status": "ok",
     "timestamp": 1697639306273,
     "user": {
      "displayName": "Giandomenico SOLIMANDO",
      "userId": "03891575848656317834"
     },
     "user_tz": -120
    },
    "id": "X69g1j2u0abP"
   },
   "outputs": [],
   "source": [
    "# tokenizer = RobertaTokenizer.from_pretrained(model_name)"
   ]
  },
  {
   "cell_type": "code",
   "execution_count": 12,
   "metadata": {
    "executionInfo": {
     "elapsed": 4,
     "status": "ok",
     "timestamp": 1697639306273,
     "user": {
      "displayName": "Giandomenico SOLIMANDO",
      "userId": "03891575848656317834"
     },
     "user_tz": -120
    },
    "id": "8EqxXr3b0abP"
   },
   "outputs": [],
   "source": [
    "# class Triage(Dataset):\n",
    "#     def __init__(self, dataframe, tokenizer, max_len):\n",
    "#         self.len = len(dataframe)\n",
    "#         self.data = dataframe\n",
    "#         self.tokenizer = tokenizer\n",
    "#         self.max_len = max_len\n",
    "\n",
    "#     def __getitem__(self, index):\n",
    "#         title = str(self.data.text_[index])\n",
    "#         title = \" \".join(title.split())\n",
    "#         inputs = self.tokenizer.encode_plus(\n",
    "#             title,\n",
    "#             None,\n",
    "#             add_special_tokens=True,\n",
    "#             max_length=self.max_len,\n",
    "#             pad_to_max_length=True,\n",
    "#             return_token_type_ids=True,\n",
    "#             truncation=True\n",
    "#         )\n",
    "#         ids = inputs['input_ids']\n",
    "#         mask = inputs['attention_mask']\n",
    "\n",
    "#         return {\n",
    "#             'ids': torch.tensor(ids, dtype=torch.long),\n",
    "#             'mask': torch.tensor(mask, dtype=torch.long),\n",
    "#             'targets': torch.tensor(self.data.target[index], dtype=torch.long)\n",
    "#         }\n",
    "\n",
    "#     def __len__(self):\n",
    "#         return self.len"
   ]
  },
  {
   "cell_type": "code",
   "execution_count": 13,
   "metadata": {
    "executionInfo": {
     "elapsed": 4,
     "status": "ok",
     "timestamp": 1697639306273,
     "user": {
      "displayName": "Giandomenico SOLIMANDO",
      "userId": "03891575848656317834"
     },
     "user_tz": -120
    },
    "id": "HgBXat6V0abQ"
   },
   "outputs": [],
   "source": [
    "# # Creating the dataset and dataloader\n",
    "# train_dataset, valid_dataset = train_test_split(df, test_size=0.2, shuffle=True, stratify=None, random_state=2021)\n",
    "# train_dataset = train_dataset.reset_index(drop=True)\n",
    "# valid_dataset = valid_dataset.reset_index(drop=True)\n",
    "\n",
    "# print(\"FULL Dataset: {}\".format(df.shape))\n",
    "# print(\"TRAIN Dataset: {}\".format(train_dataset.shape))\n",
    "# print(\"VALID Dataset: {}\".format(valid_dataset.shape))\n",
    "\n",
    "# training_set = Triage(train_dataset, tokenizer, MAX_LEN)\n",
    "# testing_set = Triage(valid_dataset, tokenizer, MAX_LEN)"
   ]
  },
  {
   "cell_type": "code",
   "execution_count": 14,
   "metadata": {
    "executionInfo": {
     "elapsed": 4,
     "status": "ok",
     "timestamp": 1697639306273,
     "user": {
      "displayName": "Giandomenico SOLIMANDO",
      "userId": "03891575848656317834"
     },
     "user_tz": -120
    },
    "id": "RWJnLD7O0abQ"
   },
   "outputs": [],
   "source": [
    "# train_params = {'batch_size': TRAIN_BATCH_SIZE,\n",
    "#                 'shuffle': True,\n",
    "#                 'num_workers': 0\n",
    "#                 }\n",
    "\n",
    "# valid_params = {'batch_size': VALID_BATCH_SIZE,\n",
    "#                 'shuffle': True,\n",
    "#                 'num_workers': 0\n",
    "#                 }\n",
    "\n",
    "# training_loader = DataLoader(training_set, **train_params)\n",
    "# testing_loader = DataLoader(testing_set, **valid_params)"
   ]
  },
  {
   "cell_type": "code",
   "execution_count": 15,
   "metadata": {
    "executionInfo": {
     "elapsed": 4,
     "status": "ok",
     "timestamp": 1697639306273,
     "user": {
      "displayName": "Giandomenico SOLIMANDO",
      "userId": "03891575848656317834"
     },
     "user_tz": -120
    },
    "id": "3gbj-hHE0abR"
   },
   "outputs": [],
   "source": [
    "# model = RobertaForSequenceClassification.from_pretrained(model_name)\n",
    "# model.to(device)"
   ]
  },
  {
   "cell_type": "code",
   "execution_count": 16,
   "metadata": {
    "executionInfo": {
     "elapsed": 5,
     "status": "ok",
     "timestamp": 1697639306274,
     "user": {
      "displayName": "Giandomenico SOLIMANDO",
      "userId": "03891575848656317834"
     },
     "user_tz": -120
    },
    "id": "WfYcjKBK0abR"
   },
   "outputs": [],
   "source": [
    "# # Creating the optimizer\n",
    "# optimizer = torch.optim.Adam(params=model.parameters(), lr=LEARNING_RATE)"
   ]
  },
  {
   "cell_type": "code",
   "execution_count": 17,
   "metadata": {
    "executionInfo": {
     "elapsed": 5,
     "status": "ok",
     "timestamp": 1697639306274,
     "user": {
      "displayName": "Giandomenico SOLIMANDO",
      "userId": "03891575848656317834"
     },
     "user_tz": -120
    },
    "id": "a3NWYAx30abR"
   },
   "outputs": [],
   "source": [
    "# # Function to calcuate the accuracy of the model\n",
    "# def calcuate_accu(big_idx, targets):\n",
    "#     n_correct = (big_idx==targets).sum().item()\n",
    "#     return n_correct"
   ]
  },
  {
   "cell_type": "code",
   "execution_count": 18,
   "metadata": {
    "executionInfo": {
     "elapsed": 5,
     "status": "ok",
     "timestamp": 1697639306274,
     "user": {
      "displayName": "Giandomenico SOLIMANDO",
      "userId": "03891575848656317834"
     },
     "user_tz": -120
    },
    "id": "UerAO6dk0abR"
   },
   "outputs": [],
   "source": [
    "# # Defining the training function on the 80% of the dataset for tuning the roberta model\n",
    "# def train(epoch):\n",
    "#     tr_loss = 0\n",
    "#     n_correct = 0\n",
    "#     nb_tr_steps = 0\n",
    "#     nb_tr_examples = 0\n",
    "#     model.train()\n",
    "#     for _,data in enumerate(training_loader, 0):\n",
    "#         ids = data['ids'].to(device, dtype = torch.long)\n",
    "#         mask = data['mask'].to(device, dtype = torch.long)\n",
    "#         targets = data['targets'].to(device, dtype = torch.long)\n",
    "\n",
    "#         optimizer.zero_grad()\n",
    "#         outputs = model(ids, attention_mask=mask, labels=targets)\n",
    "#         loss = outputs.loss\n",
    "#         logits = outputs.logits\n",
    "#         tr_loss += loss\n",
    "#         big_val, big_idx = torch.max(logits, dim=1)\n",
    "#         n_correct += calcuate_accu(big_idx, targets)\n",
    "\n",
    "#         nb_tr_steps += 1\n",
    "#         nb_tr_examples+=targets.size(0)\n",
    "\n",
    "#         if _!=0 and _%100==0:\n",
    "#             loss_step = tr_loss/nb_tr_steps\n",
    "#             accu_step = (n_correct*100)/nb_tr_examples\n",
    "#             print(f\"Training Loss per 100 steps: {loss_step}\")\n",
    "#             print(f\"Training Accuracy per 100 steps: {accu_step}\")\n",
    "\n",
    "#         loss.backward()\n",
    "#         optimizer.step()\n",
    "\n",
    "#     print(f'The Total Accuracy for Epoch {epoch}: {(n_correct*100)/nb_tr_examples}')\n",
    "#     epoch_loss = tr_loss/nb_tr_steps\n",
    "#     epoch_accu = (n_correct*100)/nb_tr_examples\n",
    "#     print(f\"Training Loss Epoch: {epoch_loss}\")\n",
    "#     print(f\"Training Accuracy Epoch: {epoch_accu}\")\n",
    "\n",
    "#     return"
   ]
  },
  {
   "cell_type": "code",
   "execution_count": 19,
   "metadata": {
    "executionInfo": {
     "elapsed": 5,
     "status": "ok",
     "timestamp": 1697639306274,
     "user": {
      "displayName": "Giandomenico SOLIMANDO",
      "userId": "03891575848656317834"
     },
     "user_tz": -120
    },
    "id": "IaGJgNCn0abR"
   },
   "outputs": [],
   "source": [
    "# def valid(model, testing_loader):\n",
    "#     model.eval()\n",
    "#     n_correct = 0\n",
    "#     n_wrong = 0\n",
    "#     total = 0\n",
    "#     tr_loss = 0\n",
    "#     nb_tr_steps = 0\n",
    "#     nb_tr_examples = 0\n",
    "#     with torch.no_grad():\n",
    "#         for _, data in enumerate(testing_loader, 0):\n",
    "#             ids = data['ids'].to(device, dtype = torch.long)\n",
    "#             mask = data['mask'].to(device, dtype = torch.long)\n",
    "#             targets = data['targets'].to(device, dtype = torch.long)\n",
    "#             outputs = model(ids, attention_mask=mask, labels=targets)\n",
    "#             loss = outputs.loss\n",
    "#             logits = outputs.logits\n",
    "#             tr_loss += loss\n",
    "#             big_val, big_idx = torch.max(logits, dim=1)\n",
    "#             n_correct += calcuate_accu(big_idx, targets)\n",
    "\n",
    "#             nb_tr_steps += 1\n",
    "#             nb_tr_examples+=targets.size(0)\n",
    "\n",
    "#             if _!=0 and _%100==0:\n",
    "#                 loss_step = tr_loss/nb_tr_steps\n",
    "#                 accu_step = (n_correct*100)/nb_tr_examples\n",
    "#                 print(f\"Validation Loss per 100 steps: {loss_step}\")\n",
    "#                 print(f\"Validation Accuracy per 100 steps: {accu_step}\")\n",
    "#     epoch_loss = tr_loss/nb_tr_steps\n",
    "#     epoch_accu = (n_correct*100)/nb_tr_examples\n",
    "#     print(f\"Validation Loss Epoch: {epoch_loss}\")\n",
    "#     print(f\"Validation Accuracy Epoch: {epoch_accu}\")\n",
    "\n",
    "#     return epoch_accu\n"
   ]
  },
  {
   "cell_type": "code",
   "execution_count": 20,
   "metadata": {
    "executionInfo": {
     "elapsed": 4,
     "status": "ok",
     "timestamp": 1697639306274,
     "user": {
      "displayName": "Giandomenico SOLIMANDO",
      "userId": "03891575848656317834"
     },
     "user_tz": -120
    },
    "id": "6z5emHUB0abR",
    "scrolled": true
   },
   "outputs": [],
   "source": [
    "# for epoch in range(EPOCHS):\n",
    "#     train(epoch)"
   ]
  },
  {
   "cell_type": "code",
   "execution_count": 21,
   "metadata": {
    "executionInfo": {
     "elapsed": 488,
     "status": "ok",
     "timestamp": 1697639306758,
     "user": {
      "displayName": "Giandomenico SOLIMANDO",
      "userId": "03891575848656317834"
     },
     "user_tz": -120
    },
    "id": "68WdlUj20abR",
    "scrolled": true
   },
   "outputs": [],
   "source": [
    "# acc = valid(model, testing_loader)\n",
    "# print(\"Accuracy on validation data = %0.2f%%\" % acc)"
   ]
  },
  {
   "cell_type": "code",
   "execution_count": 22,
   "metadata": {
    "executionInfo": {
     "elapsed": 5,
     "status": "ok",
     "timestamp": 1697639306758,
     "user": {
      "displayName": "Giandomenico SOLIMANDO",
      "userId": "03891575848656317834"
     },
     "user_tz": -120
    },
    "id": "ckxGbmtR0abR"
   },
   "outputs": [],
   "source": [
    "# # Save the model\n",
    "# output_model_file = path + 'FakeRoberta/models/ft-roberta-amazonreviews.pt'\n",
    "\n",
    "# model_to_save = model\n",
    "# torch.save(model_to_save, output_model_file)\n",
    "\n",
    "# print('All files saved')"
   ]
  },
  {
   "cell_type": "markdown",
   "metadata": {
    "id": "biJmPRxY0abS"
   },
   "source": [
    "#### Inference"
   ]
  },
  {
   "cell_type": "code",
   "execution_count": 3,
   "metadata": {
    "executionInfo": {
     "elapsed": 4,
     "status": "ok",
     "timestamp": 1697639306758,
     "user": {
      "displayName": "Giandomenico SOLIMANDO",
      "userId": "03891575848656317834"
     },
     "user_tz": -120
    },
    "id": "1tMypBKs0abS"
   },
   "outputs": [],
   "source": [
    "from transformers import RobertaForSequenceClassification, RobertaTokenizer\n",
    "import torch"
   ]
  },
  {
   "cell_type": "code",
   "execution_count": 4,
   "metadata": {
    "executionInfo": {
     "elapsed": 4,
     "status": "ok",
     "timestamp": 1697639306758,
     "user": {
      "displayName": "Giandomenico SOLIMANDO",
      "userId": "03891575848656317834"
     },
     "user_tz": -120
    },
    "id": "eROBVN9m0abS"
   },
   "outputs": [],
   "source": [
    "# model_name = \"roberta-base\"\n",
    "# tokenizer = RobertaTokenizer.from_pretrained(model_name)"
   ]
  },
  {
   "cell_type": "code",
   "execution_count": 25,
   "metadata": {
    "executionInfo": {
     "elapsed": 4,
     "status": "ok",
     "timestamp": 1697639306758,
     "user": {
      "displayName": "Giandomenico SOLIMANDO",
      "userId": "03891575848656317834"
     },
     "user_tz": -120
    },
    "id": "qoLaqeDmLQm3"
   },
   "outputs": [],
   "source": [
    "# import os\n",
    "# print(os.getcwd())"
   ]
  },
  {
   "cell_type": "code",
   "execution_count": 26,
   "metadata": {
    "executionInfo": {
     "elapsed": 4,
     "status": "ok",
     "timestamp": 1697639306758,
     "user": {
      "displayName": "Giandomenico SOLIMANDO",
      "userId": "03891575848656317834"
     },
     "user_tz": -120
    },
    "id": "ETwmPW2Q0abS"
   },
   "outputs": [],
   "source": [
    "# model = torch.load(path + 'FakeRoberta/models/ft-roberta-amazonreviews.pt')"
   ]
  },
  {
   "cell_type": "code",
   "execution_count": 27,
   "metadata": {
    "executionInfo": {
     "elapsed": 4,
     "status": "ok",
     "timestamp": 1697639306758,
     "user": {
      "displayName": "Giandomenico SOLIMANDO",
      "userId": "03891575848656317834"
     },
     "user_tz": -120
    },
    "id": "fqq9fPOS0abS"
   },
   "outputs": [],
   "source": [
    "# device=\"cuda\"\n",
    "# query = \"\"\"I work in the wedding industry and have to work long days, on my feet, outside in the heat, and have to look professional. I've spent a ridiculous amount of money on high end dress shoes like Merrels and just have not been able to find a pair that are comfortable to wear all day. Both for my feet and my back. Enter the Sanuk yoga sling!!! These shoes are amazingly comfortable. Though, I will admit it took a few wears to get used to the feel of the yoga matte bottom. At first, it felt a little \"sticky\" to me, and the fabric part that goes through the toe area was a little thick and took some getting used to. I wore them for a few days before taking them out on a job and I can't get over how comfortable they are. Ii have been wearing these shoes now for 3 months, every work day and I am THRILLED. No more back pain, no more sore feet. I also wear these sometimes during my off time,mans every time I wear them, I get compliments on how cute and comfortable they look. The great thing about these shoes is the yoga matte bottom. It helps your feet grip to the shoe a bit, so your foot can just walk normally, without having to grip the shoe. You may not realize it, but with a lot of Sandals, your foot is having to work to keep the shoe on, changing the way you walk and stand and ultimately causing foot and back pain. Not with these! Also, the soft linen sits comfortably on your skin and breathes nicely in the heat. The only downside is the funky tan lines, which is why I am sure to alternate shoes on my days off, especially if I plan to be outside for most of the day. If it were not for that, I think these might be the only shoes I'd wear all summer. If you are looking for a reasonable priced, comfortable shoe that you can wear and walk in all day.\"\"\"\n",
    "# tokens = tokenizer.encode(query,return_tensors=\"pt\")\n",
    "# all_tokens = len(tokens)\n",
    "# mask = torch.ones_like(tokens)\n",
    "\n",
    "# with torch.no_grad():\n",
    "#     logits = model(tokens.to(device), attention_mask=mask.to(device))[0]\n",
    "#     probs = logits.softmax(dim=-1)\n",
    "\n",
    "# fake, real = probs.detach().cpu().flatten().numpy().tolist()\n",
    "\n",
    "# print(f\"Real Probability: {real}\\nFake Probability: {fake}\")"
   ]
  },
  {
   "cell_type": "code",
   "execution_count": 28,
   "metadata": {
    "executionInfo": {
     "elapsed": 4,
     "status": "ok",
     "timestamp": 1697639306758,
     "user": {
      "displayName": "Giandomenico SOLIMANDO",
      "userId": "03891575848656317834"
     },
     "user_tz": -120
    },
    "id": "Ya6LnMWh0abS"
   },
   "outputs": [],
   "source": [
    "# device=\"cuda\"\n",
    "# query = \"\"\"My old bet was wearing this to the Macy's in January.  This is the first one I've ever had.  I am a 32D, and the first pair I bought were just a little tight.  I'm a bit disappointed.  This is my second pair.  I'm looking forward to wearing them to the Macy's in the fall.  I like the way they look.Love these!These are my favorite.  I have a hard time finding jeans that fit me comfortably, but I have a hard time finding jeans that don't fit.  These jeans are super comfortable and have a great price point.  I have some great jeans to wear for work, but these are the only jeans that I wear for work or for my family.  I will be buying more!  I have a lot of compliments on them.I love these shoes. I love the color and the fit. They fit my body well and are comfortable. I have a wide foot and these fit me well.\n",
    "\n",
    "# I'm 5'4\", 130lbs and these fit well. I would recommend them.I wear a size 11.5 in jeans and this fits perfect. I have a narrow foot and this fits perfect. It is very comfortable and fits great. I bought a small and it fit perfectly. I will order another size up.I bought these for my husband, he loves them and he loves them!This is the best pair of sunglasses for the price!  They are so comfortable and easy to use.  I wear them all the time and they don't hurt my feet.  I wear them everyday and my feet are so happy with them!\"\"\"\n",
    "# tokens = tokenizer.encode(query,return_tensors=\"pt\")\n",
    "# all_tokens = len(tokens[0])\n",
    "# mask = torch.ones_like(tokens)\n",
    "\n",
    "# with torch.no_grad():\n",
    "#     logits = model(tokens.to(device), attention_mask=mask.to(device))[0]\n",
    "#     probs = logits.softmax(dim=-1)\n",
    "\n",
    "# fake, real = probs.detach().cpu().flatten().numpy().tolist()\n",
    "\n",
    "# print(f\"Real Probability: {real}\\nFake Probability: {fake}\")"
   ]
  },
  {
   "cell_type": "code",
   "execution_count": 29,
   "metadata": {
    "executionInfo": {
     "elapsed": 4,
     "status": "ok",
     "timestamp": 1697639306758,
     "user": {
      "displayName": "Giandomenico SOLIMANDO",
      "userId": "03891575848656317834"
     },
     "user_tz": -120
    },
    "id": "ARtJEdhd0abS"
   },
   "outputs": [],
   "source": [
    "# def predict(query, model, tokenizer, device=\"cuda\"):\n",
    "#     tokens = tokenizer.encode(query)\n",
    "#     all_tokens = len(tokens)\n",
    "#     tokens = tokens[:tokenizer.model_max_length - 2]\n",
    "#     used_tokens = len(tokens)\n",
    "#     tokens = torch.tensor([tokenizer.bos_token_id] + tokens + [tokenizer.eos_token_id]).unsqueeze(0)\n",
    "#     mask = torch.ones_like(tokens)\n",
    "\n",
    "#     with torch.no_grad():\n",
    "#         logits = model(tokens.to(device), attention_mask=mask.to(device))[0]\n",
    "#         probs = logits.softmax(dim=-1)\n",
    "\n",
    "#     fake, real = probs.detach().cpu().flatten().numpy().tolist()\n",
    "#     return real"
   ]
  },
  {
   "cell_type": "code",
   "execution_count": 30,
   "metadata": {
    "executionInfo": {
     "elapsed": 4,
     "status": "ok",
     "timestamp": 1697639306758,
     "user": {
      "displayName": "Giandomenico SOLIMANDO",
      "userId": "03891575848656317834"
     },
     "user_tz": -120
    },
    "id": "c5QYnB8B0abS"
   },
   "outputs": [],
   "source": [
    "# query = \"\"\"I work in the wedding industry and have to work long days, on my feet, outside in the heat, and have to look professional. I've spent a ridiculous amount of money on high end dress shoes like Merrels and just have not been able to find a pair that are comfortable to wear all day. Both for my feet and my back. Enter the Sanuk yoga sling!!! These shoes are amazingly comfortable. Though, I will admit it took a few wears to get used to the feel of the yoga matte bottom. At first, it felt a little \"sticky\" to me, and the fabric part that goes through the toe area was a little thick and took some getting used to. I wore them for a few days before taking them out on a job and I can't get over how comfortable they are. Ii have been wearing these shoes now for 3 months, every work day and I am THRILLED. No more back pain, no more sore feet. I also wear these sometimes during my off time,mans every time I wear them, I get compliments on how cute and comfortable they look. The great thing about these shoes is the yoga matte bottom. It helps your feet grip to the shoe a bit, so your foot can just walk normally, without having to grip the shoe. You may not realize it, but with a lot of Sandals, your foot is having to work to keep the shoe on, changing the way you walk and stand and ultimately causing foot and back pain. Not with these! Also, the soft linen sits comfortably on your skin and breathes nicely in the heat. The only downside is the funky tan lines, which is why I am sure to alternate shoes on my days off, especially if I plan to be outside for most of the day. If it were not for that, I think these might be the only shoes I'd wear all summer. If you are looking for a reasonable priced, comfortable shoe that you can wear and walk in all day.\"\"\"\n",
    "# predict(query,model,tokenizer)"
   ]
  },
  {
   "cell_type": "code",
   "execution_count": 31,
   "metadata": {
    "executionInfo": {
     "elapsed": 3,
     "status": "ok",
     "timestamp": 1697639306758,
     "user": {
      "displayName": "Giandomenico SOLIMANDO",
      "userId": "03891575848656317834"
     },
     "user_tz": -120
    },
    "id": "MiWCEh4k0abS"
   },
   "outputs": [],
   "source": [
    "# preds, preds_probas = [],[]\n",
    "# for i, row in valid_dataset.iterrows():\n",
    "#     query = row[\"text_\"]\n",
    "#     pred = predict(query,model,tokenizer)\n",
    "#     preds_probas.append(pred)\n",
    "#     if pred >= 0.5:\n",
    "#         preds.append(1)\n",
    "#     else:\n",
    "#         preds.append(0)"
   ]
  },
  {
   "cell_type": "code",
   "execution_count": 32,
   "metadata": {
    "executionInfo": {
     "elapsed": 3,
     "status": "ok",
     "timestamp": 1697639306758,
     "user": {
      "displayName": "Giandomenico SOLIMANDO",
      "userId": "03891575848656317834"
     },
     "user_tz": -120
    },
    "id": "-0wSvy9n0abT"
   },
   "outputs": [],
   "source": [
    "# from sklearn.metrics import confusion_matrix\n",
    "# y_true = valid_dataset.target.values\n",
    "# y_pred = preds\n",
    "# confusion_matrix(y_true,y_pred)"
   ]
  },
  {
   "cell_type": "code",
   "execution_count": 33,
   "metadata": {
    "executionInfo": {
     "elapsed": 3,
     "status": "ok",
     "timestamp": 1697639306758,
     "user": {
      "displayName": "Giandomenico SOLIMANDO",
      "userId": "03891575848656317834"
     },
     "user_tz": -120
    },
    "id": "ae4aVriK0abT"
   },
   "outputs": [],
   "source": [
    "# from sklearn.metrics import accuracy_score, precision_score, recall_score, classification_report\n",
    "# acc = accuracy_score(y_true,y_pred)\n",
    "# precision = precision_score(y_true,y_pred)\n",
    "# recall = recall_score(y_true,y_pred)"
   ]
  },
  {
   "cell_type": "code",
   "execution_count": 34,
   "metadata": {
    "executionInfo": {
     "elapsed": 3,
     "status": "ok",
     "timestamp": 1697639306758,
     "user": {
      "displayName": "Giandomenico SOLIMANDO",
      "userId": "03891575848656317834"
     },
     "user_tz": -120
    },
    "id": "PR4ghRDB0abT"
   },
   "outputs": [],
   "source": [
    "# print(f\"Accuracy: {acc*100}; Precision:{precision*100}; Recall:{recall*100}\")"
   ]
  },
  {
   "cell_type": "code",
   "execution_count": 35,
   "metadata": {
    "executionInfo": {
     "elapsed": 3,
     "status": "ok",
     "timestamp": 1697639306758,
     "user": {
      "displayName": "Giandomenico SOLIMANDO",
      "userId": "03891575848656317834"
     },
     "user_tz": -120
    },
    "id": "qskiVyvA0abT"
   },
   "outputs": [],
   "source": [
    "# print(classification_report(y_true, y_pred, target_names=[\"CG\",\"OR\"]))"
   ]
  },
  {
   "cell_type": "markdown",
   "metadata": {
    "id": "dXZY9tJp0abT"
   },
   "source": [
    "#### Writing predictions to disc"
   ]
  },
  {
   "cell_type": "code",
   "execution_count": 36,
   "metadata": {
    "executionInfo": {
     "elapsed": 4,
     "status": "ok",
     "timestamp": 1697639306759,
     "user": {
      "displayName": "Giandomenico SOLIMANDO",
      "userId": "03891575848656317834"
     },
     "user_tz": -120
    },
    "id": "xv_YuSYT0abT"
   },
   "outputs": [],
   "source": [
    "# preds_df_rows = []\n",
    "# for i, row in valid_dataset.iterrows():\n",
    "#     query = row[\"text_\"]\n",
    "#     pred_prob = preds_probas[i]\n",
    "#     pred_label = preds[i]\n",
    "#     preds_df_rows.append([pred_prob,pred_label])\n",
    "# preds_df = pd.DataFrame(preds_df_rows, columns=[\"Finetune_Roberta_Model_Probability\",\"Finetune_Roberta_Model_Prediction\"])"
   ]
  },
  {
   "cell_type": "code",
   "execution_count": 37,
   "metadata": {
    "executionInfo": {
     "elapsed": 4,
     "status": "ok",
     "timestamp": 1697639306759,
     "user": {
      "displayName": "Giandomenico SOLIMANDO",
      "userId": "03891575848656317834"
     },
     "user_tz": -120
    },
    "id": "v5ajnnQl0abT"
   },
   "outputs": [],
   "source": [
    "# preds_df.to_csv(path + \"FakeRoberta/Result/ft_roberta_predictions.csv\", index=None)"
   ]
  },
  {
   "cell_type": "markdown",
   "metadata": {
    "id": "LdQ5fkXc28H5"
   },
   "source": [
    "# LLM Data\n"
   ]
  },
  {
   "cell_type": "code",
   "execution_count": 38,
   "metadata": {
    "executionInfo": {
     "elapsed": 4,
     "status": "ok",
     "timestamp": 1697639306759,
     "user": {
      "displayName": "Giandomenico SOLIMANDO",
      "userId": "03891575848656317834"
     },
     "user_tz": -120
    },
    "id": "mhlWvZP90abT"
   },
   "outputs": [],
   "source": [
    "from torch import cuda\n",
    "device = 'cuda' if cuda.is_available() else 'cpu'"
   ]
  },
  {
   "cell_type": "code",
   "execution_count": 39,
   "metadata": {
    "executionInfo": {
     "elapsed": 3,
     "status": "ok",
     "timestamp": 1697639306759,
     "user": {
      "displayName": "Giandomenico SOLIMANDO",
      "userId": "03891575848656317834"
     },
     "user_tz": -120
    },
    "id": "uVTWmdSM3OYQ"
   },
   "outputs": [],
   "source": [
    "from transformers import RobertaForSequenceClassification, RobertaTokenizer\n",
    "import torch\n",
    "from sklearn.metrics import confusion_matrix\n",
    "from sklearn.metrics import accuracy_score, precision_score, recall_score, classification_report,f1_score"
   ]
  },
  {
   "cell_type": "code",
   "execution_count": 40,
   "metadata": {
    "executionInfo": {
     "elapsed": 3,
     "status": "ok",
     "timestamp": 1697639306759,
     "user": {
      "displayName": "Giandomenico SOLIMANDO",
      "userId": "03891575848656317834"
     },
     "user_tz": -120
    },
    "id": "UGV0sa2rLqiW"
   },
   "outputs": [],
   "source": [
    "drive = \"/content/drive/MyDrive/2. Pubblicazioni/3. In Corso/2. Identifying Fake Reviews for Refund Purposes/4. comparative evaluation among PARROT and state-of-the-art models/FakeRoberta/\""
   ]
  },
  {
   "cell_type": "code",
   "execution_count": 41,
   "metadata": {
    "colab": {
     "base_uri": "https://localhost:8080/",
     "height": 145,
     "referenced_widgets": [
      "2e3a6154acd8448ca9774bc27787bd15",
      "a1cdb00f7f2145819bd6fbf15ae43ca8",
      "d686410867cb49fdaf5155b198880eb5",
      "adfd398276a7405f890b7eb31a33a260",
      "4a5bdaa9213043c89c019ede26ddfcc9",
      "c7f7ec57edee486184c7fbc700faf3f7",
      "05255c187a4446d7bfeddac18172c8a7",
      "23c12a3ff1d14fb49e14d465cc93a537",
      "aa4234c623cd402a91dbe071a827126c",
      "145a54531aa940c58d993d70d025a29d",
      "f1f875abdae44998ac239efbed40b3d9",
      "ef32bb2f6b0a41809f32b81b24a31b95",
      "565b0f3a8ec14df28fd30174745e973a",
      "6bb705b17aca441da867ec6d950d51e7",
      "f8e3aad541ad49208ad279968e3a0c3b",
      "3fbdbd92cd7742f1997b56469c06ad08",
      "c2d177af0f104525b7bd67c3d5015ee7",
      "a9b80129c20243469ca753de6d0f0fd5",
      "b6fab005aff74dbb8f30e15cff90e30c",
      "8cb07c24ad404fc9b83580488d666c85",
      "61f46e1628d44ab8a486b44915dd318b",
      "5bae730878e14749aab1f7eda659d959",
      "84900a27fe57436f9c36da4d138baf86",
      "8e7c7d503b4c44f0a8dd4b32879707ce",
      "3063e333b9824d62abf790a94dd791fb",
      "fb08e534226749b694206999718fc696",
      "e332e5bb031445b9835005af43289437",
      "57f434f41f8d4bae81de5bb82a470e17",
      "7bed140707f74e39862ab06905ba5d71",
      "61f8d501db1a42bdb2a3c8171998c454",
      "8fabc79e0977410c9273c3d55ac3b082",
      "2bc1dee178744941aa9a6c36b115bfdd",
      "0aa44124b35f4fd183542a88583c7ad6",
      "cfdaeb66a4ea494c9821b7c24fd184fb",
      "90994dc5fbdf435498b43a912e6f9f54",
      "d7291f53e8734a0a9279cbe061a1394f",
      "5d0fb76cde1445e8b13db426557030e5",
      "507f7c548e914185b3d636b22943427b",
      "2cfb54729adf42f4baa78abeb49f5a68",
      "1e3f1ba586cb4c08854f84be9f1486d9",
      "7e7a049d64094b1bb68d557bc3148438",
      "5b5290a54584430795438667778eeddc",
      "8ca787df799f4e5e83677b0055fd4198",
      "6c0824c73212442fb507104f939c5abe"
     ]
    },
    "executionInfo": {
     "elapsed": 32997,
     "status": "ok",
     "timestamp": 1697639339753,
     "user": {
      "displayName": "Giandomenico SOLIMANDO",
      "userId": "03891575848656317834"
     },
     "user_tz": -120
    },
    "id": "x9SBJ9g53Ct5",
    "outputId": "55fb2cba-a5d5-434b-b6f7-35939d6502c6"
   },
   "outputs": [
    {
     "data": {
      "application/vnd.jupyter.widget-view+json": {
       "model_id": "2e3a6154acd8448ca9774bc27787bd15",
       "version_major": 2,
       "version_minor": 0
      },
      "text/plain": [
       "Downloading (…)olve/main/vocab.json:   0%|          | 0.00/899k [00:00<?, ?B/s]"
      ]
     },
     "metadata": {},
     "output_type": "display_data"
    },
    {
     "data": {
      "application/vnd.jupyter.widget-view+json": {
       "model_id": "ef32bb2f6b0a41809f32b81b24a31b95",
       "version_major": 2,
       "version_minor": 0
      },
      "text/plain": [
       "Downloading (…)olve/main/merges.txt:   0%|          | 0.00/456k [00:00<?, ?B/s]"
      ]
     },
     "metadata": {},
     "output_type": "display_data"
    },
    {
     "data": {
      "application/vnd.jupyter.widget-view+json": {
       "model_id": "84900a27fe57436f9c36da4d138baf86",
       "version_major": 2,
       "version_minor": 0
      },
      "text/plain": [
       "Downloading (…)/main/tokenizer.json:   0%|          | 0.00/1.36M [00:00<?, ?B/s]"
      ]
     },
     "metadata": {},
     "output_type": "display_data"
    },
    {
     "data": {
      "application/vnd.jupyter.widget-view+json": {
       "model_id": "cfdaeb66a4ea494c9821b7c24fd184fb",
       "version_major": 2,
       "version_minor": 0
      },
      "text/plain": [
       "Downloading (…)lve/main/config.json:   0%|          | 0.00/481 [00:00<?, ?B/s]"
      ]
     },
     "metadata": {},
     "output_type": "display_data"
    }
   ],
   "source": [
    "model = torch.load(drive+'models/ft-roberta-amazonreviews.pt')\n",
    "model_name = \"roberta-base\"\n",
    "tokenizer = RobertaTokenizer.from_pretrained(model_name)"
   ]
  },
  {
   "cell_type": "code",
   "execution_count": 42,
   "metadata": {
    "executionInfo": {
     "elapsed": 393,
     "status": "ok",
     "timestamp": 1697639340144,
     "user": {
      "displayName": "Giandomenico SOLIMANDO",
      "userId": "03891575848656317834"
     },
     "user_tz": -120
    },
    "id": "DMz0atIu3RnR"
   },
   "outputs": [],
   "source": [
    "def predict(query, model, tokenizer, device=\"cuda\"):\n",
    "    tokens = tokenizer.encode(query)\n",
    "    all_tokens = len(tokens)\n",
    "    tokens = tokens[:tokenizer.model_max_length - 2]\n",
    "    used_tokens = len(tokens)\n",
    "    tokens = torch.tensor([tokenizer.bos_token_id] + tokens + [tokenizer.eos_token_id]).unsqueeze(0)\n",
    "    mask = torch.ones_like(tokens)\n",
    "\n",
    "    with torch.no_grad():\n",
    "        logits = model(tokens.to(device), attention_mask=mask.to(device))[0]\n",
    "        probs = logits.softmax(dim=-1)\n",
    "\n",
    "    fake, real = probs.detach().cpu().flatten().numpy().tolist()\n",
    "    return real"
   ]
  },
  {
   "cell_type": "code",
   "execution_count": 43,
   "metadata": {
    "executionInfo": {
     "elapsed": 3,
     "status": "ok",
     "timestamp": 1697639340144,
     "user": {
      "displayName": "Giandomenico SOLIMANDO",
      "userId": "03891575848656317834"
     },
     "user_tz": -120
    },
    "id": "o_kNzhJDLQm-"
   },
   "outputs": [],
   "source": [
    "import os\n",
    "import sys"
   ]
  },
  {
   "cell_type": "code",
   "execution_count": null,
   "metadata": {
    "executionInfo": {
     "elapsed": 278,
     "status": "ok",
     "timestamp": 1697639405799,
     "user": {
      "displayName": "Giandomenico SOLIMANDO",
      "userId": "03891575848656317834"
     },
     "user_tz": -120
    },
    "id": "UKqQuECPLQm_"
   },
   "outputs": [],
   "source": [
    "def metrics(df, llm, preds_probas,preds):\n",
    "    y_true = df.label.values\n",
    "    y_pred = preds\n",
    "\n",
    "    # Create the evaluation report.\n",
    "    evaluation_report = classification_report(y_true, y_pred, labels=[0,1], target_names=[\"Real\",\"Fake\"])\n",
    "\n",
    "    confusion_matrix(y_true,y_pred)\n",
    "    acc = accuracy_score(y_true,y_pred)\n",
    "    precision = precision_score(y_true,y_pred,labels=[\"Real\",\"Fake\"])\n",
    "    recall = recall_score(y_true,y_pred,labels=[\"Real\",\"Fake\"])\n",
    "    f1_s = f1_score(y_true,y_pred,labels=[\"Real\",\"Fake\"])\n",
    "\n",
    "    print(f\"\\nReport: {evaluation_report}\\nAccuracy: {acc*100}; Precision:{precision*100}; Recall:{recall*100}; f1_score:{f1_s}\")\n",
    "\n",
    "    with open(f\"{drive}Result/Dataset_{llm}/roberta_predictions_{llm}.txt\", \"w\") as f:\n",
    "        # f.write(classification_report(y_true, y_pred, labels=[\"Real\",\"Fake\"]))\n",
    "        f.write(f\"{evaluation_report}\\nMetrics:\\nAccuracy_score: {acc}\\nPrecision_score: {precision}\\nRecall_score: {recall}\\nF1_Score: {f1_s}\")\n",
    "\n",
    "    preds_df_rows = []\n",
    "\n",
    "    for i, row in df.iterrows():\n",
    "        query = row[\"content\"]\n",
    "        pred_prob = preds_probas[i]\n",
    "        pred_label = preds[i]\n",
    "        preds_df_rows.append([row[\"ID\"],row[\"label\"],pred_prob,pred_label])\n",
    "\n",
    "    preds_df = pd.DataFrame(preds_df_rows, columns=[\"ID\",\"Original_Label\",\"Finetune_Roberta_Model_Probability\",\"Finetune_Roberta_Model_Prediction\"])\n",
    "    preds_df.to_csv(f\"{drive}Result/Dataset_{llm}/roberta_predictions_{llm}.csv\", index=None)"
   ]
  },
  {
   "cell_type": "code",
   "execution_count": 45,
   "metadata": {
    "executionInfo": {
     "elapsed": 3,
     "status": "ok",
     "timestamp": 1697639340144,
     "user": {
      "displayName": "Giandomenico SOLIMANDO",
      "userId": "03891575848656317834"
     },
     "user_tz": -120
    },
    "id": "w4RHdQHu39zR"
   },
   "outputs": [],
   "source": [
    "def answer(df,llm):\n",
    "\n",
    "  ammount = df.shape[0]\n",
    "\n",
    "  ID = \"\"\n",
    "  Title = \"\"\n",
    "  Cont =\"\"\n",
    "  label = \"\"\n",
    "  count_row= 1\n",
    "  start = 0\n",
    "  preds, preds_probas = [],[]\n",
    "  for i,r in df.iterrows():\n",
    "    try:\n",
    "      if i>= start:\n",
    "            ID = r[\"ID\"]\n",
    "            Title = r[\"Title\"]\n",
    "            Cont = r[\"content\"]\n",
    "            label = r[\"label\"]\n",
    "\n",
    "            query = r[\"content\"]\n",
    "            pred = predict(query,model,tokenizer)\n",
    "            preds_probas.append(pred)\n",
    "            if pred >= 0.5:\n",
    "                preds.append(1)\n",
    "            else:\n",
    "                preds.append(0)\n",
    "\n",
    "            sys.stdout.write(\n",
    "            \"\\r \"+llm+\" Done %i/%i                                \" % (count_row, ammount))\n",
    "            sys.stdout.flush()\n",
    "            count_row = count_row + 1\n",
    "    except Exception as e:\n",
    "        print(f\"Restart: Index:{i}\\nID:{ID},\\nTitle:{Title},\\nContenuto:{Cont},\\nLabel:{label}\")\n",
    "        print(f\"Index for restart: {i}\\n\")\n",
    "        print(e)\n",
    "\n",
    "  metrics(df=df, llm=llm,preds_probas= preds_probas,preds=preds)"
   ]
  },
  {
   "cell_type": "code",
   "execution_count": 46,
   "metadata": {
    "executionInfo": {
     "elapsed": 3,
     "status": "ok",
     "timestamp": 1697639340144,
     "user": {
      "displayName": "Giandomenico SOLIMANDO",
      "userId": "03891575848656317834"
     },
     "user_tz": -120
    },
    "id": "sCjdyF7PMl2_"
   },
   "outputs": [],
   "source": [
    "import random\n",
    "\n",
    "def shuffle(df):\n",
    "    num_rows = df.shape[0]\n",
    "\n",
    "    # Generate random indices\n",
    "    random_indices = random.sample(range(num_rows), num_rows)\n",
    "\n",
    "    # Shuffle dataframe rows based on random indices\n",
    "    df = df.loc[random_indices]\n",
    "\n",
    "    return df"
   ]
  },
  {
   "cell_type": "code",
   "execution_count": 49,
   "metadata": {
    "colab": {
     "base_uri": "https://localhost:8080/"
    },
    "executionInfo": {
     "elapsed": 135283,
     "status": "ok",
     "timestamp": 1697639543467,
     "user": {
      "displayName": "Giandomenico SOLIMANDO",
      "userId": "03891575848656317834"
     },
     "user_tz": -120
    },
    "id": "5qc2lF6s4HlA",
    "outputId": "eb5cd9f3-596d-401e-dc8a-7f54e6398f2d"
   },
   "outputs": [
    {
     "name": "stdout",
     "output_type": "stream",
     "text": [
      " BARD Done 1736/1736                                \n",
      "Report:               precision    recall  f1-score   support\n",
      "\n",
      "        Real       0.01      0.01      0.01       868\n",
      "        Fake       0.31      0.46      0.37       868\n",
      "\n",
      "    accuracy                           0.23      1736\n",
      "   macro avg       0.16      0.23      0.19      1736\n",
      "weighted avg       0.16      0.23      0.19      1736\n",
      "\n",
      "Accuracy: 23.099078341013826; Precision:31.424025457438344; Recall:45.50691244239631; f1_score:0.37176470588235294\n",
      "\n",
      "\n",
      "BARD DONE\n",
      "\n",
      "\n",
      " CLAUDE Done 1736/1736                                \n",
      "Report:               precision    recall  f1-score   support\n",
      "\n",
      "        Real       0.46      0.01      0.01       868\n",
      "        Fake       0.50      0.99      0.66       868\n",
      "\n",
      "    accuracy                           0.50      1736\n",
      "   macro avg       0.48      0.50      0.34      1736\n",
      "weighted avg       0.48      0.50      0.34      1736\n",
      "\n",
      "Accuracy: 49.94239631336406; Precision:49.97098084735926; Recall:99.19354838709677; f1_score:0.6646082593593208\n",
      "\n",
      "\n",
      "CLAUDE DONE\n",
      "\n",
      "\n",
      " GPT Done 1736/1736                                \n",
      "Report:               precision    recall  f1-score   support\n",
      "\n",
      "        Real       0.03      0.01      0.01       868\n",
      "        Fake       0.43      0.76      0.55       868\n",
      "\n",
      "    accuracy                           0.38      1736\n",
      "   macro avg       0.23      0.38      0.28      1736\n",
      "weighted avg       0.23      0.38      0.28      1736\n",
      "\n",
      "Accuracy: 38.24884792626728; Precision:43.28947368421053; Recall:75.80645161290323; f1_score:0.5510887772194305\n",
      "\n",
      "\n",
      "GPT DONE\n",
      "\n",
      "\n",
      " LAMA Done 1736/1736                                \n",
      "Report:               precision    recall  f1-score   support\n",
      "\n",
      "        Real       0.01      0.01      0.01       868\n",
      "        Fake       0.32      0.47      0.38       868\n",
      "\n",
      "    accuracy                           0.24      1736\n",
      "   macro avg       0.17      0.24      0.19      1736\n",
      "weighted avg       0.17      0.24      0.19      1736\n",
      "\n",
      "Accuracy: 23.790322580645164; Precision:32.07249802994484; Recall:46.88940092165899; f1_score:0.38090781469349555\n",
      "\n",
      "\n",
      "LAMA DONE\n",
      "\n",
      "\n"
     ]
    }
   ],
   "source": [
    "LLMs = [\"BARD\", \"CLAUDE\", \"GPT\", \"LAMA\"]\n",
    "\n",
    "\n",
    "for llm in LLMs:\n",
    "    df = shuffle(pd.read_csv(f\"/content/drive/MyDrive/2. Pubblicazioni/3. In Corso/2. Identifying Fake Reviews for Refund Purposes/4. comparative evaluation among PARROT and state-of-the-art models/Dataset/dataset_{llm}_recensioni_generate_eng.csv\", sep=';', encoding = \"ISO-8859-1\"))\n",
    "    answer(df, llm)\n",
    "    print(f\"\\n\\n{llm} DONE\\n\\n\")"
   ]
  }
 ],
 "metadata": {
  "accelerator": "GPU",
  "colab": {
   "provenance": []
  },
  "kernelspec": {
   "display_name": "Laura",
   "language": "python",
   "name": "python3"
  },
  "language_info": {
   "codemirror_mode": {
    "name": "ipython",
    "version": 3
   },
   "file_extension": ".py",
   "mimetype": "text/x-python",
   "name": "python",
   "nbconvert_exporter": "python",
   "pygments_lexer": "ipython3",
   "version": "3.12.8"
  },
  "widgets": {
   "application/vnd.jupyter.widget-state+json": {
    "05255c187a4446d7bfeddac18172c8a7": {
     "model_module": "@jupyter-widgets/controls",
     "model_module_version": "1.5.0",
     "model_name": "DescriptionStyleModel",
     "state": {
      "_model_module": "@jupyter-widgets/controls",
      "_model_module_version": "1.5.0",
      "_model_name": "DescriptionStyleModel",
      "_view_count": null,
      "_view_module": "@jupyter-widgets/base",
      "_view_module_version": "1.2.0",
      "_view_name": "StyleView",
      "description_width": ""
     }
    },
    "0aa44124b35f4fd183542a88583c7ad6": {
     "model_module": "@jupyter-widgets/controls",
     "model_module_version": "1.5.0",
     "model_name": "DescriptionStyleModel",
     "state": {
      "_model_module": "@jupyter-widgets/controls",
      "_model_module_version": "1.5.0",
      "_model_name": "DescriptionStyleModel",
      "_view_count": null,
      "_view_module": "@jupyter-widgets/base",
      "_view_module_version": "1.2.0",
      "_view_name": "StyleView",
      "description_width": ""
     }
    },
    "145a54531aa940c58d993d70d025a29d": {
     "model_module": "@jupyter-widgets/base",
     "model_module_version": "1.2.0",
     "model_name": "LayoutModel",
     "state": {
      "_model_module": "@jupyter-widgets/base",
      "_model_module_version": "1.2.0",
      "_model_name": "LayoutModel",
      "_view_count": null,
      "_view_module": "@jupyter-widgets/base",
      "_view_module_version": "1.2.0",
      "_view_name": "LayoutView",
      "align_content": null,
      "align_items": null,
      "align_self": null,
      "border": null,
      "bottom": null,
      "display": null,
      "flex": null,
      "flex_flow": null,
      "grid_area": null,
      "grid_auto_columns": null,
      "grid_auto_flow": null,
      "grid_auto_rows": null,
      "grid_column": null,
      "grid_gap": null,
      "grid_row": null,
      "grid_template_areas": null,
      "grid_template_columns": null,
      "grid_template_rows": null,
      "height": null,
      "justify_content": null,
      "justify_items": null,
      "left": null,
      "margin": null,
      "max_height": null,
      "max_width": null,
      "min_height": null,
      "min_width": null,
      "object_fit": null,
      "object_position": null,
      "order": null,
      "overflow": null,
      "overflow_x": null,
      "overflow_y": null,
      "padding": null,
      "right": null,
      "top": null,
      "visibility": null,
      "width": null
     }
    },
    "1e3f1ba586cb4c08854f84be9f1486d9": {
     "model_module": "@jupyter-widgets/controls",
     "model_module_version": "1.5.0",
     "model_name": "DescriptionStyleModel",
     "state": {
      "_model_module": "@jupyter-widgets/controls",
      "_model_module_version": "1.5.0",
      "_model_name": "DescriptionStyleModel",
      "_view_count": null,
      "_view_module": "@jupyter-widgets/base",
      "_view_module_version": "1.2.0",
      "_view_name": "StyleView",
      "description_width": ""
     }
    },
    "23c12a3ff1d14fb49e14d465cc93a537": {
     "model_module": "@jupyter-widgets/base",
     "model_module_version": "1.2.0",
     "model_name": "LayoutModel",
     "state": {
      "_model_module": "@jupyter-widgets/base",
      "_model_module_version": "1.2.0",
      "_model_name": "LayoutModel",
      "_view_count": null,
      "_view_module": "@jupyter-widgets/base",
      "_view_module_version": "1.2.0",
      "_view_name": "LayoutView",
      "align_content": null,
      "align_items": null,
      "align_self": null,
      "border": null,
      "bottom": null,
      "display": null,
      "flex": null,
      "flex_flow": null,
      "grid_area": null,
      "grid_auto_columns": null,
      "grid_auto_flow": null,
      "grid_auto_rows": null,
      "grid_column": null,
      "grid_gap": null,
      "grid_row": null,
      "grid_template_areas": null,
      "grid_template_columns": null,
      "grid_template_rows": null,
      "height": null,
      "justify_content": null,
      "justify_items": null,
      "left": null,
      "margin": null,
      "max_height": null,
      "max_width": null,
      "min_height": null,
      "min_width": null,
      "object_fit": null,
      "object_position": null,
      "order": null,
      "overflow": null,
      "overflow_x": null,
      "overflow_y": null,
      "padding": null,
      "right": null,
      "top": null,
      "visibility": null,
      "width": null
     }
    },
    "2bc1dee178744941aa9a6c36b115bfdd": {
     "model_module": "@jupyter-widgets/base",
     "model_module_version": "1.2.0",
     "model_name": "LayoutModel",
     "state": {
      "_model_module": "@jupyter-widgets/base",
      "_model_module_version": "1.2.0",
      "_model_name": "LayoutModel",
      "_view_count": null,
      "_view_module": "@jupyter-widgets/base",
      "_view_module_version": "1.2.0",
      "_view_name": "LayoutView",
      "align_content": null,
      "align_items": null,
      "align_self": null,
      "border": null,
      "bottom": null,
      "display": null,
      "flex": null,
      "flex_flow": null,
      "grid_area": null,
      "grid_auto_columns": null,
      "grid_auto_flow": null,
      "grid_auto_rows": null,
      "grid_column": null,
      "grid_gap": null,
      "grid_row": null,
      "grid_template_areas": null,
      "grid_template_columns": null,
      "grid_template_rows": null,
      "height": null,
      "justify_content": null,
      "justify_items": null,
      "left": null,
      "margin": null,
      "max_height": null,
      "max_width": null,
      "min_height": null,
      "min_width": null,
      "object_fit": null,
      "object_position": null,
      "order": null,
      "overflow": null,
      "overflow_x": null,
      "overflow_y": null,
      "padding": null,
      "right": null,
      "top": null,
      "visibility": null,
      "width": null
     }
    },
    "2cfb54729adf42f4baa78abeb49f5a68": {
     "model_module": "@jupyter-widgets/base",
     "model_module_version": "1.2.0",
     "model_name": "LayoutModel",
     "state": {
      "_model_module": "@jupyter-widgets/base",
      "_model_module_version": "1.2.0",
      "_model_name": "LayoutModel",
      "_view_count": null,
      "_view_module": "@jupyter-widgets/base",
      "_view_module_version": "1.2.0",
      "_view_name": "LayoutView",
      "align_content": null,
      "align_items": null,
      "align_self": null,
      "border": null,
      "bottom": null,
      "display": null,
      "flex": null,
      "flex_flow": null,
      "grid_area": null,
      "grid_auto_columns": null,
      "grid_auto_flow": null,
      "grid_auto_rows": null,
      "grid_column": null,
      "grid_gap": null,
      "grid_row": null,
      "grid_template_areas": null,
      "grid_template_columns": null,
      "grid_template_rows": null,
      "height": null,
      "justify_content": null,
      "justify_items": null,
      "left": null,
      "margin": null,
      "max_height": null,
      "max_width": null,
      "min_height": null,
      "min_width": null,
      "object_fit": null,
      "object_position": null,
      "order": null,
      "overflow": null,
      "overflow_x": null,
      "overflow_y": null,
      "padding": null,
      "right": null,
      "top": null,
      "visibility": null,
      "width": null
     }
    },
    "2e3a6154acd8448ca9774bc27787bd15": {
     "model_module": "@jupyter-widgets/controls",
     "model_module_version": "1.5.0",
     "model_name": "HBoxModel",
     "state": {
      "_dom_classes": [],
      "_model_module": "@jupyter-widgets/controls",
      "_model_module_version": "1.5.0",
      "_model_name": "HBoxModel",
      "_view_count": null,
      "_view_module": "@jupyter-widgets/controls",
      "_view_module_version": "1.5.0",
      "_view_name": "HBoxView",
      "box_style": "",
      "children": [
       "IPY_MODEL_a1cdb00f7f2145819bd6fbf15ae43ca8",
       "IPY_MODEL_d686410867cb49fdaf5155b198880eb5",
       "IPY_MODEL_adfd398276a7405f890b7eb31a33a260"
      ],
      "layout": "IPY_MODEL_4a5bdaa9213043c89c019ede26ddfcc9"
     }
    },
    "3063e333b9824d62abf790a94dd791fb": {
     "model_module": "@jupyter-widgets/controls",
     "model_module_version": "1.5.0",
     "model_name": "FloatProgressModel",
     "state": {
      "_dom_classes": [],
      "_model_module": "@jupyter-widgets/controls",
      "_model_module_version": "1.5.0",
      "_model_name": "FloatProgressModel",
      "_view_count": null,
      "_view_module": "@jupyter-widgets/controls",
      "_view_module_version": "1.5.0",
      "_view_name": "ProgressView",
      "bar_style": "success",
      "description": "",
      "description_tooltip": null,
      "layout": "IPY_MODEL_61f8d501db1a42bdb2a3c8171998c454",
      "max": 1355863,
      "min": 0,
      "orientation": "horizontal",
      "style": "IPY_MODEL_8fabc79e0977410c9273c3d55ac3b082",
      "value": 1355863
     }
    },
    "3fbdbd92cd7742f1997b56469c06ad08": {
     "model_module": "@jupyter-widgets/base",
     "model_module_version": "1.2.0",
     "model_name": "LayoutModel",
     "state": {
      "_model_module": "@jupyter-widgets/base",
      "_model_module_version": "1.2.0",
      "_model_name": "LayoutModel",
      "_view_count": null,
      "_view_module": "@jupyter-widgets/base",
      "_view_module_version": "1.2.0",
      "_view_name": "LayoutView",
      "align_content": null,
      "align_items": null,
      "align_self": null,
      "border": null,
      "bottom": null,
      "display": null,
      "flex": null,
      "flex_flow": null,
      "grid_area": null,
      "grid_auto_columns": null,
      "grid_auto_flow": null,
      "grid_auto_rows": null,
      "grid_column": null,
      "grid_gap": null,
      "grid_row": null,
      "grid_template_areas": null,
      "grid_template_columns": null,
      "grid_template_rows": null,
      "height": null,
      "justify_content": null,
      "justify_items": null,
      "left": null,
      "margin": null,
      "max_height": null,
      "max_width": null,
      "min_height": null,
      "min_width": null,
      "object_fit": null,
      "object_position": null,
      "order": null,
      "overflow": null,
      "overflow_x": null,
      "overflow_y": null,
      "padding": null,
      "right": null,
      "top": null,
      "visibility": null,
      "width": null
     }
    },
    "4a5bdaa9213043c89c019ede26ddfcc9": {
     "model_module": "@jupyter-widgets/base",
     "model_module_version": "1.2.0",
     "model_name": "LayoutModel",
     "state": {
      "_model_module": "@jupyter-widgets/base",
      "_model_module_version": "1.2.0",
      "_model_name": "LayoutModel",
      "_view_count": null,
      "_view_module": "@jupyter-widgets/base",
      "_view_module_version": "1.2.0",
      "_view_name": "LayoutView",
      "align_content": null,
      "align_items": null,
      "align_self": null,
      "border": null,
      "bottom": null,
      "display": null,
      "flex": null,
      "flex_flow": null,
      "grid_area": null,
      "grid_auto_columns": null,
      "grid_auto_flow": null,
      "grid_auto_rows": null,
      "grid_column": null,
      "grid_gap": null,
      "grid_row": null,
      "grid_template_areas": null,
      "grid_template_columns": null,
      "grid_template_rows": null,
      "height": null,
      "justify_content": null,
      "justify_items": null,
      "left": null,
      "margin": null,
      "max_height": null,
      "max_width": null,
      "min_height": null,
      "min_width": null,
      "object_fit": null,
      "object_position": null,
      "order": null,
      "overflow": null,
      "overflow_x": null,
      "overflow_y": null,
      "padding": null,
      "right": null,
      "top": null,
      "visibility": null,
      "width": null
     }
    },
    "507f7c548e914185b3d636b22943427b": {
     "model_module": "@jupyter-widgets/base",
     "model_module_version": "1.2.0",
     "model_name": "LayoutModel",
     "state": {
      "_model_module": "@jupyter-widgets/base",
      "_model_module_version": "1.2.0",
      "_model_name": "LayoutModel",
      "_view_count": null,
      "_view_module": "@jupyter-widgets/base",
      "_view_module_version": "1.2.0",
      "_view_name": "LayoutView",
      "align_content": null,
      "align_items": null,
      "align_self": null,
      "border": null,
      "bottom": null,
      "display": null,
      "flex": null,
      "flex_flow": null,
      "grid_area": null,
      "grid_auto_columns": null,
      "grid_auto_flow": null,
      "grid_auto_rows": null,
      "grid_column": null,
      "grid_gap": null,
      "grid_row": null,
      "grid_template_areas": null,
      "grid_template_columns": null,
      "grid_template_rows": null,
      "height": null,
      "justify_content": null,
      "justify_items": null,
      "left": null,
      "margin": null,
      "max_height": null,
      "max_width": null,
      "min_height": null,
      "min_width": null,
      "object_fit": null,
      "object_position": null,
      "order": null,
      "overflow": null,
      "overflow_x": null,
      "overflow_y": null,
      "padding": null,
      "right": null,
      "top": null,
      "visibility": null,
      "width": null
     }
    },
    "565b0f3a8ec14df28fd30174745e973a": {
     "model_module": "@jupyter-widgets/controls",
     "model_module_version": "1.5.0",
     "model_name": "HTMLModel",
     "state": {
      "_dom_classes": [],
      "_model_module": "@jupyter-widgets/controls",
      "_model_module_version": "1.5.0",
      "_model_name": "HTMLModel",
      "_view_count": null,
      "_view_module": "@jupyter-widgets/controls",
      "_view_module_version": "1.5.0",
      "_view_name": "HTMLView",
      "description": "",
      "description_tooltip": null,
      "layout": "IPY_MODEL_c2d177af0f104525b7bd67c3d5015ee7",
      "placeholder": "​",
      "style": "IPY_MODEL_a9b80129c20243469ca753de6d0f0fd5",
      "value": "Downloading (…)olve/main/merges.txt: 100%"
     }
    },
    "57f434f41f8d4bae81de5bb82a470e17": {
     "model_module": "@jupyter-widgets/base",
     "model_module_version": "1.2.0",
     "model_name": "LayoutModel",
     "state": {
      "_model_module": "@jupyter-widgets/base",
      "_model_module_version": "1.2.0",
      "_model_name": "LayoutModel",
      "_view_count": null,
      "_view_module": "@jupyter-widgets/base",
      "_view_module_version": "1.2.0",
      "_view_name": "LayoutView",
      "align_content": null,
      "align_items": null,
      "align_self": null,
      "border": null,
      "bottom": null,
      "display": null,
      "flex": null,
      "flex_flow": null,
      "grid_area": null,
      "grid_auto_columns": null,
      "grid_auto_flow": null,
      "grid_auto_rows": null,
      "grid_column": null,
      "grid_gap": null,
      "grid_row": null,
      "grid_template_areas": null,
      "grid_template_columns": null,
      "grid_template_rows": null,
      "height": null,
      "justify_content": null,
      "justify_items": null,
      "left": null,
      "margin": null,
      "max_height": null,
      "max_width": null,
      "min_height": null,
      "min_width": null,
      "object_fit": null,
      "object_position": null,
      "order": null,
      "overflow": null,
      "overflow_x": null,
      "overflow_y": null,
      "padding": null,
      "right": null,
      "top": null,
      "visibility": null,
      "width": null
     }
    },
    "5b5290a54584430795438667778eeddc": {
     "model_module": "@jupyter-widgets/controls",
     "model_module_version": "1.5.0",
     "model_name": "ProgressStyleModel",
     "state": {
      "_model_module": "@jupyter-widgets/controls",
      "_model_module_version": "1.5.0",
      "_model_name": "ProgressStyleModel",
      "_view_count": null,
      "_view_module": "@jupyter-widgets/base",
      "_view_module_version": "1.2.0",
      "_view_name": "StyleView",
      "bar_color": null,
      "description_width": ""
     }
    },
    "5bae730878e14749aab1f7eda659d959": {
     "model_module": "@jupyter-widgets/controls",
     "model_module_version": "1.5.0",
     "model_name": "DescriptionStyleModel",
     "state": {
      "_model_module": "@jupyter-widgets/controls",
      "_model_module_version": "1.5.0",
      "_model_name": "DescriptionStyleModel",
      "_view_count": null,
      "_view_module": "@jupyter-widgets/base",
      "_view_module_version": "1.2.0",
      "_view_name": "StyleView",
      "description_width": ""
     }
    },
    "5d0fb76cde1445e8b13db426557030e5": {
     "model_module": "@jupyter-widgets/controls",
     "model_module_version": "1.5.0",
     "model_name": "HTMLModel",
     "state": {
      "_dom_classes": [],
      "_model_module": "@jupyter-widgets/controls",
      "_model_module_version": "1.5.0",
      "_model_name": "HTMLModel",
      "_view_count": null,
      "_view_module": "@jupyter-widgets/controls",
      "_view_module_version": "1.5.0",
      "_view_name": "HTMLView",
      "description": "",
      "description_tooltip": null,
      "layout": "IPY_MODEL_8ca787df799f4e5e83677b0055fd4198",
      "placeholder": "​",
      "style": "IPY_MODEL_6c0824c73212442fb507104f939c5abe",
      "value": " 481/481 [00:00&lt;00:00, 21.2kB/s]"
     }
    },
    "61f46e1628d44ab8a486b44915dd318b": {
     "model_module": "@jupyter-widgets/base",
     "model_module_version": "1.2.0",
     "model_name": "LayoutModel",
     "state": {
      "_model_module": "@jupyter-widgets/base",
      "_model_module_version": "1.2.0",
      "_model_name": "LayoutModel",
      "_view_count": null,
      "_view_module": "@jupyter-widgets/base",
      "_view_module_version": "1.2.0",
      "_view_name": "LayoutView",
      "align_content": null,
      "align_items": null,
      "align_self": null,
      "border": null,
      "bottom": null,
      "display": null,
      "flex": null,
      "flex_flow": null,
      "grid_area": null,
      "grid_auto_columns": null,
      "grid_auto_flow": null,
      "grid_auto_rows": null,
      "grid_column": null,
      "grid_gap": null,
      "grid_row": null,
      "grid_template_areas": null,
      "grid_template_columns": null,
      "grid_template_rows": null,
      "height": null,
      "justify_content": null,
      "justify_items": null,
      "left": null,
      "margin": null,
      "max_height": null,
      "max_width": null,
      "min_height": null,
      "min_width": null,
      "object_fit": null,
      "object_position": null,
      "order": null,
      "overflow": null,
      "overflow_x": null,
      "overflow_y": null,
      "padding": null,
      "right": null,
      "top": null,
      "visibility": null,
      "width": null
     }
    },
    "61f8d501db1a42bdb2a3c8171998c454": {
     "model_module": "@jupyter-widgets/base",
     "model_module_version": "1.2.0",
     "model_name": "LayoutModel",
     "state": {
      "_model_module": "@jupyter-widgets/base",
      "_model_module_version": "1.2.0",
      "_model_name": "LayoutModel",
      "_view_count": null,
      "_view_module": "@jupyter-widgets/base",
      "_view_module_version": "1.2.0",
      "_view_name": "LayoutView",
      "align_content": null,
      "align_items": null,
      "align_self": null,
      "border": null,
      "bottom": null,
      "display": null,
      "flex": null,
      "flex_flow": null,
      "grid_area": null,
      "grid_auto_columns": null,
      "grid_auto_flow": null,
      "grid_auto_rows": null,
      "grid_column": null,
      "grid_gap": null,
      "grid_row": null,
      "grid_template_areas": null,
      "grid_template_columns": null,
      "grid_template_rows": null,
      "height": null,
      "justify_content": null,
      "justify_items": null,
      "left": null,
      "margin": null,
      "max_height": null,
      "max_width": null,
      "min_height": null,
      "min_width": null,
      "object_fit": null,
      "object_position": null,
      "order": null,
      "overflow": null,
      "overflow_x": null,
      "overflow_y": null,
      "padding": null,
      "right": null,
      "top": null,
      "visibility": null,
      "width": null
     }
    },
    "6bb705b17aca441da867ec6d950d51e7": {
     "model_module": "@jupyter-widgets/controls",
     "model_module_version": "1.5.0",
     "model_name": "FloatProgressModel",
     "state": {
      "_dom_classes": [],
      "_model_module": "@jupyter-widgets/controls",
      "_model_module_version": "1.5.0",
      "_model_name": "FloatProgressModel",
      "_view_count": null,
      "_view_module": "@jupyter-widgets/controls",
      "_view_module_version": "1.5.0",
      "_view_name": "ProgressView",
      "bar_style": "success",
      "description": "",
      "description_tooltip": null,
      "layout": "IPY_MODEL_b6fab005aff74dbb8f30e15cff90e30c",
      "max": 456318,
      "min": 0,
      "orientation": "horizontal",
      "style": "IPY_MODEL_8cb07c24ad404fc9b83580488d666c85",
      "value": 456318
     }
    },
    "6c0824c73212442fb507104f939c5abe": {
     "model_module": "@jupyter-widgets/controls",
     "model_module_version": "1.5.0",
     "model_name": "DescriptionStyleModel",
     "state": {
      "_model_module": "@jupyter-widgets/controls",
      "_model_module_version": "1.5.0",
      "_model_name": "DescriptionStyleModel",
      "_view_count": null,
      "_view_module": "@jupyter-widgets/base",
      "_view_module_version": "1.2.0",
      "_view_name": "StyleView",
      "description_width": ""
     }
    },
    "7bed140707f74e39862ab06905ba5d71": {
     "model_module": "@jupyter-widgets/controls",
     "model_module_version": "1.5.0",
     "model_name": "DescriptionStyleModel",
     "state": {
      "_model_module": "@jupyter-widgets/controls",
      "_model_module_version": "1.5.0",
      "_model_name": "DescriptionStyleModel",
      "_view_count": null,
      "_view_module": "@jupyter-widgets/base",
      "_view_module_version": "1.2.0",
      "_view_name": "StyleView",
      "description_width": ""
     }
    },
    "7e7a049d64094b1bb68d557bc3148438": {
     "model_module": "@jupyter-widgets/base",
     "model_module_version": "1.2.0",
     "model_name": "LayoutModel",
     "state": {
      "_model_module": "@jupyter-widgets/base",
      "_model_module_version": "1.2.0",
      "_model_name": "LayoutModel",
      "_view_count": null,
      "_view_module": "@jupyter-widgets/base",
      "_view_module_version": "1.2.0",
      "_view_name": "LayoutView",
      "align_content": null,
      "align_items": null,
      "align_self": null,
      "border": null,
      "bottom": null,
      "display": null,
      "flex": null,
      "flex_flow": null,
      "grid_area": null,
      "grid_auto_columns": null,
      "grid_auto_flow": null,
      "grid_auto_rows": null,
      "grid_column": null,
      "grid_gap": null,
      "grid_row": null,
      "grid_template_areas": null,
      "grid_template_columns": null,
      "grid_template_rows": null,
      "height": null,
      "justify_content": null,
      "justify_items": null,
      "left": null,
      "margin": null,
      "max_height": null,
      "max_width": null,
      "min_height": null,
      "min_width": null,
      "object_fit": null,
      "object_position": null,
      "order": null,
      "overflow": null,
      "overflow_x": null,
      "overflow_y": null,
      "padding": null,
      "right": null,
      "top": null,
      "visibility": null,
      "width": null
     }
    },
    "84900a27fe57436f9c36da4d138baf86": {
     "model_module": "@jupyter-widgets/controls",
     "model_module_version": "1.5.0",
     "model_name": "HBoxModel",
     "state": {
      "_dom_classes": [],
      "_model_module": "@jupyter-widgets/controls",
      "_model_module_version": "1.5.0",
      "_model_name": "HBoxModel",
      "_view_count": null,
      "_view_module": "@jupyter-widgets/controls",
      "_view_module_version": "1.5.0",
      "_view_name": "HBoxView",
      "box_style": "",
      "children": [
       "IPY_MODEL_8e7c7d503b4c44f0a8dd4b32879707ce",
       "IPY_MODEL_3063e333b9824d62abf790a94dd791fb",
       "IPY_MODEL_fb08e534226749b694206999718fc696"
      ],
      "layout": "IPY_MODEL_e332e5bb031445b9835005af43289437"
     }
    },
    "8ca787df799f4e5e83677b0055fd4198": {
     "model_module": "@jupyter-widgets/base",
     "model_module_version": "1.2.0",
     "model_name": "LayoutModel",
     "state": {
      "_model_module": "@jupyter-widgets/base",
      "_model_module_version": "1.2.0",
      "_model_name": "LayoutModel",
      "_view_count": null,
      "_view_module": "@jupyter-widgets/base",
      "_view_module_version": "1.2.0",
      "_view_name": "LayoutView",
      "align_content": null,
      "align_items": null,
      "align_self": null,
      "border": null,
      "bottom": null,
      "display": null,
      "flex": null,
      "flex_flow": null,
      "grid_area": null,
      "grid_auto_columns": null,
      "grid_auto_flow": null,
      "grid_auto_rows": null,
      "grid_column": null,
      "grid_gap": null,
      "grid_row": null,
      "grid_template_areas": null,
      "grid_template_columns": null,
      "grid_template_rows": null,
      "height": null,
      "justify_content": null,
      "justify_items": null,
      "left": null,
      "margin": null,
      "max_height": null,
      "max_width": null,
      "min_height": null,
      "min_width": null,
      "object_fit": null,
      "object_position": null,
      "order": null,
      "overflow": null,
      "overflow_x": null,
      "overflow_y": null,
      "padding": null,
      "right": null,
      "top": null,
      "visibility": null,
      "width": null
     }
    },
    "8cb07c24ad404fc9b83580488d666c85": {
     "model_module": "@jupyter-widgets/controls",
     "model_module_version": "1.5.0",
     "model_name": "ProgressStyleModel",
     "state": {
      "_model_module": "@jupyter-widgets/controls",
      "_model_module_version": "1.5.0",
      "_model_name": "ProgressStyleModel",
      "_view_count": null,
      "_view_module": "@jupyter-widgets/base",
      "_view_module_version": "1.2.0",
      "_view_name": "StyleView",
      "bar_color": null,
      "description_width": ""
     }
    },
    "8e7c7d503b4c44f0a8dd4b32879707ce": {
     "model_module": "@jupyter-widgets/controls",
     "model_module_version": "1.5.0",
     "model_name": "HTMLModel",
     "state": {
      "_dom_classes": [],
      "_model_module": "@jupyter-widgets/controls",
      "_model_module_version": "1.5.0",
      "_model_name": "HTMLModel",
      "_view_count": null,
      "_view_module": "@jupyter-widgets/controls",
      "_view_module_version": "1.5.0",
      "_view_name": "HTMLView",
      "description": "",
      "description_tooltip": null,
      "layout": "IPY_MODEL_57f434f41f8d4bae81de5bb82a470e17",
      "placeholder": "​",
      "style": "IPY_MODEL_7bed140707f74e39862ab06905ba5d71",
      "value": "Downloading (…)/main/tokenizer.json: 100%"
     }
    },
    "8fabc79e0977410c9273c3d55ac3b082": {
     "model_module": "@jupyter-widgets/controls",
     "model_module_version": "1.5.0",
     "model_name": "ProgressStyleModel",
     "state": {
      "_model_module": "@jupyter-widgets/controls",
      "_model_module_version": "1.5.0",
      "_model_name": "ProgressStyleModel",
      "_view_count": null,
      "_view_module": "@jupyter-widgets/base",
      "_view_module_version": "1.2.0",
      "_view_name": "StyleView",
      "bar_color": null,
      "description_width": ""
     }
    },
    "90994dc5fbdf435498b43a912e6f9f54": {
     "model_module": "@jupyter-widgets/controls",
     "model_module_version": "1.5.0",
     "model_name": "HTMLModel",
     "state": {
      "_dom_classes": [],
      "_model_module": "@jupyter-widgets/controls",
      "_model_module_version": "1.5.0",
      "_model_name": "HTMLModel",
      "_view_count": null,
      "_view_module": "@jupyter-widgets/controls",
      "_view_module_version": "1.5.0",
      "_view_name": "HTMLView",
      "description": "",
      "description_tooltip": null,
      "layout": "IPY_MODEL_2cfb54729adf42f4baa78abeb49f5a68",
      "placeholder": "​",
      "style": "IPY_MODEL_1e3f1ba586cb4c08854f84be9f1486d9",
      "value": "Downloading (…)lve/main/config.json: 100%"
     }
    },
    "a1cdb00f7f2145819bd6fbf15ae43ca8": {
     "model_module": "@jupyter-widgets/controls",
     "model_module_version": "1.5.0",
     "model_name": "HTMLModel",
     "state": {
      "_dom_classes": [],
      "_model_module": "@jupyter-widgets/controls",
      "_model_module_version": "1.5.0",
      "_model_name": "HTMLModel",
      "_view_count": null,
      "_view_module": "@jupyter-widgets/controls",
      "_view_module_version": "1.5.0",
      "_view_name": "HTMLView",
      "description": "",
      "description_tooltip": null,
      "layout": "IPY_MODEL_c7f7ec57edee486184c7fbc700faf3f7",
      "placeholder": "​",
      "style": "IPY_MODEL_05255c187a4446d7bfeddac18172c8a7",
      "value": "Downloading (…)olve/main/vocab.json: 100%"
     }
    },
    "a9b80129c20243469ca753de6d0f0fd5": {
     "model_module": "@jupyter-widgets/controls",
     "model_module_version": "1.5.0",
     "model_name": "DescriptionStyleModel",
     "state": {
      "_model_module": "@jupyter-widgets/controls",
      "_model_module_version": "1.5.0",
      "_model_name": "DescriptionStyleModel",
      "_view_count": null,
      "_view_module": "@jupyter-widgets/base",
      "_view_module_version": "1.2.0",
      "_view_name": "StyleView",
      "description_width": ""
     }
    },
    "aa4234c623cd402a91dbe071a827126c": {
     "model_module": "@jupyter-widgets/controls",
     "model_module_version": "1.5.0",
     "model_name": "ProgressStyleModel",
     "state": {
      "_model_module": "@jupyter-widgets/controls",
      "_model_module_version": "1.5.0",
      "_model_name": "ProgressStyleModel",
      "_view_count": null,
      "_view_module": "@jupyter-widgets/base",
      "_view_module_version": "1.2.0",
      "_view_name": "StyleView",
      "bar_color": null,
      "description_width": ""
     }
    },
    "adfd398276a7405f890b7eb31a33a260": {
     "model_module": "@jupyter-widgets/controls",
     "model_module_version": "1.5.0",
     "model_name": "HTMLModel",
     "state": {
      "_dom_classes": [],
      "_model_module": "@jupyter-widgets/controls",
      "_model_module_version": "1.5.0",
      "_model_name": "HTMLModel",
      "_view_count": null,
      "_view_module": "@jupyter-widgets/controls",
      "_view_module_version": "1.5.0",
      "_view_name": "HTMLView",
      "description": "",
      "description_tooltip": null,
      "layout": "IPY_MODEL_145a54531aa940c58d993d70d025a29d",
      "placeholder": "​",
      "style": "IPY_MODEL_f1f875abdae44998ac239efbed40b3d9",
      "value": " 899k/899k [00:00&lt;00:00, 5.28MB/s]"
     }
    },
    "b6fab005aff74dbb8f30e15cff90e30c": {
     "model_module": "@jupyter-widgets/base",
     "model_module_version": "1.2.0",
     "model_name": "LayoutModel",
     "state": {
      "_model_module": "@jupyter-widgets/base",
      "_model_module_version": "1.2.0",
      "_model_name": "LayoutModel",
      "_view_count": null,
      "_view_module": "@jupyter-widgets/base",
      "_view_module_version": "1.2.0",
      "_view_name": "LayoutView",
      "align_content": null,
      "align_items": null,
      "align_self": null,
      "border": null,
      "bottom": null,
      "display": null,
      "flex": null,
      "flex_flow": null,
      "grid_area": null,
      "grid_auto_columns": null,
      "grid_auto_flow": null,
      "grid_auto_rows": null,
      "grid_column": null,
      "grid_gap": null,
      "grid_row": null,
      "grid_template_areas": null,
      "grid_template_columns": null,
      "grid_template_rows": null,
      "height": null,
      "justify_content": null,
      "justify_items": null,
      "left": null,
      "margin": null,
      "max_height": null,
      "max_width": null,
      "min_height": null,
      "min_width": null,
      "object_fit": null,
      "object_position": null,
      "order": null,
      "overflow": null,
      "overflow_x": null,
      "overflow_y": null,
      "padding": null,
      "right": null,
      "top": null,
      "visibility": null,
      "width": null
     }
    },
    "c2d177af0f104525b7bd67c3d5015ee7": {
     "model_module": "@jupyter-widgets/base",
     "model_module_version": "1.2.0",
     "model_name": "LayoutModel",
     "state": {
      "_model_module": "@jupyter-widgets/base",
      "_model_module_version": "1.2.0",
      "_model_name": "LayoutModel",
      "_view_count": null,
      "_view_module": "@jupyter-widgets/base",
      "_view_module_version": "1.2.0",
      "_view_name": "LayoutView",
      "align_content": null,
      "align_items": null,
      "align_self": null,
      "border": null,
      "bottom": null,
      "display": null,
      "flex": null,
      "flex_flow": null,
      "grid_area": null,
      "grid_auto_columns": null,
      "grid_auto_flow": null,
      "grid_auto_rows": null,
      "grid_column": null,
      "grid_gap": null,
      "grid_row": null,
      "grid_template_areas": null,
      "grid_template_columns": null,
      "grid_template_rows": null,
      "height": null,
      "justify_content": null,
      "justify_items": null,
      "left": null,
      "margin": null,
      "max_height": null,
      "max_width": null,
      "min_height": null,
      "min_width": null,
      "object_fit": null,
      "object_position": null,
      "order": null,
      "overflow": null,
      "overflow_x": null,
      "overflow_y": null,
      "padding": null,
      "right": null,
      "top": null,
      "visibility": null,
      "width": null
     }
    },
    "c7f7ec57edee486184c7fbc700faf3f7": {
     "model_module": "@jupyter-widgets/base",
     "model_module_version": "1.2.0",
     "model_name": "LayoutModel",
     "state": {
      "_model_module": "@jupyter-widgets/base",
      "_model_module_version": "1.2.0",
      "_model_name": "LayoutModel",
      "_view_count": null,
      "_view_module": "@jupyter-widgets/base",
      "_view_module_version": "1.2.0",
      "_view_name": "LayoutView",
      "align_content": null,
      "align_items": null,
      "align_self": null,
      "border": null,
      "bottom": null,
      "display": null,
      "flex": null,
      "flex_flow": null,
      "grid_area": null,
      "grid_auto_columns": null,
      "grid_auto_flow": null,
      "grid_auto_rows": null,
      "grid_column": null,
      "grid_gap": null,
      "grid_row": null,
      "grid_template_areas": null,
      "grid_template_columns": null,
      "grid_template_rows": null,
      "height": null,
      "justify_content": null,
      "justify_items": null,
      "left": null,
      "margin": null,
      "max_height": null,
      "max_width": null,
      "min_height": null,
      "min_width": null,
      "object_fit": null,
      "object_position": null,
      "order": null,
      "overflow": null,
      "overflow_x": null,
      "overflow_y": null,
      "padding": null,
      "right": null,
      "top": null,
      "visibility": null,
      "width": null
     }
    },
    "cfdaeb66a4ea494c9821b7c24fd184fb": {
     "model_module": "@jupyter-widgets/controls",
     "model_module_version": "1.5.0",
     "model_name": "HBoxModel",
     "state": {
      "_dom_classes": [],
      "_model_module": "@jupyter-widgets/controls",
      "_model_module_version": "1.5.0",
      "_model_name": "HBoxModel",
      "_view_count": null,
      "_view_module": "@jupyter-widgets/controls",
      "_view_module_version": "1.5.0",
      "_view_name": "HBoxView",
      "box_style": "",
      "children": [
       "IPY_MODEL_90994dc5fbdf435498b43a912e6f9f54",
       "IPY_MODEL_d7291f53e8734a0a9279cbe061a1394f",
       "IPY_MODEL_5d0fb76cde1445e8b13db426557030e5"
      ],
      "layout": "IPY_MODEL_507f7c548e914185b3d636b22943427b"
     }
    },
    "d686410867cb49fdaf5155b198880eb5": {
     "model_module": "@jupyter-widgets/controls",
     "model_module_version": "1.5.0",
     "model_name": "FloatProgressModel",
     "state": {
      "_dom_classes": [],
      "_model_module": "@jupyter-widgets/controls",
      "_model_module_version": "1.5.0",
      "_model_name": "FloatProgressModel",
      "_view_count": null,
      "_view_module": "@jupyter-widgets/controls",
      "_view_module_version": "1.5.0",
      "_view_name": "ProgressView",
      "bar_style": "success",
      "description": "",
      "description_tooltip": null,
      "layout": "IPY_MODEL_23c12a3ff1d14fb49e14d465cc93a537",
      "max": 898823,
      "min": 0,
      "orientation": "horizontal",
      "style": "IPY_MODEL_aa4234c623cd402a91dbe071a827126c",
      "value": 898823
     }
    },
    "d7291f53e8734a0a9279cbe061a1394f": {
     "model_module": "@jupyter-widgets/controls",
     "model_module_version": "1.5.0",
     "model_name": "FloatProgressModel",
     "state": {
      "_dom_classes": [],
      "_model_module": "@jupyter-widgets/controls",
      "_model_module_version": "1.5.0",
      "_model_name": "FloatProgressModel",
      "_view_count": null,
      "_view_module": "@jupyter-widgets/controls",
      "_view_module_version": "1.5.0",
      "_view_name": "ProgressView",
      "bar_style": "success",
      "description": "",
      "description_tooltip": null,
      "layout": "IPY_MODEL_7e7a049d64094b1bb68d557bc3148438",
      "max": 481,
      "min": 0,
      "orientation": "horizontal",
      "style": "IPY_MODEL_5b5290a54584430795438667778eeddc",
      "value": 481
     }
    },
    "e332e5bb031445b9835005af43289437": {
     "model_module": "@jupyter-widgets/base",
     "model_module_version": "1.2.0",
     "model_name": "LayoutModel",
     "state": {
      "_model_module": "@jupyter-widgets/base",
      "_model_module_version": "1.2.0",
      "_model_name": "LayoutModel",
      "_view_count": null,
      "_view_module": "@jupyter-widgets/base",
      "_view_module_version": "1.2.0",
      "_view_name": "LayoutView",
      "align_content": null,
      "align_items": null,
      "align_self": null,
      "border": null,
      "bottom": null,
      "display": null,
      "flex": null,
      "flex_flow": null,
      "grid_area": null,
      "grid_auto_columns": null,
      "grid_auto_flow": null,
      "grid_auto_rows": null,
      "grid_column": null,
      "grid_gap": null,
      "grid_row": null,
      "grid_template_areas": null,
      "grid_template_columns": null,
      "grid_template_rows": null,
      "height": null,
      "justify_content": null,
      "justify_items": null,
      "left": null,
      "margin": null,
      "max_height": null,
      "max_width": null,
      "min_height": null,
      "min_width": null,
      "object_fit": null,
      "object_position": null,
      "order": null,
      "overflow": null,
      "overflow_x": null,
      "overflow_y": null,
      "padding": null,
      "right": null,
      "top": null,
      "visibility": null,
      "width": null
     }
    },
    "ef32bb2f6b0a41809f32b81b24a31b95": {
     "model_module": "@jupyter-widgets/controls",
     "model_module_version": "1.5.0",
     "model_name": "HBoxModel",
     "state": {
      "_dom_classes": [],
      "_model_module": "@jupyter-widgets/controls",
      "_model_module_version": "1.5.0",
      "_model_name": "HBoxModel",
      "_view_count": null,
      "_view_module": "@jupyter-widgets/controls",
      "_view_module_version": "1.5.0",
      "_view_name": "HBoxView",
      "box_style": "",
      "children": [
       "IPY_MODEL_565b0f3a8ec14df28fd30174745e973a",
       "IPY_MODEL_6bb705b17aca441da867ec6d950d51e7",
       "IPY_MODEL_f8e3aad541ad49208ad279968e3a0c3b"
      ],
      "layout": "IPY_MODEL_3fbdbd92cd7742f1997b56469c06ad08"
     }
    },
    "f1f875abdae44998ac239efbed40b3d9": {
     "model_module": "@jupyter-widgets/controls",
     "model_module_version": "1.5.0",
     "model_name": "DescriptionStyleModel",
     "state": {
      "_model_module": "@jupyter-widgets/controls",
      "_model_module_version": "1.5.0",
      "_model_name": "DescriptionStyleModel",
      "_view_count": null,
      "_view_module": "@jupyter-widgets/base",
      "_view_module_version": "1.2.0",
      "_view_name": "StyleView",
      "description_width": ""
     }
    },
    "f8e3aad541ad49208ad279968e3a0c3b": {
     "model_module": "@jupyter-widgets/controls",
     "model_module_version": "1.5.0",
     "model_name": "HTMLModel",
     "state": {
      "_dom_classes": [],
      "_model_module": "@jupyter-widgets/controls",
      "_model_module_version": "1.5.0",
      "_model_name": "HTMLModel",
      "_view_count": null,
      "_view_module": "@jupyter-widgets/controls",
      "_view_module_version": "1.5.0",
      "_view_name": "HTMLView",
      "description": "",
      "description_tooltip": null,
      "layout": "IPY_MODEL_61f46e1628d44ab8a486b44915dd318b",
      "placeholder": "​",
      "style": "IPY_MODEL_5bae730878e14749aab1f7eda659d959",
      "value": " 456k/456k [00:00&lt;00:00, 3.97MB/s]"
     }
    },
    "fb08e534226749b694206999718fc696": {
     "model_module": "@jupyter-widgets/controls",
     "model_module_version": "1.5.0",
     "model_name": "HTMLModel",
     "state": {
      "_dom_classes": [],
      "_model_module": "@jupyter-widgets/controls",
      "_model_module_version": "1.5.0",
      "_model_name": "HTMLModel",
      "_view_count": null,
      "_view_module": "@jupyter-widgets/controls",
      "_view_module_version": "1.5.0",
      "_view_name": "HTMLView",
      "description": "",
      "description_tooltip": null,
      "layout": "IPY_MODEL_2bc1dee178744941aa9a6c36b115bfdd",
      "placeholder": "​",
      "style": "IPY_MODEL_0aa44124b35f4fd183542a88583c7ad6",
      "value": " 1.36M/1.36M [00:00&lt;00:00, 20.3MB/s]"
     }
    }
   }
  }
 },
 "nbformat": 4,
 "nbformat_minor": 0
}
