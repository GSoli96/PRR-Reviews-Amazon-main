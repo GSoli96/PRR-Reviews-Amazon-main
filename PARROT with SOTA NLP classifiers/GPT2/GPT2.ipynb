{
 "cells": [
  {
   "cell_type": "markdown",
   "metadata": {
    "id": "uWsNJPzmQJ26"
   },
   "source": [
    "# A GPT2-based Model"
   ]
  },
  {
   "cell_type": "code",
   "execution_count": 1,
   "metadata": {
    "colab": {
     "base_uri": "https://localhost:8080/"
    },
    "executionInfo": {
     "elapsed": 15615,
     "status": "ok",
     "timestamp": 1697038956016,
     "user": {
      "displayName": "Giandomenico Solimando",
      "userId": "04898863124661605068"
     },
     "user_tz": -120
    },
    "id": "38c3MIhFOKq_",
    "outputId": "8cffea9f-532d-4c95-d0ef-e0708ca00359"
   },
   "outputs": [],
   "source": [
    "# from google.colab import drive\n",
    "# drive.mount('/content/drive')"
   ]
  },
  {
   "cell_type": "markdown",
   "metadata": {
    "id": "_pISSCfUQJ29"
   },
   "source": [
    "## Introduction"
   ]
  },
  {
   "cell_type": "code",
   "execution_count": null,
   "metadata": {
    "colab": {
     "base_uri": "https://localhost:8080/"
    },
    "executionInfo": {
     "elapsed": 62374,
     "status": "ok",
     "timestamp": 1697039018388,
     "user": {
      "displayName": "Giandomenico Solimando",
      "userId": "04898863124661605068"
     },
     "user_tz": -120
    },
    "id": "n63ZUz7vOBUd",
    "outputId": "67e0bdf6-03c8-43a3-ada8-4fd5f4b136fd"
   },
   "outputs": [],
   "source": [
    "# !pip install tokenizers>=0.14\n",
    "# # Install transformers library.\n",
    "# !pip install -q git+https://github.com/huggingface/transformers.git\n",
    "# # Install helper functions.\n",
    "# !pip install -q git+https://github.com/gmihaila/ml_things.git"
   ]
  },
  {
   "cell_type": "code",
   "execution_count": null,
   "metadata": {
    "colab": {
     "base_uri": "https://localhost:8080/"
    },
    "executionInfo": {
     "elapsed": 7063,
     "status": "ok",
     "timestamp": 1697039025444,
     "user": {
      "displayName": "Giandomenico Solimando",
      "userId": "04898863124661605068"
     },
     "user_tz": -120
    },
    "id": "kQSoqNY-OBUe",
    "outputId": "2fab0004-48e8-4ecf-fca3-81026ca1a91e"
   },
   "outputs": [
    {
     "name": "stdout",
     "output_type": "stream",
     "text": [
      "Requirement already satisfied: transformers in c:\\users\\giand\\appdata\\roaming\\python\\python39\\site-packages (4.35.0.dev0)\n",
      "Requirement already satisfied: numpy>=1.17 in c:\\users\\giand\\appdata\\roaming\\python\\python39\\site-packages (from transformers) (1.24.4)\n",
      "Requirement already satisfied: filelock in c:\\users\\giand\\.conda\\envs\\prog_slg\\lib\\site-packages (from transformers) (3.12.2)\n",
      "Requirement already satisfied: safetensors>=0.3.1 in c:\\users\\giand\\appdata\\roaming\\python\\python39\\site-packages (from transformers) (0.3.1)\n",
      "Requirement already satisfied: pyyaml>=5.1 in c:\\users\\giand\\.conda\\envs\\prog_slg\\lib\\site-packages (from transformers) (6.0)\n",
      "Requirement already satisfied: tqdm>=4.27 in c:\\users\\giand\\.conda\\envs\\prog_slg\\lib\\site-packages (from transformers) (4.64.1)\n",
      "Requirement already satisfied: huggingface-hub<1.0,>=0.16.4 in c:\\users\\giand\\appdata\\roaming\\python\\python39\\site-packages (from transformers) (0.17.3)\n",
      "Requirement already satisfied: tokenizers<0.15,>=0.14 in c:\\users\\giand\\appdata\\roaming\\python\\python39\\site-packages (from transformers) (0.14.1)\n",
      "Requirement already satisfied: regex!=2019.12.17 in c:\\users\\giand\\.conda\\envs\\prog_slg\\lib\\site-packages (from transformers) (2022.10.31)\n",
      "Requirement already satisfied: packaging>=20.0 in c:\\users\\giand\\.conda\\envs\\prog_slg\\lib\\site-packages (from transformers) (23.0)\n",
      "Requirement already satisfied: requests in c:\\users\\giand\\.conda\\envs\\prog_slg\\lib\\site-packages (from transformers) (2.31.0)\n",
      "Requirement already satisfied: fsspec in c:\\users\\giand\\.conda\\envs\\prog_slg\\lib\\site-packages (from huggingface-hub<1.0,>=0.16.4->transformers) (2023.6.0)\n",
      "Requirement already satisfied: typing-extensions>=3.7.4.3 in c:\\users\\giand\\.conda\\envs\\prog_slg\\lib\\site-packages (from huggingface-hub<1.0,>=0.16.4->transformers) (4.4.0)\n",
      "Requirement already satisfied: colorama in c:\\users\\giand\\.conda\\envs\\prog_slg\\lib\\site-packages (from tqdm>=4.27->transformers) (0.4.6)\n",
      "Requirement already satisfied: certifi>=2017.4.17 in c:\\users\\giand\\.conda\\envs\\prog_slg\\lib\\site-packages (from requests->transformers) (2022.12.7)\n",
      "Requirement already satisfied: idna<4,>=2.5 in c:\\users\\giand\\.conda\\envs\\prog_slg\\lib\\site-packages (from requests->transformers) (2.10)\n",
      "Requirement already satisfied: urllib3<3,>=1.21.1 in c:\\users\\giand\\.conda\\envs\\prog_slg\\lib\\site-packages (from requests->transformers) (1.26.14)\n",
      "Requirement already satisfied: charset-normalizer<4,>=2 in c:\\users\\giand\\.conda\\envs\\prog_slg\\lib\\site-packages (from requests->transformers) (3.0.1)\n"
     ]
    }
   ],
   "source": [
    "# !pip install transformers -U"
   ]
  },
  {
   "cell_type": "code",
   "execution_count": null,
   "metadata": {
    "colab": {
     "base_uri": "https://localhost:8080/"
    },
    "executionInfo": {
     "elapsed": 13071,
     "status": "ok",
     "timestamp": 1697039038486,
     "user": {
      "displayName": "Giandomenico Solimando",
      "userId": "04898863124661605068"
     },
     "user_tz": -120
    },
    "id": "uO8R69E1OBUe",
    "outputId": "3e534ba0-1635-4e8c-ef04-945d8dfa6935"
   },
   "outputs": [
    {
     "name": "stdout",
     "output_type": "stream",
     "text": [
      "Requirement already satisfied: pandas in c:\\users\\giand\\.conda\\envs\\prog_slg\\lib\\site-packages (1.5.3)\n",
      "Requirement already satisfied: numpy in c:\\users\\giand\\appdata\\roaming\\python\\python39\\site-packages (1.24.4)\n",
      "Requirement already satisfied: seaborn in c:\\users\\giand\\.conda\\envs\\prog_slg\\lib\\site-packages (0.12.2)\n",
      "Requirement already satisfied: matplotlib in c:\\users\\giand\\.conda\\envs\\prog_slg\\lib\\site-packages (3.6.3)\n",
      "Requirement already satisfied: torch in c:\\users\\giand\\appdata\\roaming\\python\\python39\\site-packages (2.1.0)\n",
      "Requirement already satisfied: tqdm in c:\\users\\giand\\.conda\\envs\\prog_slg\\lib\\site-packages (4.64.1)\n",
      "Requirement already satisfied: tokenizers in c:\\users\\giand\\appdata\\roaming\\python\\python39\\site-packages (0.14.1)\n",
      "Requirement already satisfied: ipywidgets in c:\\users\\giand\\.conda\\envs\\prog_slg\\lib\\site-packages (8.0.6)\n",
      "Requirement already satisfied: python-dateutil>=2.8.1 in c:\\users\\giand\\.conda\\envs\\prog_slg\\lib\\site-packages (from pandas) (2.8.2)\n",
      "Requirement already satisfied: pytz>=2020.1 in c:\\users\\giand\\.conda\\envs\\prog_slg\\lib\\site-packages (from pandas) (2022.7.1)\n",
      "Requirement already satisfied: fonttools>=4.22.0 in c:\\users\\giand\\.conda\\envs\\prog_slg\\lib\\site-packages (from matplotlib) (4.38.0)\n",
      "Requirement already satisfied: cycler>=0.10 in c:\\users\\giand\\.conda\\envs\\prog_slg\\lib\\site-packages (from matplotlib) (0.11.0)\n",
      "Requirement already satisfied: pillow>=6.2.0 in c:\\users\\giand\\.conda\\envs\\prog_slg\\lib\\site-packages (from matplotlib) (9.3.0)\n",
      "Requirement already satisfied: packaging>=20.0 in c:\\users\\giand\\.conda\\envs\\prog_slg\\lib\\site-packages (from matplotlib) (23.0)\n",
      "Requirement already satisfied: kiwisolver>=1.0.1 in c:\\users\\giand\\.conda\\envs\\prog_slg\\lib\\site-packages (from matplotlib) (1.4.4)\n",
      "Requirement already satisfied: contourpy>=1.0.1 in c:\\users\\giand\\.conda\\envs\\prog_slg\\lib\\site-packages (from matplotlib) (1.0.7)\n",
      "Requirement already satisfied: pyparsing>=2.2.1 in c:\\users\\giand\\.conda\\envs\\prog_slg\\lib\\site-packages (from matplotlib) (3.0.9)\n",
      "Requirement already satisfied: sympy in c:\\users\\giand\\.conda\\envs\\prog_slg\\lib\\site-packages (from torch) (1.11.1)\n",
      "Requirement already satisfied: typing-extensions in c:\\users\\giand\\.conda\\envs\\prog_slg\\lib\\site-packages (from torch) (4.4.0)\n",
      "Requirement already satisfied: jinja2 in c:\\users\\giand\\.conda\\envs\\prog_slg\\lib\\site-packages (from torch) (3.1.2)\n",
      "Requirement already satisfied: fsspec in c:\\users\\giand\\.conda\\envs\\prog_slg\\lib\\site-packages (from torch) (2023.6.0)\n",
      "Requirement already satisfied: filelock in c:\\users\\giand\\.conda\\envs\\prog_slg\\lib\\site-packages (from torch) (3.12.2)\n",
      "Requirement already satisfied: networkx in c:\\users\\giand\\.conda\\envs\\prog_slg\\lib\\site-packages (from torch) (3.0)\n",
      "Requirement already satisfied: colorama in c:\\users\\giand\\.conda\\envs\\prog_slg\\lib\\site-packages (from tqdm) (0.4.6)\n",
      "Requirement already satisfied: huggingface_hub<0.18,>=0.16.4 in c:\\users\\giand\\appdata\\roaming\\python\\python39\\site-packages (from tokenizers) (0.17.3)\n",
      "Requirement already satisfied: jupyterlab-widgets~=3.0.7 in c:\\users\\giand\\.conda\\envs\\prog_slg\\lib\\site-packages (from ipywidgets) (3.0.7)\n",
      "Requirement already satisfied: traitlets>=4.3.1 in c:\\users\\giand\\.conda\\envs\\prog_slg\\lib\\site-packages (from ipywidgets) (5.9.0)\n",
      "Requirement already satisfied: widgetsnbextension~=4.0.7 in c:\\users\\giand\\.conda\\envs\\prog_slg\\lib\\site-packages (from ipywidgets) (4.0.7)\n",
      "Requirement already satisfied: ipython>=6.1.0 in c:\\users\\giand\\.conda\\envs\\prog_slg\\lib\\site-packages (from ipywidgets) (8.10.0)\n",
      "Requirement already satisfied: ipykernel>=4.5.1 in c:\\users\\giand\\.conda\\envs\\prog_slg\\lib\\site-packages (from ipywidgets) (6.21.2)\n",
      "Requirement already satisfied: requests in c:\\users\\giand\\.conda\\envs\\prog_slg\\lib\\site-packages (from huggingface_hub<0.18,>=0.16.4->tokenizers) (2.31.0)\n",
      "Requirement already satisfied: pyyaml>=5.1 in c:\\users\\giand\\.conda\\envs\\prog_slg\\lib\\site-packages (from huggingface_hub<0.18,>=0.16.4->tokenizers) (6.0)\n",
      "Requirement already satisfied: jupyter-core!=5.0.*,>=4.12 in c:\\users\\giand\\.conda\\envs\\prog_slg\\lib\\site-packages (from ipykernel>=4.5.1->ipywidgets) (5.2.0)\n",
      "Requirement already satisfied: jupyter-client>=6.1.12 in c:\\users\\giand\\.conda\\envs\\prog_slg\\lib\\site-packages (from ipykernel>=4.5.1->ipywidgets) (8.0.2)\n",
      "Requirement already satisfied: debugpy>=1.6.5 in c:\\users\\giand\\.conda\\envs\\prog_slg\\lib\\site-packages (from ipykernel>=4.5.1->ipywidgets) (1.6.6)\n",
      "Requirement already satisfied: nest-asyncio in c:\\users\\giand\\.conda\\envs\\prog_slg\\lib\\site-packages (from ipykernel>=4.5.1->ipywidgets) (1.5.6)\n",
      "Requirement already satisfied: psutil in c:\\users\\giand\\.conda\\envs\\prog_slg\\lib\\site-packages (from ipykernel>=4.5.1->ipywidgets) (5.9.4)\n",
      "Requirement already satisfied: comm>=0.1.1 in c:\\users\\giand\\.conda\\envs\\prog_slg\\lib\\site-packages (from ipykernel>=4.5.1->ipywidgets) (0.1.2)\n",
      "Requirement already satisfied: tornado>=6.1 in c:\\users\\giand\\.conda\\envs\\prog_slg\\lib\\site-packages (from ipykernel>=4.5.1->ipywidgets) (6.2)\n",
      "Requirement already satisfied: matplotlib-inline>=0.1 in c:\\users\\giand\\.conda\\envs\\prog_slg\\lib\\site-packages (from ipykernel>=4.5.1->ipywidgets) (0.1.6)\n",
      "Requirement already satisfied: pyzmq>=20 in c:\\users\\giand\\.conda\\envs\\prog_slg\\lib\\site-packages (from ipykernel>=4.5.1->ipywidgets) (25.0.0)\n",
      "Requirement already satisfied: pickleshare in c:\\users\\giand\\.conda\\envs\\prog_slg\\lib\\site-packages (from ipython>=6.1.0->ipywidgets) (0.7.5)\n",
      "Requirement already satisfied: jedi>=0.16 in c:\\users\\giand\\.conda\\envs\\prog_slg\\lib\\site-packages (from ipython>=6.1.0->ipywidgets) (0.18.2)\n",
      "Requirement already satisfied: prompt-toolkit<3.1.0,>=3.0.30 in c:\\users\\giand\\.conda\\envs\\prog_slg\\lib\\site-packages (from ipython>=6.1.0->ipywidgets) (3.0.36)\n",
      "Requirement already satisfied: decorator in c:\\users\\giand\\.conda\\envs\\prog_slg\\lib\\site-packages (from ipython>=6.1.0->ipywidgets) (5.1.1)\n",
      "Requirement already satisfied: backcall in c:\\users\\giand\\.conda\\envs\\prog_slg\\lib\\site-packages (from ipython>=6.1.0->ipywidgets) (0.2.0)\n",
      "Requirement already satisfied: pygments>=2.4.0 in c:\\users\\giand\\.conda\\envs\\prog_slg\\lib\\site-packages (from ipython>=6.1.0->ipywidgets) (2.14.0)\n",
      "Requirement already satisfied: stack-data in c:\\users\\giand\\.conda\\envs\\prog_slg\\lib\\site-packages (from ipython>=6.1.0->ipywidgets) (0.6.2)\n",
      "Requirement already satisfied: six>=1.5 in c:\\users\\giand\\.conda\\envs\\prog_slg\\lib\\site-packages (from python-dateutil>=2.8.1->pandas) (1.16.0)\n",
      "Requirement already satisfied: MarkupSafe>=2.0 in c:\\users\\giand\\.conda\\envs\\prog_slg\\lib\\site-packages (from jinja2->torch) (2.1.2)\n",
      "Requirement already satisfied: mpmath>=0.19 in c:\\users\\giand\\.conda\\envs\\prog_slg\\lib\\site-packages (from sympy->torch) (1.2.1)\n",
      "Requirement already satisfied: parso<0.9.0,>=0.8.0 in c:\\users\\giand\\.conda\\envs\\prog_slg\\lib\\site-packages (from jedi>=0.16->ipython>=6.1.0->ipywidgets) (0.8.3)\n",
      "Requirement already satisfied: importlib-metadata>=4.8.3 in c:\\users\\giand\\.conda\\envs\\prog_slg\\lib\\site-packages (from jupyter-client>=6.1.12->ipykernel>=4.5.1->ipywidgets) (6.0.0)\n",
      "Requirement already satisfied: platformdirs>=2.5 in c:\\users\\giand\\.conda\\envs\\prog_slg\\lib\\site-packages (from jupyter-core!=5.0.*,>=4.12->ipykernel>=4.5.1->ipywidgets) (3.0.0)\n",
      "Requirement already satisfied: pywin32>=1.0 in c:\\users\\giand\\.conda\\envs\\prog_slg\\lib\\site-packages (from jupyter-core!=5.0.*,>=4.12->ipykernel>=4.5.1->ipywidgets) (304)\n",
      "Requirement already satisfied: wcwidth in c:\\users\\giand\\.conda\\envs\\prog_slg\\lib\\site-packages (from prompt-toolkit<3.1.0,>=3.0.30->ipython>=6.1.0->ipywidgets) (0.2.6)\n",
      "Requirement already satisfied: certifi>=2017.4.17 in c:\\users\\giand\\.conda\\envs\\prog_slg\\lib\\site-packages (from requests->huggingface_hub<0.18,>=0.16.4->tokenizers) (2022.12.7)\n",
      "Requirement already satisfied: urllib3<3,>=1.21.1 in c:\\users\\giand\\.conda\\envs\\prog_slg\\lib\\site-packages (from requests->huggingface_hub<0.18,>=0.16.4->tokenizers) (1.26.14)\n",
      "Requirement already satisfied: charset-normalizer<4,>=2 in c:\\users\\giand\\.conda\\envs\\prog_slg\\lib\\site-packages (from requests->huggingface_hub<0.18,>=0.16.4->tokenizers) (3.0.1)\n",
      "Requirement already satisfied: idna<4,>=2.5 in c:\\users\\giand\\.conda\\envs\\prog_slg\\lib\\site-packages (from requests->huggingface_hub<0.18,>=0.16.4->tokenizers) (2.10)\n",
      "Requirement already satisfied: executing>=1.2.0 in c:\\users\\giand\\.conda\\envs\\prog_slg\\lib\\site-packages (from stack-data->ipython>=6.1.0->ipywidgets) (1.2.0)\n",
      "Requirement already satisfied: asttokens>=2.1.0 in c:\\users\\giand\\.conda\\envs\\prog_slg\\lib\\site-packages (from stack-data->ipython>=6.1.0->ipywidgets) (2.2.1)\n",
      "Requirement already satisfied: pure-eval in c:\\users\\giand\\.conda\\envs\\prog_slg\\lib\\site-packages (from stack-data->ipython>=6.1.0->ipywidgets) (0.2.2)\n",
      "Requirement already satisfied: zipp>=0.5 in c:\\users\\giand\\.conda\\envs\\prog_slg\\lib\\site-packages (from importlib-metadata>=4.8.3->jupyter-client>=6.1.12->ipykernel>=4.5.1->ipywidgets) (3.13.0)\n"
     ]
    }
   ],
   "source": [
    "# !pip install pandas numpy seaborn matplotlib torch tqdm tokenizers ipywidgets"
   ]
  },
  {
   "cell_type": "code",
   "execution_count": null,
   "metadata": {
    "executionInfo": {
     "elapsed": 15735,
     "status": "ok",
     "timestamp": 1697039054206,
     "user": {
      "displayName": "Giandomenico Solimando",
      "userId": "04898863124661605068"
     },
     "user_tz": -120
    },
    "id": "KgDqQREKOBUe"
   },
   "outputs": [
    {
     "ename": "",
     "evalue": "",
     "output_type": "error",
     "traceback": [
      "\u001b[1;31mL'esecuzione di celle con 'PepperGame (Python 2.7.18)' richiede il pacchetto ipykernel.\n",
      "\u001b[1;31m<a href='command:jupyter.createPythonEnvAndSelectController'>Crea un ambiente Python</a> con i pacchetti necessari.\n",
      "\u001b[1;31mIn alternativa, installa 'ipykernel' utilizzando il comando: 'conda install -n PepperGame ipykernel --update-deps --force-reinstall'"
     ]
    }
   ],
   "source": [
    "import pandas as pd\n",
    "import random\n",
    "import numpy as np\n",
    "import seaborn as sn\n",
    "import matplotlib.pyplot as plt\n",
    "import io\n",
    "import os\n",
    "import torch\n",
    "from tqdm.notebook import tqdm\n",
    "from torch.utils.data import Dataset, DataLoader\n",
    "from ml_things import plot_dict, plot_confusion_matrix, fix_text\n",
    "from sklearn.metrics import classification_report, accuracy_score\n",
    "from transformers import set_seed\n",
    "from transformers import TrainingArguments\n",
    "from transformers import Trainer\n",
    "from transformers import GPT2Config\n",
    "from transformers import GPT2Tokenizer\n",
    "from transformers import AdamW\n",
    "from transformers import get_linear_schedule_with_warmup\n",
    "from transformers import GPT2ForSequenceClassification\n",
    "from sklearn.metrics import accuracy_score\n",
    "from sklearn.metrics import precision_score\n",
    "from sklearn.metrics import recall_score\n",
    "from sklearn.metrics import f1_score"
   ]
  },
  {
   "cell_type": "code",
   "execution_count": null,
   "metadata": {
    "colab": {
     "base_uri": "https://localhost:8080/"
    },
    "executionInfo": {
     "elapsed": 27,
     "status": "ok",
     "timestamp": 1697039054207,
     "user": {
      "displayName": "Giandomenico Solimando",
      "userId": "04898863124661605068"
     },
     "user_tz": -120
    },
    "id": "Iuxq7DZ9OBUf",
    "outputId": "7b1da0aa-04e5-4cb0-a3ae-a216750907fd"
   },
   "outputs": [
    {
     "ename": "",
     "evalue": "",
     "output_type": "error",
     "traceback": [
      "\u001b[1;31mL'esecuzione di celle con 'PepperGame (Python 2.7.18)' richiede il pacchetto ipykernel.\n",
      "\u001b[1;31m<a href='command:jupyter.createPythonEnvAndSelectController'>Crea un ambiente Python</a> con i pacchetti necessari.\n",
      "\u001b[1;31mIn alternativa, installa 'ipykernel' utilizzando il comando: 'conda install -n PepperGame ipykernel --update-deps --force-reinstall'"
     ]
    }
   ],
   "source": [
    "def shuffle(df):\n",
    "    num_rows = df.shape[0]\n",
    "\n",
    "    # Generate random indices\n",
    "    random_indices = random.sample(range(num_rows), num_rows)\n",
    "\n",
    "    # Shuffle dataframe rows based on random indices\n",
    "    df = df.loc[random_indices]\n",
    "\n",
    "    return df"
   ]
  },
  {
   "cell_type": "code",
   "execution_count": 7,
   "metadata": {
    "colab": {
     "base_uri": "https://localhost:8080/"
    },
    "executionInfo": {
     "elapsed": 24,
     "status": "ok",
     "timestamp": 1697039054207,
     "user": {
      "displayName": "Giandomenico Solimando",
      "userId": "04898863124661605068"
     },
     "user_tz": -120
    },
    "id": "71cxbKTeORoF",
    "outputId": "4f12ff68-253c-4f35-b026-04321e88b1c7"
   },
   "outputs": [],
   "source": [
    "# drive = \"/content/drive/MyDrive/TAP-Semantic-Consistency-Checking-main/\""
   ]
  },
  {
   "cell_type": "code",
   "execution_count": 8,
   "metadata": {
    "colab": {
     "base_uri": "https://localhost:8080/"
    },
    "executionInfo": {
     "elapsed": 22,
     "status": "ok",
     "timestamp": 1697039054207,
     "user": {
      "displayName": "Giandomenico Solimando",
      "userId": "04898863124661605068"
     },
     "user_tz": -120
    },
    "id": "j4qJsdIAOBUf",
    "outputId": "53344985-7f58-432c-a5af-1fb75c19baac"
   },
   "outputs": [],
   "source": [
    "path = 'datasets/Data_Review/'"
   ]
  },
  {
   "cell_type": "code",
   "execution_count": 9,
   "metadata": {
    "colab": {
     "base_uri": "https://localhost:8080/"
    },
    "executionInfo": {
     "elapsed": 21,
     "status": "ok",
     "timestamp": 1697039054207,
     "user": {
      "displayName": "Giandomenico Solimando",
      "userId": "04898863124661605068"
     },
     "user_tz": -120
    },
    "id": "4LN1POsdOBUf",
    "outputId": "471b32d3-b4b6-4d0d-fcbf-3fc1ed98ed67"
   },
   "outputs": [],
   "source": [
    "# def set_label(x):\n",
    "#     if(x==1):\n",
    "#         return \"Fake\"\n",
    "#     else:\n",
    "#         return \"Real\""
   ]
  },
  {
   "cell_type": "code",
   "execution_count": 10,
   "metadata": {
    "colab": {
     "base_uri": "https://localhost:8080/",
     "height": 478
    },
    "executionInfo": {
     "elapsed": 251,
     "status": "ok",
     "timestamp": 1697039563716,
     "user": {
      "displayName": "Giandomenico Solimando",
      "userId": "04898863124661605068"
     },
     "user_tz": -120
    },
    "id": "bGvpnuXzG4Pq",
    "outputId": "408bc5d5-1a33-48ca-c65a-4a7e051605e3"
   },
   "outputs": [
    {
     "data": {
      "text/html": [
       "<div>\n",
       "<style scoped>\n",
       "    .dataframe tbody tr th:only-of-type {\n",
       "        vertical-align: middle;\n",
       "    }\n",
       "\n",
       "    .dataframe tbody tr th {\n",
       "        vertical-align: top;\n",
       "    }\n",
       "\n",
       "    .dataframe thead th {\n",
       "        text-align: right;\n",
       "    }\n",
       "</style>\n",
       "<table border=\"1\" class=\"dataframe\">\n",
       "  <thead>\n",
       "    <tr style=\"text-align: right;\">\n",
       "      <th></th>\n",
       "      <th>ID</th>\n",
       "      <th>Title</th>\n",
       "      <th>content</th>\n",
       "      <th>label</th>\n",
       "    </tr>\n",
       "  </thead>\n",
       "  <tbody>\n",
       "    <tr>\n",
       "      <th>34</th>\n",
       "      <td>35</td>\n",
       "      <td>Right</td>\n",
       "      <td>as described by others, the length is a littl...</td>\n",
       "      <td>Real</td>\n",
       "    </tr>\n",
       "    <tr>\n",
       "      <th>677</th>\n",
       "      <td>678</td>\n",
       "      <td>Terrible</td>\n",
       "      <td>purchased based on the reviews but total disa...</td>\n",
       "      <td>Real</td>\n",
       "    </tr>\n",
       "    <tr>\n",
       "      <th>266</th>\n",
       "      <td>267</td>\n",
       "      <td>THEY LASTED A DAY</td>\n",
       "      <td>I was happy to have found comfortable headpho...</td>\n",
       "      <td>Real</td>\n",
       "    </tr>\n",
       "    <tr>\n",
       "      <th>861</th>\n",
       "      <td>862</td>\n",
       "      <td>Good product</td>\n",
       "      <td>Good product and a little and I can start by s...</td>\n",
       "      <td>Fake</td>\n",
       "    </tr>\n",
       "    <tr>\n",
       "      <th>1471</th>\n",
       "      <td>1472</td>\n",
       "      <td>Good cover</td>\n",
       "      <td>Good cover in a nice PC. An interior of severa...</td>\n",
       "      <td>Fake</td>\n",
       "    </tr>\n",
       "    <tr>\n",
       "      <th>...</th>\n",
       "      <td>...</td>\n",
       "      <td>...</td>\n",
       "      <td>...</td>\n",
       "      <td>...</td>\n",
       "    </tr>\n",
       "    <tr>\n",
       "      <th>208</th>\n",
       "      <td>209</td>\n",
       "      <td>Exaggerated bass. Excellent battery life. I wa...</td>\n",
       "      <td>the sound is good and the fit too. it's a sha...</td>\n",
       "      <td>Real</td>\n",
       "    </tr>\n",
       "    <tr>\n",
       "      <th>1764</th>\n",
       "      <td>1765</td>\n",
       "      <td>Massager for muscle recovery</td>\n",
       "      <td>The product is certainly of quality. I didn't...</td>\n",
       "      <td>Fake</td>\n",
       "    </tr>\n",
       "    <tr>\n",
       "      <th>1636</th>\n",
       "      <td>1637</td>\n",
       "      <td>strong smell like solvent and small rubber bands</td>\n",
       "      <td>strong smell like solvent and small rubber ba...</td>\n",
       "      <td>Fake</td>\n",
       "    </tr>\n",
       "    <tr>\n",
       "      <th>1638</th>\n",
       "      <td>1639</td>\n",
       "      <td>Good quality Fpp2 mask</td>\n",
       "      <td>Good quality Fpp2 mask. The sound quality is a...</td>\n",
       "      <td>Fake</td>\n",
       "    </tr>\n",
       "    <tr>\n",
       "      <th>1358</th>\n",
       "      <td>1359</td>\n",
       "      <td>I do not recommend.</td>\n",
       "      <td>I do not recommend. Excellent value for money....</td>\n",
       "      <td>Fake</td>\n",
       "    </tr>\n",
       "  </tbody>\n",
       "</table>\n",
       "<p>1806 rows × 4 columns</p>\n",
       "</div>"
      ],
      "text/plain": [
       "        ID                                              Title  \\\n",
       "34      35                                              Right   \n",
       "677    678                                           Terrible   \n",
       "266    267                                  THEY LASTED A DAY   \n",
       "861    862                                       Good product   \n",
       "1471  1472                                         Good cover   \n",
       "...    ...                                                ...   \n",
       "208    209  Exaggerated bass. Excellent battery life. I wa...   \n",
       "1764  1765                       Massager for muscle recovery   \n",
       "1636  1637   strong smell like solvent and small rubber bands   \n",
       "1638  1639                             Good quality Fpp2 mask   \n",
       "1358  1359                                I do not recommend.   \n",
       "\n",
       "                                                content label  \n",
       "34     as described by others, the length is a littl...  Real  \n",
       "677    purchased based on the reviews but total disa...  Real  \n",
       "266    I was happy to have found comfortable headpho...  Real  \n",
       "861   Good product and a little and I can start by s...  Fake  \n",
       "1471  Good cover in a nice PC. An interior of severa...  Fake  \n",
       "...                                                 ...   ...  \n",
       "208    the sound is good and the fit too. it's a sha...  Real  \n",
       "1764   The product is certainly of quality. I didn't...  Fake  \n",
       "1636   strong smell like solvent and small rubber ba...  Fake  \n",
       "1638  Good quality Fpp2 mask. The sound quality is a...  Fake  \n",
       "1358  I do not recommend. Excellent value for money....  Fake  \n",
       "\n",
       "[1806 rows x 4 columns]"
      ]
     },
     "execution_count": 10,
     "metadata": {},
     "output_type": "execute_result"
    }
   ],
   "source": [
    "train_path = path + 'training set contenente fake (generate) e real.csv'\n",
    "\n",
    "col_names = ['ID','Title','content', 'label']\n",
    "train_df = shuffle(pd.read_csv(train_path,sep=';',names=col_names,encoding = \"ISO-8859-1\"))\n",
    "\n",
    "# train_df['label'] = train_df['label'].apply(lambda x: set_label(x) )\n",
    "train_df"
   ]
  },
  {
   "cell_type": "code",
   "execution_count": 11,
   "metadata": {
    "colab": {
     "base_uri": "https://localhost:8080/"
    },
    "executionInfo": {
     "elapsed": 7,
     "status": "ok",
     "timestamp": 1697039054875,
     "user": {
      "displayName": "Giandomenico Solimando",
      "userId": "04898863124661605068"
     },
     "user_tz": -120
    },
    "id": "G2cXoLSpHnx-",
    "outputId": "5d9b34a3-26dc-4313-9dc4-a10d15118621"
   },
   "outputs": [],
   "source": [
    "# val_path = 'devSet.csv'\n",
    "\n",
    "# valid_df = pd.read_csv(val_path,skiprows=1,sep=';',names=col_names,encoding = \"ISO-8859-1\")\n",
    "\n",
    "# valid_df"
   ]
  },
  {
   "cell_type": "code",
   "execution_count": 12,
   "metadata": {
    "colab": {
     "base_uri": "https://localhost:8080/",
     "height": 478
    },
    "executionInfo": {
     "elapsed": 314,
     "status": "ok",
     "timestamp": 1697039565480,
     "user": {
      "displayName": "Giandomenico Solimando",
      "userId": "04898863124661605068"
     },
     "user_tz": -120
    },
    "id": "RNfTve2NITiC",
    "outputId": "e5bbfe34-25c8-4927-a5e4-af07a7fa9689"
   },
   "outputs": [
    {
     "data": {
      "text/html": [
       "<div>\n",
       "<style scoped>\n",
       "    .dataframe tbody tr th:only-of-type {\n",
       "        vertical-align: middle;\n",
       "    }\n",
       "\n",
       "    .dataframe tbody tr th {\n",
       "        vertical-align: top;\n",
       "    }\n",
       "\n",
       "    .dataframe thead th {\n",
       "        text-align: right;\n",
       "    }\n",
       "</style>\n",
       "<table border=\"1\" class=\"dataframe\">\n",
       "  <thead>\n",
       "    <tr style=\"text-align: right;\">\n",
       "      <th></th>\n",
       "      <th>ID</th>\n",
       "      <th>Title</th>\n",
       "      <th>content</th>\n",
       "      <th>label</th>\n",
       "    </tr>\n",
       "  </thead>\n",
       "  <tbody>\n",
       "    <tr>\n",
       "      <th>28</th>\n",
       "      <td>29</td>\n",
       "      <td>Highly recommended</td>\n",
       "      <td>I purchased this watch for my nephew and I can...</td>\n",
       "      <td>Fake</td>\n",
       "    </tr>\n",
       "    <tr>\n",
       "      <th>18</th>\n",
       "      <td>19</td>\n",
       "      <td>More than it seems</td>\n",
       "      <td>I bought the balloons for a birthday. The qual...</td>\n",
       "      <td>Fake</td>\n",
       "    </tr>\n",
       "    <tr>\n",
       "      <th>133</th>\n",
       "      <td>134</td>\n",
       "      <td>Excellent for high beams</td>\n",
       "      <td>Excellent for high beams. Excellent value for...</td>\n",
       "      <td>Fake</td>\n",
       "    </tr>\n",
       "    <tr>\n",
       "      <th>100</th>\n",
       "      <td>101</td>\n",
       "      <td>They last a week</td>\n",
       "      <td>They last a week for mine. It's its duty. I bo...</td>\n",
       "      <td>Fake</td>\n",
       "    </tr>\n",
       "    <tr>\n",
       "      <th>129</th>\n",
       "      <td>130</td>\n",
       "      <td>Good-made Fpp2 mask</td>\n",
       "      <td>Good-made Fpp2 mask. The sound quality is also...</td>\n",
       "      <td>Fake</td>\n",
       "    </tr>\n",
       "    <tr>\n",
       "      <th>...</th>\n",
       "      <td>...</td>\n",
       "      <td>...</td>\n",
       "      <td>...</td>\n",
       "      <td>...</td>\n",
       "    </tr>\n",
       "    <tr>\n",
       "      <th>36</th>\n",
       "      <td>37</td>\n",
       "      <td>Excellent</td>\n",
       "      <td>Excellent product as described, it holds very ...</td>\n",
       "      <td>Fake</td>\n",
       "    </tr>\n",
       "    <tr>\n",
       "      <th>79</th>\n",
       "      <td>80</td>\n",
       "      <td>Good quality Fpp2 mask</td>\n",
       "      <td>purchased hesitantly but when tested they wer...</td>\n",
       "      <td>Real</td>\n",
       "    </tr>\n",
       "    <tr>\n",
       "      <th>6</th>\n",
       "      <td>7</td>\n",
       "      <td>Small but powerful</td>\n",
       "      <td>The antenna in question works really well, it ...</td>\n",
       "      <td>Fake</td>\n",
       "    </tr>\n",
       "    <tr>\n",
       "      <th>105</th>\n",
       "      <td>106</td>\n",
       "      <td>Low quality adhesive applicator too narrow</td>\n",
       "      <td>Low quality adhesive applicator too narrow for...</td>\n",
       "      <td>Fake</td>\n",
       "    </tr>\n",
       "    <tr>\n",
       "      <th>117</th>\n",
       "      <td>118</td>\n",
       "      <td>Practical</td>\n",
       "      <td>Practical but very satisfied as you can see th...</td>\n",
       "      <td>Fake</td>\n",
       "    </tr>\n",
       "  </tbody>\n",
       "</table>\n",
       "<p>150 rows × 4 columns</p>\n",
       "</div>"
      ],
      "text/plain": [
       "      ID                                       Title  \\\n",
       "28    29                          Highly recommended   \n",
       "18    19                          More than it seems   \n",
       "133  134                    Excellent for high beams   \n",
       "100  101                            They last a week   \n",
       "129  130                         Good-made Fpp2 mask   \n",
       "..   ...                                         ...   \n",
       "36    37                                   Excellent   \n",
       "79    80                      Good quality Fpp2 mask   \n",
       "6      7                          Small but powerful   \n",
       "105  106  Low quality adhesive applicator too narrow   \n",
       "117  118                                   Practical   \n",
       "\n",
       "                                               content label  \n",
       "28   I purchased this watch for my nephew and I can...  Fake  \n",
       "18   I bought the balloons for a birthday. The qual...  Fake  \n",
       "133   Excellent for high beams. Excellent value for...  Fake  \n",
       "100  They last a week for mine. It's its duty. I bo...  Fake  \n",
       "129  Good-made Fpp2 mask. The sound quality is also...  Fake  \n",
       "..                                                 ...   ...  \n",
       "36   Excellent product as described, it holds very ...  Fake  \n",
       "79    purchased hesitantly but when tested they wer...  Real  \n",
       "6    The antenna in question works really well, it ...  Fake  \n",
       "105  Low quality adhesive applicator too narrow for...  Fake  \n",
       "117  Practical but very satisfied as you can see th...  Fake  \n",
       "\n",
       "[150 rows x 4 columns]"
      ]
     },
     "execution_count": 12,
     "metadata": {},
     "output_type": "execute_result"
    }
   ],
   "source": [
    "test_path = path + 'test set contenente fake (generate) e real.csv'\n",
    "\n",
    "test_df = shuffle(pd.read_csv(test_path,sep=';',names=col_names,encoding = \"ISO-8859-1\"))\n",
    "\n",
    "# test_df['label'] = test_df['label'].apply(lambda x: set_label(x) )\n",
    "test_df"
   ]
  },
  {
   "cell_type": "code",
   "execution_count": 13,
   "metadata": {
    "colab": {
     "base_uri": "https://localhost:8080/"
    },
    "executionInfo": {
     "elapsed": 261,
     "status": "ok",
     "timestamp": 1697039567151,
     "user": {
      "displayName": "Giandomenico Solimando",
      "userId": "04898863124661605068"
     },
     "user_tz": -120
    },
    "id": "XSfCXc3JsueE",
    "outputId": "df4415bb-6916-40bf-f5e3-4a56086526aa"
   },
   "outputs": [],
   "source": [
    "# Set seed for reproducibility.\n",
    "set_seed(123)\n",
    "\n",
    "# Number of training epochs (authors on fine-tuning Bert recommend between 2 and 4).\n",
    "epochs = 10\n",
    "\n",
    "# Number of batches - depending on the max sequence length and GPU memory.\n",
    "# For 512 sequence length batch of 10 works without cuda memory issues.\n",
    "# For small sequence length can try batch of 32 or higher.\n",
    "batch_size = 32\n",
    "\n",
    "# Pad or truncate text sequences to a specific length\n",
    "# if `None` it will use maximum sequence of word piece tokens allowed by model.\n",
    "max_length = 100\n",
    "\n",
    "# Look for gpu to use. Will use `cpu` by default if no gpu found.\n",
    "device = torch.device('cuda' if torch.cuda.is_available() else 'cpu')\n",
    "\n",
    "# Name of transformers model - will use already pretrained model.\n",
    "# Path of transformer model - will load your own model from local disk.\n",
    "model_name_or_path = 'gpt2'\n",
    "\n",
    "# Dictionary of labels and their id - this will be used to convert.\n",
    "# String labels to number ids.\n",
    "labels_ids = {'Real': 0, 'Fake': 1}\n",
    "# labels_ids = {0 : 'Real', 1 : 'Fake'}\n",
    "\n",
    "\n",
    "# How many labels are we using in training.\n",
    "# This is used to decide size of classification head.\n",
    "n_labels = len(labels_ids)"
   ]
  },
  {
   "cell_type": "code",
   "execution_count": 14,
   "metadata": {
    "colab": {
     "base_uri": "https://localhost:8080/"
    },
    "executionInfo": {
     "elapsed": 203,
     "status": "ok",
     "timestamp": 1697039568595,
     "user": {
      "displayName": "Giandomenico Solimando",
      "userId": "04898863124661605068"
     },
     "user_tz": -120
    },
    "id": "HMRBmpt7sRko",
    "outputId": "b05fd078-0560-4816-dba7-5e98c797e987"
   },
   "outputs": [],
   "source": [
    "class ReviewDataset(Dataset):\n",
    "  r\"\"\"PyTorch Dataset class for loading data.\n",
    "\n",
    "  This is where the data parsing happens.\n",
    "\n",
    "  This class is built with reusability in mind: it can be used as is as.\n",
    "\n",
    "  Arguments:\n",
    "\n",
    "    path (:obj:`str`):\n",
    "        Path to the data partition.\n",
    "\n",
    "  \"\"\"\n",
    "\n",
    "  def __init__(self, dataset, use_tokenizer):\n",
    "    self.texts = []\n",
    "    self.labels = []\n",
    "\n",
    "    for i in range(len(dataset)):\n",
    "      # text = \"Title = \" + str(dataset.iloc[i]['Title']) + \"; Content = \" + str(dataset.iloc[i]['content'])\n",
    "      text = \"Content = \" + str(dataset.iloc[i]['content'])\n",
    "\n",
    "      # Save content.\n",
    "      self.texts.append(text)\n",
    "      # Save encode labels.\n",
    "      self.labels.append(dataset.iloc[i]['label'])\n",
    "\n",
    "    # Number of examples.\n",
    "    self.n_examples = len(self.labels)\n",
    "\n",
    "    return\n",
    "\n",
    "  def __len__(self):\n",
    "    r\"\"\"When used `len` return the number of examples.\n",
    "\n",
    "    \"\"\"\n",
    "\n",
    "    return self.n_examples\n",
    "\n",
    "  def __getitem__(self, item):\n",
    "    r\"\"\"Given an index return an example from the position.\n",
    "\n",
    "    Arguments:\n",
    "\n",
    "      item (:obj:`int`):\n",
    "          Index position to pick an example to return.\n",
    "\n",
    "    Returns:\n",
    "      :obj:`Dict[str, str]`: Dictionary of inputs that contain text and\n",
    "      asociated labels.\n",
    "\n",
    "    \"\"\"\n",
    "    return {'text':self.texts[item],\n",
    "            'label':self.labels[item]}"
   ]
  },
  {
   "cell_type": "code",
   "execution_count": 15,
   "metadata": {
    "colab": {
     "base_uri": "https://localhost:8080/"
    },
    "executionInfo": {
     "elapsed": 202,
     "status": "ok",
     "timestamp": 1697039669133,
     "user": {
      "displayName": "Giandomenico Solimando",
      "userId": "04898863124661605068"
     },
     "user_tz": -120
    },
    "id": "RpIGlNwQsui7",
    "outputId": "54851f9a-f5bb-4a00-f23b-919744366113"
   },
   "outputs": [],
   "source": [
    "class Gpt2ClassificationCollator(object):\n",
    "    r\"\"\"\n",
    "    Data Collator used for GPT2 in a classificaiton rask.\n",
    "\n",
    "    It uses a given tokenizer and label encoder to convert any text and labels to numbers that\n",
    "    can go straight into a GPT2 model.\n",
    "\n",
    "    This class is built with reusability in mind: it can be used as is as long\n",
    "    as the `dataloader` outputs a batch in dictionary format that can be passed\n",
    "    straight into the model - `model(**batch)`.\n",
    "\n",
    "    Arguments:\n",
    "\n",
    "      use_tokenizer (:obj:`transformers.tokenization_?`):\n",
    "          Transformer type tokenizer used to process raw text into numbers.\n",
    "\n",
    "      labels_ids (:obj:`dict`):\n",
    "          Dictionary to encode any labels names into numbers. Keys map to\n",
    "          labels names and Values map to number associated to those labels.\n",
    "\n",
    "      max_sequence_len (:obj:`int`, `optional`)\n",
    "          Value to indicate the maximum desired sequence to truncate or pad text\n",
    "          sequences. If no value is passed it will used maximum sequence size\n",
    "          supported by the tokenizer and model.\n",
    "\n",
    "    \"\"\"\n",
    "\n",
    "    def __init__(self, use_tokenizer, labels_encoder, max_sequence_len=None):\n",
    "\n",
    "        # Tokenizer to be used inside the class.\n",
    "        self.use_tokenizer = use_tokenizer\n",
    "        # Check max sequence length.\n",
    "        self.max_sequence_len = use_tokenizer.model_max_length if max_sequence_len is None else max_sequence_len\n",
    "        # Label encoder used inside the class.\n",
    "        self.labels_encoder = labels_encoder\n",
    "\n",
    "        return\n",
    "\n",
    "    def __call__(self, sequences):\n",
    "        r\"\"\"\n",
    "        This function allowes the class objesct to be used as a function call.\n",
    "        Sine the PyTorch DataLoader needs a collator function, I can use this\n",
    "        class as a function.\n",
    "\n",
    "        Arguments:\n",
    "\n",
    "          item (:obj:`list`):\n",
    "              List of texts and labels.\n",
    "\n",
    "        Returns:\n",
    "          :obj:`Dict[str, object]`: Dictionary of inputs that feed into the model.\n",
    "          It holddes the statement `model(**Returned Dictionary)`.\n",
    "        \"\"\"\n",
    "        # print(\"sequences: \", sequences, \"\\n\")\n",
    "\n",
    "        # Get all texts from sequences list.\n",
    "        texts = [sequence['text'] for sequence in sequences]\n",
    "        # print(\"texts: \", texts, \"\\n\")\n",
    "\n",
    "        # Get all labels from sequences list.\n",
    "        labels = [sequence['label'] for sequence in sequences]\n",
    "\n",
    "        # print(\"labels_1: \", labels, \"\\n\")\n",
    "        # print(\"labels_3: \", sequences, \"\\n\")\n",
    "\n",
    "        # Encode all labels using label encoder.\n",
    "        labels = [self.labels_encoder[label] for label in labels]\n",
    "        # print(\"labels_2: \", labels, \"\\n\")\n",
    "\n",
    "        # Call tokenizer on all texts to convert into tensors of numbers with\n",
    "        # appropriate padding.\n",
    "        inputs = self.use_tokenizer(text=texts, return_tensors=\"pt\", padding=True, truncation=True,  max_length=self.max_sequence_len)\n",
    "        # Update the inputs with the associated encoded labels as tensor.\n",
    "        inputs.update({'labels':torch.tensor(labels)})\n",
    "\n",
    "        return inputs"
   ]
  },
  {
   "cell_type": "code",
   "execution_count": 16,
   "metadata": {
    "colab": {
     "base_uri": "https://localhost:8080/"
    },
    "executionInfo": {
     "elapsed": 225,
     "status": "ok",
     "timestamp": 1697039578792,
     "user": {
      "displayName": "Giandomenico Solimando",
      "userId": "04898863124661605068"
     },
     "user_tz": -120
    },
    "id": "ccvRiGE4s8Ca",
    "outputId": "84750b83-bede-40ea-d4ab-7244931a3cbe"
   },
   "outputs": [],
   "source": [
    "def validation(dataloader, device_):\n",
    "  r\"\"\"Validation function to evaluate model performance on a\n",
    "  separate set of data.\n",
    "\n",
    "  This function will return the true and predicted labels so we can use later\n",
    "  to evaluate the model's performance.\n",
    "\n",
    "  This function is built with reusability in mind: it can be used as is as long\n",
    "    as the `dataloader` outputs a batch in dictionary format that can be passed\n",
    "    straight into the model - `model(**batch)`.\n",
    "\n",
    "  Arguments:\n",
    "\n",
    "    dataloader (:obj:`torch.utils.data.dataloader.DataLoader`):\n",
    "          Parsed data into batches of tensors.\n",
    "\n",
    "    device_ (:obj:`torch.device`):\n",
    "          Device used to load tensors before feeding to model.\n",
    "\n",
    "  Returns:\n",
    "\n",
    "    :obj:`List[List[int], List[int], float]`: List of [True Labels, Predicted\n",
    "        Labels, Train Average Loss]\n",
    "  \"\"\"\n",
    "\n",
    "  # Use global variable for model.\n",
    "  global model\n",
    "\n",
    "  # Tracking variables\n",
    "  predictions_labels = []\n",
    "  true_labels = []\n",
    "  #total loss for this epoch.\n",
    "  total_loss = 0\n",
    "\n",
    "  # Put the model in evaluation mode--the dropout layers behave differently\n",
    "  # during evaluation.\n",
    "  model.eval()\n",
    "\n",
    "  # Evaluate data for one epoch\n",
    "  for batch in tqdm(dataloader, total=len(dataloader)):\n",
    "\n",
    "    # add original labels\n",
    "    true_labels += batch['labels'].numpy().flatten().tolist()\n",
    "\n",
    "    # move batch to device\n",
    "    batch = {k:v.type(torch.long).to(device_) for k,v in batch.items()}\n",
    "\n",
    "    # Telling the model not to compute or store gradients, saving memory and\n",
    "    # speeding up validation\n",
    "    with torch.no_grad():\n",
    "\n",
    "        # Forward pass, calculate logit predictions.\n",
    "        # This will return the logits rather than the loss because we have\n",
    "        # not provided labels.\n",
    "        # token_type_ids is the same as the \"segment ids\", which\n",
    "        # differentiates sentence 1 and 2 in 2-sentence tasks.\n",
    "        # The documentation for this `model` function is here:\n",
    "        # https://huggingface.co/transformers/v2.2.0/model_doc/bert.html#transformers.BertForSequenceClassification\n",
    "        outputs = model(**batch)\n",
    "\n",
    "        # The call to `model` always returns a tuple, so we need to pull the\n",
    "        # loss value out of the tuple along with the logits. We will use logits\n",
    "        # later to to calculate training accuracy.\n",
    "        loss, logits = outputs[:2]\n",
    "\n",
    "        # Move logits and labels to CPU\n",
    "        logits = logits.detach().cpu().numpy()\n",
    "\n",
    "        # Accumulate the training loss over all of the batches so that we can\n",
    "        # calculate the average loss at the end. `loss` is a Tensor containing a\n",
    "        # single value; the `.item()` function just returns the Python value\n",
    "        # from the tensor.\n",
    "        total_loss += loss.item()\n",
    "\n",
    "        # get predicitons to list\n",
    "        predict_content = logits.argmax(axis=-1).flatten().tolist()\n",
    "\n",
    "        # update list\n",
    "        predictions_labels += predict_content\n",
    "\n",
    "  # Calculate the average loss over the training data.\n",
    "  avg_epoch_loss = total_loss / len(dataloader)\n",
    "\n",
    "  # Return all true labels and prediciton for future evaluations.\n",
    "  return true_labels, predictions_labels, avg_epoch_loss"
   ]
  },
  {
   "cell_type": "code",
   "execution_count": 17,
   "metadata": {
    "colab": {
     "base_uri": "https://localhost:8080/"
    },
    "executionInfo": {
     "elapsed": 2,
     "status": "ok",
     "timestamp": 1697039580890,
     "user": {
      "displayName": "Giandomenico Solimando",
      "userId": "04898863124661605068"
     },
     "user_tz": -120
    },
    "id": "Z5pNRUAas0SJ",
    "outputId": "dbbec7e2-6259-42c3-b26e-7e4cc4846b5a"
   },
   "outputs": [],
   "source": [
    "def train(dataloader, optimizer_, scheduler_, device_):\n",
    "  r\"\"\"\n",
    "  Train pytorch model on a single pass through the data loader.\n",
    "\n",
    "  It will use the global variable `model` which is the transformer model\n",
    "  loaded on `_device` that we want to train on.\n",
    "\n",
    "  This function is built with reusability in mind: it can be used as is as long\n",
    "    as the `dataloader` outputs a batch in dictionary format that can be passed\n",
    "    straight into the model - `model(**batch)`.\n",
    "\n",
    "  Arguments:\n",
    "\n",
    "      dataloader (:obj:`torch.utils.data.dataloader.DataLoader`):\n",
    "          Parsed data into batches of tensors.\n",
    "\n",
    "      optimizer_ (:obj:`transformers.optimization.AdamW`):\n",
    "          Optimizer used for training.\n",
    "\n",
    "      scheduler_ (:obj:`torch.optim.lr_scheduler.LambdaLR`):\n",
    "          PyTorch scheduler.\n",
    "\n",
    "      device_ (:obj:`torch.device`):\n",
    "          Device used to load tensors before feeding to model.\n",
    "\n",
    "  Returns:\n",
    "\n",
    "      :obj:`List[List[int], List[int], float]`: List of [True Labels, Predicted\n",
    "        Labels, Train Average Loss].\n",
    "  \"\"\"\n",
    "\n",
    "  # Use global variable for model.\n",
    "  global model\n",
    "\n",
    "  # Tracking variables.\n",
    "  predictions_labels = []\n",
    "  true_labels = []\n",
    "  # Total loss for this epoch.\n",
    "  total_loss = 0\n",
    "\n",
    "  # Put the model into training mode.\n",
    "  model.train()\n",
    "\n",
    "  # For each batch of training data...\n",
    "  for batch in tqdm(dataloader, total=len(dataloader)):\n",
    "\n",
    "    # Add original labels - use later for evaluation.\n",
    "    true_labels += batch['labels'].numpy().flatten().tolist()\n",
    "\n",
    "    # move batch to device\n",
    "    batch = {k:v.type(torch.long).to(device_) for k,v in batch.items()}\n",
    "\n",
    "    # Always clear any previously calculated gradients before performing a\n",
    "    # backward pass.\n",
    "    model.zero_grad()\n",
    "\n",
    "    # Perform a forward pass (evaluate the model on this training batch).\n",
    "    # This will return the loss (rather than the model output) because we\n",
    "    # have provided the `labels`.\n",
    "    # The documentation for this a bert model function is here:\n",
    "    # https://huggingface.co/transformers/v2.2.0/model_doc/bert.html#transformers.BertForSequenceClassification\n",
    "    outputs = model(**batch)\n",
    "\n",
    "    # The call to `model` always returns a tuple, so we need to pull the\n",
    "    # loss value out of the tuple along with the logits. We will use logits\n",
    "    # later to calculate training accuracy.\n",
    "    loss, logits = outputs[:2]\n",
    "\n",
    "    # Accumulate the training loss over all of the batches so that we can\n",
    "    # calculate the average loss at the end. `loss` is a Tensor containing a\n",
    "    # single value; the `.item()` function just returns the Python value\n",
    "    # from the tensor.\n",
    "    total_loss += loss.item()\n",
    "\n",
    "    # Perform a backward pass to calculate the gradients.\n",
    "    loss.backward()\n",
    "\n",
    "    # Clip the norm of the gradients to 1.0.\n",
    "    # This is to help prevent the \"exploding gradients\" problem.\n",
    "    torch.nn.utils.clip_grad_norm_(model.parameters(), 1.0)\n",
    "\n",
    "    # Update parameters and take a step using the computed gradient.\n",
    "    # The optimizer dictates the \"update rule\"--how the parameters are\n",
    "    # modified based on their gradients, the learning rate, etc.\n",
    "    optimizer.step()\n",
    "\n",
    "    # Update the learning rate.\n",
    "    scheduler.step()\n",
    "\n",
    "    # Move logits and labels to CPU\n",
    "    logits = logits.detach().cpu().numpy()\n",
    "\n",
    "    # Convert these logits to list of predicted labels values.\n",
    "    predictions_labels += logits.argmax(axis=-1).flatten().tolist()\n",
    "\n",
    "  # Calculate the average loss over the training data.\n",
    "  avg_epoch_loss = total_loss / len(dataloader)\n",
    "\n",
    "  # Return all true labels and prediction for future evaluations.\n",
    "  return true_labels, predictions_labels, avg_epoch_loss"
   ]
  },
  {
   "cell_type": "code",
   "execution_count": 18,
   "metadata": {
    "colab": {
     "base_uri": "https://localhost:8080/"
    },
    "executionInfo": {
     "elapsed": 4548,
     "status": "ok",
     "timestamp": 1697039589157,
     "user": {
      "displayName": "Giandomenico Solimando",
      "userId": "04898863124661605068"
     },
     "user_tz": -120
    },
    "id": "7fGM2wkBsumi",
    "outputId": "166bb082-32bb-4edb-ae0b-ee51422401eb"
   },
   "outputs": [
    {
     "name": "stdout",
     "output_type": "stream",
     "text": [
      "Loading configuraiton...\n",
      "Loading tokenizer...\n",
      "Loading model...\n"
     ]
    },
    {
     "name": "stderr",
     "output_type": "stream",
     "text": [
      "Some weights of GPT2ForSequenceClassification were not initialized from the model checkpoint at gpt2 and are newly initialized: ['score.weight']\n",
      "You should probably TRAIN this model on a down-stream task to be able to use it for predictions and inference.\n"
     ]
    },
    {
     "name": "stdout",
     "output_type": "stream",
     "text": [
      "Model loaded to `cpu`\n"
     ]
    }
   ],
   "source": [
    "# Get model configuration.\n",
    "print('Loading configuraiton...')\n",
    "model_config = GPT2Config.from_pretrained(pretrained_model_name_or_path=model_name_or_path, num_labels=n_labels)\n",
    "\n",
    "# Get model's tokenizer.\n",
    "print('Loading tokenizer...')\n",
    "tokenizer = GPT2Tokenizer.from_pretrained(pretrained_model_name_or_path=model_name_or_path)\n",
    "# default to left padding\n",
    "tokenizer.padding_side = \"left\"\n",
    "# Define PAD Token = EOS Token = 50256\n",
    "tokenizer.pad_token = tokenizer.eos_token\n",
    "\n",
    "# Get the actual model.\n",
    "print('Loading model...')\n",
    "model = GPT2ForSequenceClassification.from_pretrained(pretrained_model_name_or_path=model_name_or_path, config=model_config)\n",
    "\n",
    "# resize model embedding to match new tokenizer\n",
    "model.resize_token_embeddings(len(tokenizer))\n",
    "\n",
    "# fix model padding token id\n",
    "model.config.pad_token_id = model.config.eos_token_id\n",
    "\n",
    "# Load model to defined device.\n",
    "model.to(device)\n",
    "print('Model loaded to `%s`'%device)"
   ]
  },
  {
   "cell_type": "code",
   "execution_count": 19,
   "metadata": {
    "colab": {
     "base_uri": "https://localhost:8080/"
    },
    "executionInfo": {
     "elapsed": 1264,
     "status": "ok",
     "timestamp": 1697039590419,
     "user": {
      "displayName": "Giandomenico Solimando",
      "userId": "04898863124661605068"
     },
     "user_tz": -120
    },
    "id": "7Z3HuYZHtnwF",
    "outputId": "9a860a7c-d920-4c31-8cef-e5d44654a2aa"
   },
   "outputs": [
    {
     "name": "stdout",
     "output_type": "stream",
     "text": [
      "Dealing with Train...\n",
      "Created `train_dataset` with 1806 examples!\n",
      "Created `train_dataloader` with 57 batches!\n",
      "\n"
     ]
    }
   ],
   "source": [
    "# Create data collator to encode text and labels into numbers.\n",
    "gpt2_classificaiton_collator = Gpt2ClassificationCollator(use_tokenizer=tokenizer,\n",
    "                                                          labels_encoder=labels_ids,\n",
    "                                                          max_sequence_len=max_length)\n",
    "\n",
    "\n",
    "print('Dealing with Train...')\n",
    "# Create pytorch dataset.\n",
    "train_dataset = ReviewDataset(train_df,\n",
    "                               use_tokenizer=tokenizer)\n",
    "print('Created `train_dataset` with %d examples!'%len(train_dataset))\n",
    "\n",
    "# Move pytorch dataset into dataloader.\n",
    "train_dataloader = DataLoader(train_dataset, batch_size=batch_size, shuffle=True, collate_fn=gpt2_classificaiton_collator)\n",
    "print('Created `train_dataloader` with %d batches!'%len(train_dataloader))\n",
    "\n",
    "print()\n",
    "\n",
    "# print('Dealing with Validation...')\n",
    "# # Create pytorch dataset.\n",
    "# valid_dataset =  ReviewDataset(,\n",
    "#                                use_tokenizer=tokenizer)\n",
    "# print('Created `valid_dataset` with %d examples!'%len(valid_dataset))\n",
    "\n",
    "# Move pytorch dataset into dataloader.\n",
    "# valid_dataloader = DataLoader(valid_dataset, batch_size=batch_size, shuffle=False, collate_fn=gpt2_classificaiton_collator)\n",
    "# print('Created `eval_dataloader` with %d batches!'%len(valid_dataloader))"
   ]
  },
  {
   "cell_type": "code",
   "execution_count": 20,
   "metadata": {
    "colab": {
     "base_uri": "https://localhost:8080/",
     "height": 1000,
     "referenced_widgets": [
      "6918b268f7d94168a912eac8def07375",
      "12439175151a4dd58ea81453765e6f58",
      "3d6d3699a6da4aa390cd2b3c45d396c8",
      "51a9482107974cfab68653e0e88da961",
      "edd3a28c11fe46b884a0a9879ca91931",
      "ab85a9ffc565483382dc1ca5b7fd1762",
      "6ae883e5a51c46178546d92d6dd8609f",
      "a89638fa3afa4092b3a5b8fd74582f6c",
      "031d170f345145808f6c7839e1eb3fe1",
      "fd4e0c7c85254298a38a0001e067d696",
      "85b66ccc17cd4614a7281a08636983f7",
      "1546d00d183d4997b2f0052423fe2d82",
      "3268f11f800c4093b5ddfde426ee9fa6",
      "c3a7fce6652b47c5ba2c14fdd5aebc21",
      "3ade4a96cd1b4ccfaf9d06cd8066a91c",
      "39fd2d1307eb4e2fa65fa4be5151792d",
      "40e62f59743e4ebfa577400f3b99de02",
      "fb935e423dfb4259b2924c9fc8662082",
      "d0af5d3c2bb442ef96c6d984bdd189bd",
      "7e86674042aa4820bd62b938465b0fe2",
      "48319519031a42c392a85765fbff0155",
      "c676e8908da94ea299c98c3ed67980d8"
     ]
    },
    "executionInfo": {
     "elapsed": 36203,
     "status": "ok",
     "timestamp": 1697039626615,
     "user": {
      "displayName": "Giandomenico Solimando",
      "userId": "04898863124661605068"
     },
     "user_tz": -120
    },
    "id": "n6n0YNfvtnyU",
    "outputId": "031d04e2-bd20-409d-cbdd-6f6353a42a2f"
   },
   "outputs": [
    {
     "name": "stderr",
     "output_type": "stream",
     "text": [
      "C:\\Users\\giand\\AppData\\Roaming\\Python\\Python39\\site-packages\\transformers\\optimization.py:411: FutureWarning: This implementation of AdamW is deprecated and will be removed in a future version. Use the PyTorch implementation torch.optim.AdamW instead, or set `no_deprecation_warning=True` to disable this warning\n",
      "  warnings.warn(\n"
     ]
    },
    {
     "name": "stdout",
     "output_type": "stream",
     "text": [
      "Epoch\n"
     ]
    },
    {
     "data": {
      "application/vnd.jupyter.widget-view+json": {
       "model_id": "cdccb4850fc04227a001532be9318d78",
       "version_major": 2,
       "version_minor": 0
      },
      "text/plain": [
       "  0%|          | 0/10 [00:00<?, ?it/s]"
      ]
     },
     "metadata": {},
     "output_type": "display_data"
    },
    {
     "name": "stdout",
     "output_type": "stream",
     "text": [
      "\n",
      "Training on batches...\n",
      "Epoch  0 ...\n"
     ]
    },
    {
     "data": {
      "application/vnd.jupyter.widget-view+json": {
       "model_id": "a7d399dc9e0240648423a77b5e4e0f91",
       "version_major": 2,
       "version_minor": 0
      },
      "text/plain": [
       "  0%|          | 0/57 [00:00<?, ?it/s]"
      ]
     },
     "metadata": {},
     "output_type": "display_data"
    },
    {
     "name": "stdout",
     "output_type": "stream",
     "text": [
      "\n",
      "Training on batches...\n",
      "Epoch  1 ...\n"
     ]
    },
    {
     "data": {
      "application/vnd.jupyter.widget-view+json": {
       "model_id": "89e986076bc949169e6d3c0e5864f6f5",
       "version_major": 2,
       "version_minor": 0
      },
      "text/plain": [
       "  0%|          | 0/57 [00:00<?, ?it/s]"
      ]
     },
     "metadata": {},
     "output_type": "display_data"
    },
    {
     "name": "stdout",
     "output_type": "stream",
     "text": [
      "\n",
      "Training on batches...\n",
      "Epoch  2 ...\n"
     ]
    },
    {
     "data": {
      "application/vnd.jupyter.widget-view+json": {
       "model_id": "bd5a9a773e1546f989c19a7207268f13",
       "version_major": 2,
       "version_minor": 0
      },
      "text/plain": [
       "  0%|          | 0/57 [00:00<?, ?it/s]"
      ]
     },
     "metadata": {},
     "output_type": "display_data"
    },
    {
     "name": "stdout",
     "output_type": "stream",
     "text": [
      "\n",
      "Training on batches...\n",
      "Epoch  3 ...\n"
     ]
    },
    {
     "data": {
      "application/vnd.jupyter.widget-view+json": {
       "model_id": "52cb67b912ed46449c07ec7fa7ce8e32",
       "version_major": 2,
       "version_minor": 0
      },
      "text/plain": [
       "  0%|          | 0/57 [00:00<?, ?it/s]"
      ]
     },
     "metadata": {},
     "output_type": "display_data"
    },
    {
     "name": "stdout",
     "output_type": "stream",
     "text": [
      "\n",
      "Training on batches...\n",
      "Epoch  4 ...\n"
     ]
    },
    {
     "data": {
      "application/vnd.jupyter.widget-view+json": {
       "model_id": "39013d50bee24d0e86c904c0714b680e",
       "version_major": 2,
       "version_minor": 0
      },
      "text/plain": [
       "  0%|          | 0/57 [00:00<?, ?it/s]"
      ]
     },
     "metadata": {},
     "output_type": "display_data"
    },
    {
     "name": "stdout",
     "output_type": "stream",
     "text": [
      "\n",
      "Training on batches...\n",
      "Epoch  5 ...\n"
     ]
    },
    {
     "data": {
      "application/vnd.jupyter.widget-view+json": {
       "model_id": "76f5ba35cdf843b780cce098759882c0",
       "version_major": 2,
       "version_minor": 0
      },
      "text/plain": [
       "  0%|          | 0/57 [00:00<?, ?it/s]"
      ]
     },
     "metadata": {},
     "output_type": "display_data"
    },
    {
     "name": "stdout",
     "output_type": "stream",
     "text": [
      "\n",
      "Training on batches...\n",
      "Epoch  6 ...\n"
     ]
    },
    {
     "data": {
      "application/vnd.jupyter.widget-view+json": {
       "model_id": "7c95da05df5841409190b77203541149",
       "version_major": 2,
       "version_minor": 0
      },
      "text/plain": [
       "  0%|          | 0/57 [00:00<?, ?it/s]"
      ]
     },
     "metadata": {},
     "output_type": "display_data"
    },
    {
     "name": "stdout",
     "output_type": "stream",
     "text": [
      "\n",
      "Training on batches...\n",
      "Epoch  7 ...\n"
     ]
    },
    {
     "data": {
      "application/vnd.jupyter.widget-view+json": {
       "model_id": "13efc15826e8448da17e42669f0bb218",
       "version_major": 2,
       "version_minor": 0
      },
      "text/plain": [
       "  0%|          | 0/57 [00:00<?, ?it/s]"
      ]
     },
     "metadata": {},
     "output_type": "display_data"
    },
    {
     "name": "stdout",
     "output_type": "stream",
     "text": [
      "\n",
      "Training on batches...\n",
      "Epoch  8 ...\n"
     ]
    },
    {
     "data": {
      "application/vnd.jupyter.widget-view+json": {
       "model_id": "f79ac94c512c4ef8adc426dd1a4fbfdb",
       "version_major": 2,
       "version_minor": 0
      },
      "text/plain": [
       "  0%|          | 0/57 [00:00<?, ?it/s]"
      ]
     },
     "metadata": {},
     "output_type": "display_data"
    },
    {
     "name": "stdout",
     "output_type": "stream",
     "text": [
      "\n",
      "Training on batches...\n",
      "Epoch  9 ...\n"
     ]
    },
    {
     "data": {
      "application/vnd.jupyter.widget-view+json": {
       "model_id": "80c2584a4a8648708a5aa9d793356a71",
       "version_major": 2,
       "version_minor": 0
      },
      "text/plain": [
       "  0%|          | 0/57 [00:00<?, ?it/s]"
      ]
     },
     "metadata": {},
     "output_type": "display_data"
    },
    {
     "name": "stderr",
     "output_type": "stream",
     "text": [
      "C:\\Users\\giand\\AppData\\Roaming\\Python\\Python39\\site-packages\\ml_things\\plot_functions.py:409: DeprecationWarning: `magnify` needs to have value in [0,1]! `1.2` will be converted to `0.1` as default.\n",
      "  warnings.warn(f'`magnify` needs to have value in [0,1]! `{magnify}` will be converted to `0.1` as default.',\n"
     ]
    },
    {
     "data": {
      "image/png": "[encoded data removed]",
      "text/plain": [
       "<Figure size 2880x720 with 1 Axes>"
      ]
     },
     "metadata": {},
     "output_type": "display_data"
    },
    {
     "name": "stderr",
     "output_type": "stream",
     "text": [
      "C:\\Users\\giand\\AppData\\Roaming\\Python\\Python39\\site-packages\\ml_things\\plot_functions.py:409: DeprecationWarning: `magnify` needs to have value in [0,1]! `1.2` will be converted to `0.1` as default.\n",
      "  warnings.warn(f'`magnify` needs to have value in [0,1]! `{magnify}` will be converted to `0.1` as default.',\n"
     ]
    },
    {
     "data": {
      "image/png": "[encoded data removed]",
      "text/plain": [
       "<Figure size 2880x720 with 1 Axes>"
      ]
     },
     "metadata": {},
     "output_type": "display_data"
    }
   ],
   "source": [
    "# Note: AdamW is a class from the huggingface library (as opposed to pytorch)\n",
    "# I believe the 'W' stands for 'Weight Decay fix\"\n",
    "optimizer = AdamW(model.parameters(),\n",
    "                  lr = 2e-5, # default is 5e-5, our notebook had 2e-5\n",
    "                  eps = 1e-8 # default is 1e-8.\n",
    "                  )\n",
    "\n",
    "# Total number of training steps is number of batches * number of epochs.\n",
    "# `train_dataloader` contains batched data so `len(train_dataloader)` gives\n",
    "# us the number of batches.\n",
    "total_steps = len(train_dataloader) * epochs\n",
    "\n",
    "# Create the learning rate scheduler.\n",
    "scheduler = get_linear_schedule_with_warmup(optimizer,\n",
    "                                            num_warmup_steps = 0, # Default value in run_glue.py\n",
    "                                            num_training_steps = total_steps)\n",
    "\n",
    "# Store the average loss after each epoch so we can plot them.\n",
    "all_loss = {'train_loss':[], 'val_loss':[]}\n",
    "all_acc = {'train_acc':[], 'val_acc':[]}\n",
    "\n",
    "# Loop through each epoch.\n",
    "print('Epoch')\n",
    "for epoch in tqdm(range(epochs)):\n",
    "  print()\n",
    "  print('Training on batches...')\n",
    "  print('Epoch ',epoch,'...')\n",
    "  # Perform one full pass over the training set.\n",
    "  train_labels, train_predict, train_loss = train(train_dataloader, optimizer, scheduler, device)\n",
    "  train_acc = accuracy_score(train_labels, train_predict)\n",
    "\n",
    "  # Get prediction form model on validation data.\n",
    "  # print('Validation on batches...')\n",
    "  # valid_labels, valid_predict, val_loss = validation(valid_dataloader, device)\n",
    "  # val_acc = accuracy_score(valid_labels, valid_predict)\n",
    "\n",
    "  # Print loss and accuracy values to see how training evolves.\n",
    "  # print(\"  train_loss: %.5f - val_loss: %.5f - train_acc: %.5f - valid_acc: %.5f\"%(train_loss, val_loss, train_acc, val_acc))\n",
    "  # print()\n",
    "\n",
    "  # Store the loss value for plotting the learning curve.\n",
    "  all_loss['train_loss'].append(train_loss)\n",
    "  # all_loss['val_loss'].append(val_loss)\n",
    "  all_acc['train_acc'].append(train_acc)\n",
    "  # all_acc['val_acc'].append(val_acc)\n",
    "\n",
    "  # Save the model\n",
    "  output_model_file = 'models/gpt2_amazonreviews_',epoch,'.pt',\n",
    "\n",
    "  model_to_save = model\n",
    "  torch.save(model_to_save, output_model_file)\n",
    "\n",
    "  print('All files saved\\n')\n",
    "\n",
    "# Plot loss curves.\n",
    "plot_dict(all_loss, use_xlabel='Epochs', use_ylabel='Value', use_linestyles=['-', '--'])\n",
    "\n",
    "# Plot accuracy curves.\n",
    "plot_dict(all_acc, use_xlabel='Epochs', use_ylabel='Value', use_linestyles=['-', '--'])"
   ]
  },
  {
   "cell_type": "code",
   "execution_count": 29,
   "metadata": {
    "colab": {
     "base_uri": "https://localhost:8080/",
     "height": 659,
     "referenced_widgets": [
      "5643d1ff95bb4610bf3ce209afd6fa01",
      "d1f8356632c442fcbdfea35136c0b7a7",
      "a5ea99b787ac4f3b8cc3f062cb348baa",
      "4e15166fc812418598ae7976002cfd78",
      "4ff45f3c07b6468f881eb988db6e66e1",
      "d517cf15a9b24bb99255c2690603b653",
      "a022b367e53b4d00a64c63835944be4d",
      "6d297dae0d2842409a527155d1e7160b",
      "7048001fb8f84c268534cb97e51850cf",
      "6a4b99cd02e949639cd555583deaa950",
      "c352fdee23fc46c49134a52591aec19a"
     ]
    },
    "executionInfo": {
     "elapsed": 1544,
     "status": "ok",
     "timestamp": 1697040165816,
     "user": {
      "displayName": "Giandomenico Solimando",
      "userId": "04898863124661605068"
     },
     "user_tz": -120
    },
    "id": "WARKqwaltn17",
    "outputId": "0eea5f1f-024f-4c5d-896d-ccb1e6807826"
   },
   "outputs": [
    {
     "name": "stdout",
     "output_type": "stream",
     "text": [
      "Dealing with Evaluation...\n",
      "Created `test_dataset` with 150 examples!\n",
      "Created `test_dataloader` with 5 batches!\n"
     ]
    },
    {
     "data": {
      "application/vnd.jupyter.widget-view+json": {
       "model_id": "140aa0dd71be4e3395a5e0f69d200edb",
       "version_major": 2,
       "version_minor": 0
      },
      "text/plain": [
       "  0%|          | 0/5 [00:00<?, ?it/s]"
      ]
     },
     "metadata": {},
     "output_type": "display_data"
    },
    {
     "name": "stdout",
     "output_type": "stream",
     "text": [
      "              precision    recall  f1-score   support\n",
      "\n",
      "        Real       0.96      0.92      0.94        50\n",
      "        Fake       0.96      0.98      0.97       100\n",
      "\n",
      "    accuracy                           0.96       150\n",
      "   macro avg       0.96      0.95      0.95       150\n",
      "weighted avg       0.96      0.96      0.96       150\n",
      "\n"
     ]
    }
   ],
   "source": [
    "print('Dealing with Evaluation...')\n",
    "# Create pytorch dataset.\n",
    "test_dataset =  ReviewDataset(test_df,\n",
    "                               use_tokenizer=tokenizer)\n",
    "print('Created `test_dataset` with %d examples!'%len(test_dataset))\n",
    "\n",
    "# Move pytorch dataset into dataloader.\n",
    "test_dataloader = DataLoader(test_dataset, batch_size=batch_size, shuffle=True, collate_fn=gpt2_classificaiton_collator)\n",
    "print('Created `test_dataloader` with %d batches!'%len(test_dataloader))\n",
    "\n",
    "# Get prediction form model on validation data. This is where you should use\n",
    "# your test data.\n",
    "true_labels, predictions_labels, avg_epoch_loss = validation(test_dataloader, device)\n",
    "\n",
    "# Create the evaluation report.\n",
    "evaluation_report = classification_report(true_labels, predictions_labels, labels=list(labels_ids.values()), target_names=list(labels_ids.keys()))\n",
    "# Show the evaluation report.\n",
    "print(evaluation_report)"
   ]
  },
  {
   "cell_type": "markdown",
   "metadata": {
    "id": "JYnmlP30pGPf"
   },
   "source": []
  },
  {
   "cell_type": "code",
   "execution_count": 30,
   "metadata": {
    "colab": {
     "base_uri": "https://localhost:8080/",
     "height": 421
    },
    "executionInfo": {
     "elapsed": 214,
     "status": "error",
     "timestamp": 1697040133828,
     "user": {
      "displayName": "Giandomenico Solimando",
      "userId": "04898863124661605068"
     },
     "user_tz": -120
    },
    "id": "0vGobNMEIIZy",
    "outputId": "62c22f8c-7e31-48d9-ca88-6f06d9b35764"
   },
   "outputs": [],
   "source": [
    "# class_mapping = {'Real': 0, 'Fake': 1}\n",
    "class_mapping = { 0 :'Real',  1 : 'Fake'}\n",
    "\n",
    "true_labels = [class_mapping[label] for label in true_labels]\n",
    "\n",
    "predictions_labels = [class_mapping[label] for label in predictions_labels]"
   ]
  },
  {
   "cell_type": "code",
   "execution_count": 31,
   "metadata": {
    "colab": {
     "base_uri": "https://localhost:8080/",
     "height": 516
    },
    "executionInfo": {
     "elapsed": 528,
     "status": "ok",
     "timestamp": 1697039954894,
     "user": {
      "displayName": "Giandomenico Solimando",
      "userId": "04898863124661605068"
     },
     "user_tz": -120
    },
    "id": "-flo6B1AAtvK",
    "outputId": "4ca22c4d-64ea-4470-f864-909133931aa9"
   },
   "outputs": [
    {
     "name": "stderr",
     "output_type": "stream",
     "text": [
      "c:\\ProgramData\\Anaconda3\\lib\\site-packages\\seaborn\\rcmod.py:400: DeprecationWarning: distutils Version classes are deprecated. Use packaging.version instead.\n",
      "  if LooseVersion(mpl.__version__) >= \"3.0\":\n",
      "c:\\ProgramData\\Anaconda3\\lib\\site-packages\\setuptools\\_distutils\\version.py:346: DeprecationWarning: distutils Version classes are deprecated. Use packaging.version instead.\n",
      "  other = LooseVersion(other)\n"
     ]
    },
    {
     "data": {
      "image/png": "[encoded data removed]",
      "text/plain": [
       "<Figure size 640x480 with 2 Axes>"
      ]
     },
     "metadata": {},
     "output_type": "display_data"
    }
   ],
   "source": [
    "confusion_matrix = pd.crosstab(true_labels, predictions_labels, rownames=['Target Class'], colnames=['Output Class'])\n",
    "\n",
    "sn.set(font_scale=1.1) # for label size\n",
    "sn.heatmap(confusion_matrix, annot=True, fmt=\".0f\", annot_kws={\"size\": 13}, cmap='Blues')\n",
    "\n",
    "plt.show()"
   ]
  },
  {
   "cell_type": "code",
   "execution_count": 33,
   "metadata": {
    "colab": {
     "base_uri": "https://localhost:8080/"
    },
    "executionInfo": {
     "elapsed": 210,
     "status": "ok",
     "timestamp": 1697040042232,
     "user": {
      "displayName": "Giandomenico Solimando",
      "userId": "04898863124661605068"
     },
     "user_tz": -120
    },
    "id": "34zHcCC1BOiG",
    "outputId": "506d8dfa-5e86-4153-c536-6a248eb91056"
   },
   "outputs": [],
   "source": [
    "test_error = pd.DataFrame({'true_label': true_labels, 'result': predictions_labels})\n",
    "\n",
    "test_error.to_csv('Results/test_results_GPT2.csv')\n",
    "# test_error.to_csv(drive+'Results/test_results_T5.csv')\n",
    "\n",
    "# !cp test_semantic_results_GPT2.csv \"Results\""
   ]
  },
  {
   "cell_type": "code",
   "execution_count": 34,
   "metadata": {
    "colab": {
     "base_uri": "https://localhost:8080/",
     "height": 478
    },
    "executionInfo": {
     "elapsed": 214,
     "status": "ok",
     "timestamp": 1697040044143,
     "user": {
      "displayName": "Giandomenico Solimando",
      "userId": "04898863124661605068"
     },
     "user_tz": -120
    },
    "id": "1YjBL_rwBSDY",
    "outputId": "ee89036e-d48f-40fb-f5aa-83f391a79fcb"
   },
   "outputs": [
    {
     "data": {
      "text/html": [
       "<div>\n",
       "<style scoped>\n",
       "    .dataframe tbody tr th:only-of-type {\n",
       "        vertical-align: middle;\n",
       "    }\n",
       "\n",
       "    .dataframe tbody tr th {\n",
       "        vertical-align: top;\n",
       "    }\n",
       "\n",
       "    .dataframe thead th {\n",
       "        text-align: right;\n",
       "    }\n",
       "</style>\n",
       "<table border=\"1\" class=\"dataframe\">\n",
       "  <thead>\n",
       "    <tr style=\"text-align: right;\">\n",
       "      <th></th>\n",
       "      <th>true_label</th>\n",
       "      <th>result</th>\n",
       "    </tr>\n",
       "  </thead>\n",
       "  <tbody>\n",
       "    <tr>\n",
       "      <th>0</th>\n",
       "      <td>Fake</td>\n",
       "      <td>Fake</td>\n",
       "    </tr>\n",
       "    <tr>\n",
       "      <th>1</th>\n",
       "      <td>Real</td>\n",
       "      <td>Real</td>\n",
       "    </tr>\n",
       "    <tr>\n",
       "      <th>2</th>\n",
       "      <td>Fake</td>\n",
       "      <td>Fake</td>\n",
       "    </tr>\n",
       "    <tr>\n",
       "      <th>3</th>\n",
       "      <td>Fake</td>\n",
       "      <td>Fake</td>\n",
       "    </tr>\n",
       "    <tr>\n",
       "      <th>4</th>\n",
       "      <td>Fake</td>\n",
       "      <td>Fake</td>\n",
       "    </tr>\n",
       "    <tr>\n",
       "      <th>...</th>\n",
       "      <td>...</td>\n",
       "      <td>...</td>\n",
       "    </tr>\n",
       "    <tr>\n",
       "      <th>145</th>\n",
       "      <td>Fake</td>\n",
       "      <td>Fake</td>\n",
       "    </tr>\n",
       "    <tr>\n",
       "      <th>146</th>\n",
       "      <td>Fake</td>\n",
       "      <td>Fake</td>\n",
       "    </tr>\n",
       "    <tr>\n",
       "      <th>147</th>\n",
       "      <td>Real</td>\n",
       "      <td>Real</td>\n",
       "    </tr>\n",
       "    <tr>\n",
       "      <th>148</th>\n",
       "      <td>Fake</td>\n",
       "      <td>Fake</td>\n",
       "    </tr>\n",
       "    <tr>\n",
       "      <th>149</th>\n",
       "      <td>Fake</td>\n",
       "      <td>Fake</td>\n",
       "    </tr>\n",
       "  </tbody>\n",
       "</table>\n",
       "<p>150 rows × 2 columns</p>\n",
       "</div>"
      ],
      "text/plain": [
       "    true_label result\n",
       "0         Fake   Fake\n",
       "1         Real   Real\n",
       "2         Fake   Fake\n",
       "3         Fake   Fake\n",
       "4         Fake   Fake\n",
       "..         ...    ...\n",
       "145       Fake   Fake\n",
       "146       Fake   Fake\n",
       "147       Real   Real\n",
       "148       Fake   Fake\n",
       "149       Fake   Fake\n",
       "\n",
       "[150 rows x 2 columns]"
      ]
     },
     "execution_count": 34,
     "metadata": {},
     "output_type": "execute_result"
    }
   ],
   "source": [
    "test_path = 'Results/test_results_GPT2.csv'\n",
    "# test_path = drive+'Results/test_results_T5.csv'\n",
    "\n",
    "col_names = ['true_label','result']\n",
    "test_error = pd.read_csv(test_path,skiprows=1,sep=',',names=col_names,encoding = \"ISO-8859-1\")\n",
    "\n",
    "test_error"
   ]
  },
  {
   "cell_type": "code",
   "execution_count": 35,
   "metadata": {
    "colab": {
     "base_uri": "https://localhost:8080/"
    },
    "executionInfo": {
     "elapsed": 198,
     "status": "ok",
     "timestamp": 1697040046842,
     "user": {
      "displayName": "Giandomenico Solimando",
      "userId": "04898863124661605068"
     },
     "user_tz": -120
    },
    "id": "AkVShVf_BTuZ",
    "outputId": "24c6abb2-6906-4ac7-daab-dcbc5a7ca74d"
   },
   "outputs": [
    {
     "name": "stdout",
     "output_type": "stream",
     "text": [
      "Precision: 0.959559\n",
      "Recall: 0.950000\n",
      "F1 score: 0.954536\n"
     ]
    }
   ],
   "source": [
    "data = pd.DataFrame({'prediction':test_error['result'], 'true_label':test_error['true_label']})\n",
    "\n",
    "# precision tp / (tp + fp)\n",
    "precision = precision_score(data['true_label'], data['prediction'], average = 'macro')\n",
    "print('Precision: %f' % precision)\n",
    "# recall: tp / (tp + fn)\n",
    "recall = recall_score(data['true_label'], data['prediction'], average = 'macro')\n",
    "print('Recall: %f' % recall)\n",
    "# f1: 2 tp / (2 tp + fp + fn)\n",
    "f1 = f1_score(data['true_label'], data['prediction'], average = 'macro')\n",
    "print('F1 score: %f' % f1)"
   ]
  },
  {
   "cell_type": "markdown",
   "metadata": {},
   "source": [
    "# Test LLMs"
   ]
  },
  {
   "cell_type": "code",
   "execution_count": 7,
   "metadata": {},
   "outputs": [],
   "source": [
    "import shutil\n",
    "\n",
    "def answer(df,llm):\n",
    "    path_llm = 'Results/'+llm+\"/\"\n",
    "\n",
    "    if(os.path.exists(path_llm)):\n",
    "        shutil.rmtree(path_llm)\n",
    "        os.makedirs(path_llm)\n",
    "    else:\n",
    "        os.makedirs(path_llm)\n",
    "        \n",
    "    print('Evaluation for '+llm+'...')\n",
    "    # Create pytorch dataset.\n",
    "    test_dataset =  ReviewDataset(df,\n",
    "                                use_tokenizer=tokenizer)\n",
    "    print('Created `test_dataset` with %d examples!'%len(test_dataset))\n",
    "\n",
    "    # Move pytorch dataset into dataloader.\n",
    "    test_dataloader = DataLoader(test_dataset, batch_size=batch_size, shuffle=True, collate_fn=gpt2_classificaiton_collator)\n",
    "    print('Created `test_dataloader` with %d batches!'%len(test_dataloader))\n",
    "\n",
    "    # Get prediction form model on validation data. This is where you should use\n",
    "    # your test data.\n",
    "    true_labels, predictions_labels, avg_epoch_loss = validation(test_dataloader, device)\n",
    "\n",
    "    # Create the evaluation report.\n",
    "    evaluation_report = classification_report(true_labels, predictions_labels, labels=list(labels_ids.values()), target_names=list(labels_ids.keys()))\n",
    "    # Show the evaluation report.\n",
    "    print(evaluation_report)\n",
    "\n",
    "    # class_mapping = {'Real': 0, 'Fake': 1}\n",
    "    class_mapping = { 0 :'Real',  1 : 'Fake'}\n",
    "\n",
    "    true_labels = [class_mapping[label] for label in true_labels]\n",
    "\n",
    "    predictions_labels = [class_mapping[label] for label in predictions_labels]\n",
    "\n",
    "    confusion_matrix = pd.crosstab(true_labels, predictions_labels, rownames=['Target Class'], colnames=['Output Class'])\n",
    "\n",
    "    sn.set(font_scale=1.1) # for label size\n",
    "    sn.heatmap(confusion_matrix, annot=True, fmt=\".0f\", annot_kws={\"size\": 13}, cmap='Blues')\n",
    "\n",
    "    plt.show()\n",
    "\n",
    "    test_path = path_llm+'/test_results_GPT2_'+llm+'.csv'\n",
    "\n",
    "    test_error = pd.DataFrame({'true_label': true_labels, 'result': predictions_labels})\n",
    "\n",
    "    test_error.to_csv(test_path)\n",
    "\n",
    "    col_names = ['true_label','result']\n",
    "    test_error = pd.read_csv(test_path,skiprows=1,sep=',',names=col_names,encoding = \"ISO-8859-1\")\n",
    "\n",
    "    data = pd.DataFrame({'prediction':test_error['result'], 'true_label':test_error['true_label']})\n",
    "\n",
    "    acc = accuracy_score(data['true_label'], data['prediction'])\n",
    "    # precision tp / (tp + fp)\n",
    "    precision = precision_score(data['true_label'], data['prediction'], average = 'macro')\n",
    "    print('Precision: %f' % precision)\n",
    "    # recall: tp / (tp + fn)\n",
    "    recall = recall_score(data['true_label'], data['prediction'], average = 'macro')\n",
    "    print('Recall: %f' % recall)\n",
    "    # f1: 2 tp / (2 tp + fp + fn)\n",
    "    f1 = f1_score(data['true_label'], data['prediction'], average = 'macro')\n",
    "    print('F1 score: %f' % f1)\n",
    "\n",
    "    plt.savefig(path_llm+'/Confusion_'+llm+'.pdf')\n",
    "\n",
    "    with open(path_llm+\"/gpt2_predictions_\"+llm+\".txt\", 'w') as f:\n",
    "        f.write(evaluation_report+\"\\n\")\n",
    "        f.write(\"Accuracy \"+ str(acc)+\"\\n\")\n",
    "        f.write(\"Precision \"+ str(precision)+\"\\n\")\n",
    "        f.write(\"Sensitivity_recall \"+ str(recall)+\"\\n\")\n",
    "        f.write(\"F1_score \"+ str(f1))"
   ]
  },
  {
   "cell_type": "code",
   "execution_count": 55,
   "metadata": {},
   "outputs": [
    {
     "name": "stdout",
     "output_type": "stream",
     "text": [
      "Evaluation for BARD...\n",
      "Created `test_dataset` with 1736 examples!\n",
      "Created `test_dataloader` with 55 batches!\n"
     ]
    },
    {
     "data": {
      "application/vnd.jupyter.widget-view+json": {
       "model_id": "8d4ee73fab8c47e09a05970d6fa30765",
       "version_major": 2,
       "version_minor": 0
      },
      "text/plain": [
       "  0%|          | 0/55 [00:00<?, ?it/s]"
      ]
     },
     "metadata": {},
     "output_type": "display_data"
    },
    {
     "name": "stdout",
     "output_type": "stream",
     "text": [
      "              precision    recall  f1-score   support\n",
      "\n",
      "        Real       0.57      0.98      0.72       868\n",
      "        Fake       0.94      0.25      0.40       868\n",
      "\n",
      "    accuracy                           0.62      1736\n",
      "   macro avg       0.75      0.62      0.56      1736\n",
      "weighted avg       0.75      0.62      0.56      1736\n",
      "\n"
     ]
    },
    {
     "name": "stderr",
     "output_type": "stream",
     "text": [
      "c:\\ProgramData\\Anaconda3\\lib\\site-packages\\seaborn\\rcmod.py:400: DeprecationWarning: distutils Version classes are deprecated. Use packaging.version instead.\n",
      "  if LooseVersion(mpl.__version__) >= \"3.0\":\n",
      "c:\\ProgramData\\Anaconda3\\lib\\site-packages\\setuptools\\_distutils\\version.py:346: DeprecationWarning: distutils Version classes are deprecated. Use packaging.version instead.\n",
      "  other = LooseVersion(other)\n"
     ]
    },
    {
     "data": {
      "image/png": "[encoded data removed]",
      "text/plain": [
       "<Figure size 640x480 with 2 Axes>"
      ]
     },
     "metadata": {},
     "output_type": "display_data"
    },
    {
     "name": "stdout",
     "output_type": "stream",
     "text": [
      "Precision: 0.754056\n",
      "Recall: 0.618088\n",
      "F1 score: 0.559096\n"
     ]
    },
    {
     "name": "stderr",
     "output_type": "stream",
     "text": [
      "c:\\ProgramData\\Anaconda3\\lib\\site-packages\\fontTools\\misc\\py23.py:11: DeprecationWarning: The py23 module has been deprecated and will be removed in a future release. Please update your code.\n",
      "  warnings.warn(\n"
     ]
    },
    {
     "name": "stdout",
     "output_type": "stream",
     "text": [
      "\n",
      "\n",
      "BARD DONE\n",
      "\n",
      "\n",
      "Evaluation for CLAUDE...\n",
      "Created `test_dataset` with 1736 examples!\n",
      "Created `test_dataloader` with 55 batches!\n"
     ]
    },
    {
     "data": {
      "application/vnd.jupyter.widget-view+json": {
       "model_id": "10239e9208de4f1ba6ea820d49cfdc8e",
       "version_major": 2,
       "version_minor": 0
      },
      "text/plain": [
       "  0%|          | 0/55 [00:00<?, ?it/s]"
      ]
     },
     "metadata": {},
     "output_type": "display_data"
    },
    {
     "name": "stdout",
     "output_type": "stream",
     "text": [
      "              precision    recall  f1-score   support\n",
      "\n",
      "        Real       0.53      0.98      0.69       868\n",
      "        Fake       0.90      0.14      0.24       868\n",
      "\n",
      "    accuracy                           0.56      1736\n",
      "   macro avg       0.71      0.56      0.47      1736\n",
      "weighted avg       0.71      0.56      0.47      1736\n",
      "\n"
     ]
    },
    {
     "name": "stderr",
     "output_type": "stream",
     "text": [
      "c:\\ProgramData\\Anaconda3\\lib\\site-packages\\seaborn\\rcmod.py:400: DeprecationWarning: distutils Version classes are deprecated. Use packaging.version instead.\n",
      "  if LooseVersion(mpl.__version__) >= \"3.0\":\n",
      "c:\\ProgramData\\Anaconda3\\lib\\site-packages\\setuptools\\_distutils\\version.py:346: DeprecationWarning: distutils Version classes are deprecated. Use packaging.version instead.\n",
      "  other = LooseVersion(other)\n"
     ]
    },
    {
     "data": {
      "image/png": "[encoded data removed]",
      "text/plain": [
       "<Figure size 640x480 with 2 Axes>"
      ]
     },
     "metadata": {},
     "output_type": "display_data"
    },
    {
     "name": "stdout",
     "output_type": "stream",
     "text": [
      "Precision: 0.714303\n",
      "Recall: 0.561060\n",
      "F1 score: 0.465509\n",
      "\n",
      "\n",
      "CLAUDE DONE\n",
      "\n",
      "\n",
      "Evaluation for GPT...\n",
      "Created `test_dataset` with 1736 examples!\n",
      "Created `test_dataloader` with 55 batches!\n"
     ]
    },
    {
     "data": {
      "application/vnd.jupyter.widget-view+json": {
       "model_id": "b513287d6c60436ebe948c1554d44acc",
       "version_major": 2,
       "version_minor": 0
      },
      "text/plain": [
       "  0%|          | 0/55 [00:00<?, ?it/s]"
      ]
     },
     "metadata": {},
     "output_type": "display_data"
    },
    {
     "name": "stdout",
     "output_type": "stream",
     "text": [
      "              precision    recall  f1-score   support\n",
      "\n",
      "        Real       0.60      0.98      0.75       868\n",
      "        Fake       0.96      0.34      0.51       868\n",
      "\n",
      "    accuracy                           0.66      1736\n",
      "   macro avg       0.78      0.66      0.63      1736\n",
      "weighted avg       0.78      0.66      0.63      1736\n",
      "\n"
     ]
    },
    {
     "name": "stderr",
     "output_type": "stream",
     "text": [
      "c:\\ProgramData\\Anaconda3\\lib\\site-packages\\seaborn\\rcmod.py:400: DeprecationWarning: distutils Version classes are deprecated. Use packaging.version instead.\n",
      "  if LooseVersion(mpl.__version__) >= \"3.0\":\n",
      "c:\\ProgramData\\Anaconda3\\lib\\site-packages\\setuptools\\_distutils\\version.py:346: DeprecationWarning: distutils Version classes are deprecated. Use packaging.version instead.\n",
      "  other = LooseVersion(other)\n"
     ]
    },
    {
     "data": {
      "image/png": "[encoded data removed]",
      "text/plain": [
       "<Figure size 640x480 with 2 Axes>"
      ]
     },
     "metadata": {},
     "output_type": "display_data"
    },
    {
     "name": "stdout",
     "output_type": "stream",
     "text": [
      "Precision: 0.777424\n",
      "Recall: 0.663594\n",
      "F1 score: 0.625143\n",
      "\n",
      "\n",
      "GPT DONE\n",
      "\n",
      "\n",
      "Evaluation for LAMA...\n",
      "Created `test_dataset` with 1736 examples!\n",
      "Created `test_dataloader` with 55 batches!\n"
     ]
    },
    {
     "data": {
      "application/vnd.jupyter.widget-view+json": {
       "model_id": "259cfaf39b214b5f95968fa53372109b",
       "version_major": 2,
       "version_minor": 0
      },
      "text/plain": [
       "  0%|          | 0/55 [00:00<?, ?it/s]"
      ]
     },
     "metadata": {},
     "output_type": "display_data"
    },
    {
     "name": "stdout",
     "output_type": "stream",
     "text": [
      "              precision    recall  f1-score   support\n",
      "\n",
      "        Real       0.59      0.98      0.74       868\n",
      "        Fake       0.95      0.33      0.49       868\n",
      "\n",
      "    accuracy                           0.66      1736\n",
      "   macro avg       0.77      0.66      0.62      1736\n",
      "weighted avg       0.77      0.66      0.62      1736\n",
      "\n"
     ]
    },
    {
     "name": "stderr",
     "output_type": "stream",
     "text": [
      "c:\\ProgramData\\Anaconda3\\lib\\site-packages\\seaborn\\rcmod.py:400: DeprecationWarning: distutils Version classes are deprecated. Use packaging.version instead.\n",
      "  if LooseVersion(mpl.__version__) >= \"3.0\":\n",
      "c:\\ProgramData\\Anaconda3\\lib\\site-packages\\setuptools\\_distutils\\version.py:346: DeprecationWarning: distutils Version classes are deprecated. Use packaging.version instead.\n",
      "  other = LooseVersion(other)\n"
     ]
    },
    {
     "data": {
      "image/png": "[encoded data removed]",
      "text/plain": [
       "<Figure size 640x480 with 2 Axes>"
      ]
     },
     "metadata": {},
     "output_type": "display_data"
    },
    {
     "name": "stdout",
     "output_type": "stream",
     "text": [
      "Precision: 0.772296\n",
      "Recall: 0.656106\n",
      "F1 score: 0.615040\n",
      "\n",
      "\n",
      "LAMA DONE\n",
      "\n",
      "\n"
     ]
    },
    {
     "data": {
      "text/plain": [
       "<Figure size 640x480 with 0 Axes>"
      ]
     },
     "metadata": {},
     "output_type": "display_data"
    }
   ],
   "source": [
    "LLMs = [\"BARD\", \"CLAUDE\", \"GPT\", \"LAMA\"]\n",
    "col_names = ['ID','Title','content', 'label']\n",
    "\n",
    "for llm in LLMs:\n",
    "    df = pd.read_csv(path+\"dataset_\" + llm + \"_recensioni_generate_eng.csv\",names=col_names, sep=';', encoding = \"ISO-8859-1\")\n",
    "    answer(df, llm)\n",
    "    print(f\"\\n\\n{llm} DONE\\n\\n\")"
   ]
  }
 ],
 "metadata": {
  "accelerator": "GPU",
  "colab": {
   "gpuType": "T4",
   "provenance": []
  },
  "kernelspec": {
   "display_name": "Laura",
   "language": "python",
   "name": "python3"
  },
  "language_info": {
   "codemirror_mode": {
    "name": "ipython",
    "version": 3
   },
   "file_extension": ".py",
   "mimetype": "text/x-python",
   "name": "python",
   "nbconvert_exporter": "python",
   "pygments_lexer": "ipython3",
   "version": "3.12.8"
  },
  "widgets": {
   "application/vnd.jupyter.widget-state+json": {
    "031d170f345145808f6c7839e1eb3fe1": {
     "model_module": "@jupyter-widgets/controls",
     "model_module_version": "1.5.0",
     "model_name": "ProgressStyleModel",
     "state": {
      "_model_module": "@jupyter-widgets/controls",
      "_model_module_version": "1.5.0",
      "_model_name": "ProgressStyleModel",
      "_view_count": null,
      "_view_module": "@jupyter-widgets/base",
      "_view_module_version": "1.2.0",
      "_view_name": "StyleView",
      "bar_color": null,
      "description_width": ""
     }
    },
    "12439175151a4dd58ea81453765e6f58": {
     "model_module": "@jupyter-widgets/controls",
     "model_module_version": "1.5.0",
     "model_name": "HTMLModel",
     "state": {
      "_dom_classes": [],
      "_model_module": "@jupyter-widgets/controls",
      "_model_module_version": "1.5.0",
      "_model_name": "HTMLModel",
      "_view_count": null,
      "_view_module": "@jupyter-widgets/controls",
      "_view_module_version": "1.5.0",
      "_view_name": "HTMLView",
      "description": "",
      "description_tooltip": null,
      "layout": "IPY_MODEL_ab85a9ffc565483382dc1ca5b7fd1762",
      "placeholder": "​",
      "style": "IPY_MODEL_6ae883e5a51c46178546d92d6dd8609f",
      "value": "100%"
     }
    },
    "1546d00d183d4997b2f0052423fe2d82": {
     "model_module": "@jupyter-widgets/controls",
     "model_module_version": "1.5.0",
     "model_name": "HBoxModel",
     "state": {
      "_dom_classes": [],
      "_model_module": "@jupyter-widgets/controls",
      "_model_module_version": "1.5.0",
      "_model_name": "HBoxModel",
      "_view_count": null,
      "_view_module": "@jupyter-widgets/controls",
      "_view_module_version": "1.5.0",
      "_view_name": "HBoxView",
      "box_style": "",
      "children": [
       "IPY_MODEL_3268f11f800c4093b5ddfde426ee9fa6",
       "IPY_MODEL_c3a7fce6652b47c5ba2c14fdd5aebc21",
       "IPY_MODEL_3ade4a96cd1b4ccfaf9d06cd8066a91c"
      ],
      "layout": "IPY_MODEL_39fd2d1307eb4e2fa65fa4be5151792d"
     }
    },
    "3268f11f800c4093b5ddfde426ee9fa6": {
     "model_module": "@jupyter-widgets/controls",
     "model_module_version": "1.5.0",
     "model_name": "HTMLModel",
     "state": {
      "_dom_classes": [],
      "_model_module": "@jupyter-widgets/controls",
      "_model_module_version": "1.5.0",
      "_model_name": "HTMLModel",
      "_view_count": null,
      "_view_module": "@jupyter-widgets/controls",
      "_view_module_version": "1.5.0",
      "_view_name": "HTMLView",
      "description": "",
      "description_tooltip": null,
      "layout": "IPY_MODEL_40e62f59743e4ebfa577400f3b99de02",
      "placeholder": "​",
      "style": "IPY_MODEL_fb935e423dfb4259b2924c9fc8662082",
      "value": "100%"
     }
    },
    "39fd2d1307eb4e2fa65fa4be5151792d": {
     "model_module": "@jupyter-widgets/base",
     "model_module_version": "1.2.0",
     "model_name": "LayoutModel",
     "state": {
      "_model_module": "@jupyter-widgets/base",
      "_model_module_version": "1.2.0",
      "_model_name": "LayoutModel",
      "_view_count": null,
      "_view_module": "@jupyter-widgets/base",
      "_view_module_version": "1.2.0",
      "_view_name": "LayoutView",
      "align_content": null,
      "align_items": null,
      "align_self": null,
      "border": null,
      "bottom": null,
      "display": null,
      "flex": null,
      "flex_flow": null,
      "grid_area": null,
      "grid_auto_columns": null,
      "grid_auto_flow": null,
      "grid_auto_rows": null,
      "grid_column": null,
      "grid_gap": null,
      "grid_row": null,
      "grid_template_areas": null,
      "grid_template_columns": null,
      "grid_template_rows": null,
      "height": null,
      "justify_content": null,
      "justify_items": null,
      "left": null,
      "margin": null,
      "max_height": null,
      "max_width": null,
      "min_height": null,
      "min_width": null,
      "object_fit": null,
      "object_position": null,
      "order": null,
      "overflow": null,
      "overflow_x": null,
      "overflow_y": null,
      "padding": null,
      "right": null,
      "top": null,
      "visibility": null,
      "width": null
     }
    },
    "3ade4a96cd1b4ccfaf9d06cd8066a91c": {
     "model_module": "@jupyter-widgets/controls",
     "model_module_version": "1.5.0",
     "model_name": "HTMLModel",
     "state": {
      "_dom_classes": [],
      "_model_module": "@jupyter-widgets/controls",
      "_model_module_version": "1.5.0",
      "_model_name": "HTMLModel",
      "_view_count": null,
      "_view_module": "@jupyter-widgets/controls",
      "_view_module_version": "1.5.0",
      "_view_name": "HTMLView",
      "description": "",
      "description_tooltip": null,
      "layout": "IPY_MODEL_48319519031a42c392a85765fbff0155",
      "placeholder": "​",
      "style": "IPY_MODEL_c676e8908da94ea299c98c3ed67980d8",
      "value": " 57/57 [00:35&lt;00:00,  1.87it/s]"
     }
    },
    "3d6d3699a6da4aa390cd2b3c45d396c8": {
     "model_module": "@jupyter-widgets/controls",
     "model_module_version": "1.5.0",
     "model_name": "FloatProgressModel",
     "state": {
      "_dom_classes": [],
      "_model_module": "@jupyter-widgets/controls",
      "_model_module_version": "1.5.0",
      "_model_name": "FloatProgressModel",
      "_view_count": null,
      "_view_module": "@jupyter-widgets/controls",
      "_view_module_version": "1.5.0",
      "_view_name": "ProgressView",
      "bar_style": "success",
      "description": "",
      "description_tooltip": null,
      "layout": "IPY_MODEL_a89638fa3afa4092b3a5b8fd74582f6c",
      "max": 1,
      "min": 0,
      "orientation": "horizontal",
      "style": "IPY_MODEL_031d170f345145808f6c7839e1eb3fe1",
      "value": 1
     }
    },
    "40e62f59743e4ebfa577400f3b99de02": {
     "model_module": "@jupyter-widgets/base",
     "model_module_version": "1.2.0",
     "model_name": "LayoutModel",
     "state": {
      "_model_module": "@jupyter-widgets/base",
      "_model_module_version": "1.2.0",
      "_model_name": "LayoutModel",
      "_view_count": null,
      "_view_module": "@jupyter-widgets/base",
      "_view_module_version": "1.2.0",
      "_view_name": "LayoutView",
      "align_content": null,
      "align_items": null,
      "align_self": null,
      "border": null,
      "bottom": null,
      "display": null,
      "flex": null,
      "flex_flow": null,
      "grid_area": null,
      "grid_auto_columns": null,
      "grid_auto_flow": null,
      "grid_auto_rows": null,
      "grid_column": null,
      "grid_gap": null,
      "grid_row": null,
      "grid_template_areas": null,
      "grid_template_columns": null,
      "grid_template_rows": null,
      "height": null,
      "justify_content": null,
      "justify_items": null,
      "left": null,
      "margin": null,
      "max_height": null,
      "max_width": null,
      "min_height": null,
      "min_width": null,
      "object_fit": null,
      "object_position": null,
      "order": null,
      "overflow": null,
      "overflow_x": null,
      "overflow_y": null,
      "padding": null,
      "right": null,
      "top": null,
      "visibility": null,
      "width": null
     }
    },
    "48319519031a42c392a85765fbff0155": {
     "model_module": "@jupyter-widgets/base",
     "model_module_version": "1.2.0",
     "model_name": "LayoutModel",
     "state": {
      "_model_module": "@jupyter-widgets/base",
      "_model_module_version": "1.2.0",
      "_model_name": "LayoutModel",
      "_view_count": null,
      "_view_module": "@jupyter-widgets/base",
      "_view_module_version": "1.2.0",
      "_view_name": "LayoutView",
      "align_content": null,
      "align_items": null,
      "align_self": null,
      "border": null,
      "bottom": null,
      "display": null,
      "flex": null,
      "flex_flow": null,
      "grid_area": null,
      "grid_auto_columns": null,
      "grid_auto_flow": null,
      "grid_auto_rows": null,
      "grid_column": null,
      "grid_gap": null,
      "grid_row": null,
      "grid_template_areas": null,
      "grid_template_columns": null,
      "grid_template_rows": null,
      "height": null,
      "justify_content": null,
      "justify_items": null,
      "left": null,
      "margin": null,
      "max_height": null,
      "max_width": null,
      "min_height": null,
      "min_width": null,
      "object_fit": null,
      "object_position": null,
      "order": null,
      "overflow": null,
      "overflow_x": null,
      "overflow_y": null,
      "padding": null,
      "right": null,
      "top": null,
      "visibility": null,
      "width": null
     }
    },
    "4e15166fc812418598ae7976002cfd78": {
     "model_module": "@jupyter-widgets/controls",
     "model_module_version": "1.5.0",
     "model_name": "HTMLModel",
     "state": {
      "_dom_classes": [],
      "_model_module": "@jupyter-widgets/controls",
      "_model_module_version": "1.5.0",
      "_model_name": "HTMLModel",
      "_view_count": null,
      "_view_module": "@jupyter-widgets/controls",
      "_view_module_version": "1.5.0",
      "_view_name": "HTMLView",
      "description": "",
      "description_tooltip": null,
      "layout": "IPY_MODEL_6a4b99cd02e949639cd555583deaa950",
      "placeholder": "​",
      "style": "IPY_MODEL_c352fdee23fc46c49134a52591aec19a",
      "value": " 5/5 [00:01&lt;00:00,  4.80it/s]"
     }
    },
    "4ff45f3c07b6468f881eb988db6e66e1": {
     "model_module": "@jupyter-widgets/base",
     "model_module_version": "1.2.0",
     "model_name": "LayoutModel",
     "state": {
      "_model_module": "@jupyter-widgets/base",
      "_model_module_version": "1.2.0",
      "_model_name": "LayoutModel",
      "_view_count": null,
      "_view_module": "@jupyter-widgets/base",
      "_view_module_version": "1.2.0",
      "_view_name": "LayoutView",
      "align_content": null,
      "align_items": null,
      "align_self": null,
      "border": null,
      "bottom": null,
      "display": null,
      "flex": null,
      "flex_flow": null,
      "grid_area": null,
      "grid_auto_columns": null,
      "grid_auto_flow": null,
      "grid_auto_rows": null,
      "grid_column": null,
      "grid_gap": null,
      "grid_row": null,
      "grid_template_areas": null,
      "grid_template_columns": null,
      "grid_template_rows": null,
      "height": null,
      "justify_content": null,
      "justify_items": null,
      "left": null,
      "margin": null,
      "max_height": null,
      "max_width": null,
      "min_height": null,
      "min_width": null,
      "object_fit": null,
      "object_position": null,
      "order": null,
      "overflow": null,
      "overflow_x": null,
      "overflow_y": null,
      "padding": null,
      "right": null,
      "top": null,
      "visibility": null,
      "width": null
     }
    },
    "51a9482107974cfab68653e0e88da961": {
     "model_module": "@jupyter-widgets/controls",
     "model_module_version": "1.5.0",
     "model_name": "HTMLModel",
     "state": {
      "_dom_classes": [],
      "_model_module": "@jupyter-widgets/controls",
      "_model_module_version": "1.5.0",
      "_model_name": "HTMLModel",
      "_view_count": null,
      "_view_module": "@jupyter-widgets/controls",
      "_view_module_version": "1.5.0",
      "_view_name": "HTMLView",
      "description": "",
      "description_tooltip": null,
      "layout": "IPY_MODEL_fd4e0c7c85254298a38a0001e067d696",
      "placeholder": "​",
      "style": "IPY_MODEL_85b66ccc17cd4614a7281a08636983f7",
      "value": " 1/1 [00:35&lt;00:00, 35.80s/it]"
     }
    },
    "5643d1ff95bb4610bf3ce209afd6fa01": {
     "model_module": "@jupyter-widgets/controls",
     "model_module_version": "1.5.0",
     "model_name": "HBoxModel",
     "state": {
      "_dom_classes": [],
      "_model_module": "@jupyter-widgets/controls",
      "_model_module_version": "1.5.0",
      "_model_name": "HBoxModel",
      "_view_count": null,
      "_view_module": "@jupyter-widgets/controls",
      "_view_module_version": "1.5.0",
      "_view_name": "HBoxView",
      "box_style": "",
      "children": [
       "IPY_MODEL_d1f8356632c442fcbdfea35136c0b7a7",
       "IPY_MODEL_a5ea99b787ac4f3b8cc3f062cb348baa",
       "IPY_MODEL_4e15166fc812418598ae7976002cfd78"
      ],
      "layout": "IPY_MODEL_4ff45f3c07b6468f881eb988db6e66e1"
     }
    },
    "6918b268f7d94168a912eac8def07375": {
     "model_module": "@jupyter-widgets/controls",
     "model_module_version": "1.5.0",
     "model_name": "HBoxModel",
     "state": {
      "_dom_classes": [],
      "_model_module": "@jupyter-widgets/controls",
      "_model_module_version": "1.5.0",
      "_model_name": "HBoxModel",
      "_view_count": null,
      "_view_module": "@jupyter-widgets/controls",
      "_view_module_version": "1.5.0",
      "_view_name": "HBoxView",
      "box_style": "",
      "children": [
       "IPY_MODEL_12439175151a4dd58ea81453765e6f58",
       "IPY_MODEL_3d6d3699a6da4aa390cd2b3c45d396c8",
       "IPY_MODEL_51a9482107974cfab68653e0e88da961"
      ],
      "layout": "IPY_MODEL_edd3a28c11fe46b884a0a9879ca91931"
     }
    },
    "6a4b99cd02e949639cd555583deaa950": {
     "model_module": "@jupyter-widgets/base",
     "model_module_version": "1.2.0",
     "model_name": "LayoutModel",
     "state": {
      "_model_module": "@jupyter-widgets/base",
      "_model_module_version": "1.2.0",
      "_model_name": "LayoutModel",
      "_view_count": null,
      "_view_module": "@jupyter-widgets/base",
      "_view_module_version": "1.2.0",
      "_view_name": "LayoutView",
      "align_content": null,
      "align_items": null,
      "align_self": null,
      "border": null,
      "bottom": null,
      "display": null,
      "flex": null,
      "flex_flow": null,
      "grid_area": null,
      "grid_auto_columns": null,
      "grid_auto_flow": null,
      "grid_auto_rows": null,
      "grid_column": null,
      "grid_gap": null,
      "grid_row": null,
      "grid_template_areas": null,
      "grid_template_columns": null,
      "grid_template_rows": null,
      "height": null,
      "justify_content": null,
      "justify_items": null,
      "left": null,
      "margin": null,
      "max_height": null,
      "max_width": null,
      "min_height": null,
      "min_width": null,
      "object_fit": null,
      "object_position": null,
      "order": null,
      "overflow": null,
      "overflow_x": null,
      "overflow_y": null,
      "padding": null,
      "right": null,
      "top": null,
      "visibility": null,
      "width": null
     }
    },
    "6ae883e5a51c46178546d92d6dd8609f": {
     "model_module": "@jupyter-widgets/controls",
     "model_module_version": "1.5.0",
     "model_name": "DescriptionStyleModel",
     "state": {
      "_model_module": "@jupyter-widgets/controls",
      "_model_module_version": "1.5.0",
      "_model_name": "DescriptionStyleModel",
      "_view_count": null,
      "_view_module": "@jupyter-widgets/base",
      "_view_module_version": "1.2.0",
      "_view_name": "StyleView",
      "description_width": ""
     }
    },
    "6d297dae0d2842409a527155d1e7160b": {
     "model_module": "@jupyter-widgets/base",
     "model_module_version": "1.2.0",
     "model_name": "LayoutModel",
     "state": {
      "_model_module": "@jupyter-widgets/base",
      "_model_module_version": "1.2.0",
      "_model_name": "LayoutModel",
      "_view_count": null,
      "_view_module": "@jupyter-widgets/base",
      "_view_module_version": "1.2.0",
      "_view_name": "LayoutView",
      "align_content": null,
      "align_items": null,
      "align_self": null,
      "border": null,
      "bottom": null,
      "display": null,
      "flex": null,
      "flex_flow": null,
      "grid_area": null,
      "grid_auto_columns": null,
      "grid_auto_flow": null,
      "grid_auto_rows": null,
      "grid_column": null,
      "grid_gap": null,
      "grid_row": null,
      "grid_template_areas": null,
      "grid_template_columns": null,
      "grid_template_rows": null,
      "height": null,
      "justify_content": null,
      "justify_items": null,
      "left": null,
      "margin": null,
      "max_height": null,
      "max_width": null,
      "min_height": null,
      "min_width": null,
      "object_fit": null,
      "object_position": null,
      "order": null,
      "overflow": null,
      "overflow_x": null,
      "overflow_y": null,
      "padding": null,
      "right": null,
      "top": null,
      "visibility": null,
      "width": null
     }
    },
    "7048001fb8f84c268534cb97e51850cf": {
     "model_module": "@jupyter-widgets/controls",
     "model_module_version": "1.5.0",
     "model_name": "ProgressStyleModel",
     "state": {
      "_model_module": "@jupyter-widgets/controls",
      "_model_module_version": "1.5.0",
      "_model_name": "ProgressStyleModel",
      "_view_count": null,
      "_view_module": "@jupyter-widgets/base",
      "_view_module_version": "1.2.0",
      "_view_name": "StyleView",
      "bar_color": null,
      "description_width": ""
     }
    },
    "7e86674042aa4820bd62b938465b0fe2": {
     "model_module": "@jupyter-widgets/controls",
     "model_module_version": "1.5.0",
     "model_name": "ProgressStyleModel",
     "state": {
      "_model_module": "@jupyter-widgets/controls",
      "_model_module_version": "1.5.0",
      "_model_name": "ProgressStyleModel",
      "_view_count": null,
      "_view_module": "@jupyter-widgets/base",
      "_view_module_version": "1.2.0",
      "_view_name": "StyleView",
      "bar_color": null,
      "description_width": ""
     }
    },
    "85b66ccc17cd4614a7281a08636983f7": {
     "model_module": "@jupyter-widgets/controls",
     "model_module_version": "1.5.0",
     "model_name": "DescriptionStyleModel",
     "state": {
      "_model_module": "@jupyter-widgets/controls",
      "_model_module_version": "1.5.0",
      "_model_name": "DescriptionStyleModel",
      "_view_count": null,
      "_view_module": "@jupyter-widgets/base",
      "_view_module_version": "1.2.0",
      "_view_name": "StyleView",
      "description_width": ""
     }
    },
    "a022b367e53b4d00a64c63835944be4d": {
     "model_module": "@jupyter-widgets/controls",
     "model_module_version": "1.5.0",
     "model_name": "DescriptionStyleModel",
     "state": {
      "_model_module": "@jupyter-widgets/controls",
      "_model_module_version": "1.5.0",
      "_model_name": "DescriptionStyleModel",
      "_view_count": null,
      "_view_module": "@jupyter-widgets/base",
      "_view_module_version": "1.2.0",
      "_view_name": "StyleView",
      "description_width": ""
     }
    },
    "a5ea99b787ac4f3b8cc3f062cb348baa": {
     "model_module": "@jupyter-widgets/controls",
     "model_module_version": "1.5.0",
     "model_name": "FloatProgressModel",
     "state": {
      "_dom_classes": [],
      "_model_module": "@jupyter-widgets/controls",
      "_model_module_version": "1.5.0",
      "_model_name": "FloatProgressModel",
      "_view_count": null,
      "_view_module": "@jupyter-widgets/controls",
      "_view_module_version": "1.5.0",
      "_view_name": "ProgressView",
      "bar_style": "success",
      "description": "",
      "description_tooltip": null,
      "layout": "IPY_MODEL_6d297dae0d2842409a527155d1e7160b",
      "max": 5,
      "min": 0,
      "orientation": "horizontal",
      "style": "IPY_MODEL_7048001fb8f84c268534cb97e51850cf",
      "value": 5
     }
    },
    "a89638fa3afa4092b3a5b8fd74582f6c": {
     "model_module": "@jupyter-widgets/base",
     "model_module_version": "1.2.0",
     "model_name": "LayoutModel",
     "state": {
      "_model_module": "@jupyter-widgets/base",
      "_model_module_version": "1.2.0",
      "_model_name": "LayoutModel",
      "_view_count": null,
      "_view_module": "@jupyter-widgets/base",
      "_view_module_version": "1.2.0",
      "_view_name": "LayoutView",
      "align_content": null,
      "align_items": null,
      "align_self": null,
      "border": null,
      "bottom": null,
      "display": null,
      "flex": null,
      "flex_flow": null,
      "grid_area": null,
      "grid_auto_columns": null,
      "grid_auto_flow": null,
      "grid_auto_rows": null,
      "grid_column": null,
      "grid_gap": null,
      "grid_row": null,
      "grid_template_areas": null,
      "grid_template_columns": null,
      "grid_template_rows": null,
      "height": null,
      "justify_content": null,
      "justify_items": null,
      "left": null,
      "margin": null,
      "max_height": null,
      "max_width": null,
      "min_height": null,
      "min_width": null,
      "object_fit": null,
      "object_position": null,
      "order": null,
      "overflow": null,
      "overflow_x": null,
      "overflow_y": null,
      "padding": null,
      "right": null,
      "top": null,
      "visibility": null,
      "width": null
     }
    },
    "ab85a9ffc565483382dc1ca5b7fd1762": {
     "model_module": "@jupyter-widgets/base",
     "model_module_version": "1.2.0",
     "model_name": "LayoutModel",
     "state": {
      "_model_module": "@jupyter-widgets/base",
      "_model_module_version": "1.2.0",
      "_model_name": "LayoutModel",
      "_view_count": null,
      "_view_module": "@jupyter-widgets/base",
      "_view_module_version": "1.2.0",
      "_view_name": "LayoutView",
      "align_content": null,
      "align_items": null,
      "align_self": null,
      "border": null,
      "bottom": null,
      "display": null,
      "flex": null,
      "flex_flow": null,
      "grid_area": null,
      "grid_auto_columns": null,
      "grid_auto_flow": null,
      "grid_auto_rows": null,
      "grid_column": null,
      "grid_gap": null,
      "grid_row": null,
      "grid_template_areas": null,
      "grid_template_columns": null,
      "grid_template_rows": null,
      "height": null,
      "justify_content": null,
      "justify_items": null,
      "left": null,
      "margin": null,
      "max_height": null,
      "max_width": null,
      "min_height": null,
      "min_width": null,
      "object_fit": null,
      "object_position": null,
      "order": null,
      "overflow": null,
      "overflow_x": null,
      "overflow_y": null,
      "padding": null,
      "right": null,
      "top": null,
      "visibility": null,
      "width": null
     }
    },
    "c352fdee23fc46c49134a52591aec19a": {
     "model_module": "@jupyter-widgets/controls",
     "model_module_version": "1.5.0",
     "model_name": "DescriptionStyleModel",
     "state": {
      "_model_module": "@jupyter-widgets/controls",
      "_model_module_version": "1.5.0",
      "_model_name": "DescriptionStyleModel",
      "_view_count": null,
      "_view_module": "@jupyter-widgets/base",
      "_view_module_version": "1.2.0",
      "_view_name": "StyleView",
      "description_width": ""
     }
    },
    "c3a7fce6652b47c5ba2c14fdd5aebc21": {
     "model_module": "@jupyter-widgets/controls",
     "model_module_version": "1.5.0",
     "model_name": "FloatProgressModel",
     "state": {
      "_dom_classes": [],
      "_model_module": "@jupyter-widgets/controls",
      "_model_module_version": "1.5.0",
      "_model_name": "FloatProgressModel",
      "_view_count": null,
      "_view_module": "@jupyter-widgets/controls",
      "_view_module_version": "1.5.0",
      "_view_name": "ProgressView",
      "bar_style": "success",
      "description": "",
      "description_tooltip": null,
      "layout": "IPY_MODEL_d0af5d3c2bb442ef96c6d984bdd189bd",
      "max": 57,
      "min": 0,
      "orientation": "horizontal",
      "style": "IPY_MODEL_7e86674042aa4820bd62b938465b0fe2",
      "value": 57
     }
    },
    "c676e8908da94ea299c98c3ed67980d8": {
     "model_module": "@jupyter-widgets/controls",
     "model_module_version": "1.5.0",
     "model_name": "DescriptionStyleModel",
     "state": {
      "_model_module": "@jupyter-widgets/controls",
      "_model_module_version": "1.5.0",
      "_model_name": "DescriptionStyleModel",
      "_view_count": null,
      "_view_module": "@jupyter-widgets/base",
      "_view_module_version": "1.2.0",
      "_view_name": "StyleView",
      "description_width": ""
     }
    },
    "d0af5d3c2bb442ef96c6d984bdd189bd": {
     "model_module": "@jupyter-widgets/base",
     "model_module_version": "1.2.0",
     "model_name": "LayoutModel",
     "state": {
      "_model_module": "@jupyter-widgets/base",
      "_model_module_version": "1.2.0",
      "_model_name": "LayoutModel",
      "_view_count": null,
      "_view_module": "@jupyter-widgets/base",
      "_view_module_version": "1.2.0",
      "_view_name": "LayoutView",
      "align_content": null,
      "align_items": null,
      "align_self": null,
      "border": null,
      "bottom": null,
      "display": null,
      "flex": null,
      "flex_flow": null,
      "grid_area": null,
      "grid_auto_columns": null,
      "grid_auto_flow": null,
      "grid_auto_rows": null,
      "grid_column": null,
      "grid_gap": null,
      "grid_row": null,
      "grid_template_areas": null,
      "grid_template_columns": null,
      "grid_template_rows": null,
      "height": null,
      "justify_content": null,
      "justify_items": null,
      "left": null,
      "margin": null,
      "max_height": null,
      "max_width": null,
      "min_height": null,
      "min_width": null,
      "object_fit": null,
      "object_position": null,
      "order": null,
      "overflow": null,
      "overflow_x": null,
      "overflow_y": null,
      "padding": null,
      "right": null,
      "top": null,
      "visibility": null,
      "width": null
     }
    },
    "d1f8356632c442fcbdfea35136c0b7a7": {
     "model_module": "@jupyter-widgets/controls",
     "model_module_version": "1.5.0",
     "model_name": "HTMLModel",
     "state": {
      "_dom_classes": [],
      "_model_module": "@jupyter-widgets/controls",
      "_model_module_version": "1.5.0",
      "_model_name": "HTMLModel",
      "_view_count": null,
      "_view_module": "@jupyter-widgets/controls",
      "_view_module_version": "1.5.0",
      "_view_name": "HTMLView",
      "description": "",
      "description_tooltip": null,
      "layout": "IPY_MODEL_d517cf15a9b24bb99255c2690603b653",
      "placeholder": "​",
      "style": "IPY_MODEL_a022b367e53b4d00a64c63835944be4d",
      "value": "100%"
     }
    },
    "d517cf15a9b24bb99255c2690603b653": {
     "model_module": "@jupyter-widgets/base",
     "model_module_version": "1.2.0",
     "model_name": "LayoutModel",
     "state": {
      "_model_module": "@jupyter-widgets/base",
      "_model_module_version": "1.2.0",
      "_model_name": "LayoutModel",
      "_view_count": null,
      "_view_module": "@jupyter-widgets/base",
      "_view_module_version": "1.2.0",
      "_view_name": "LayoutView",
      "align_content": null,
      "align_items": null,
      "align_self": null,
      "border": null,
      "bottom": null,
      "display": null,
      "flex": null,
      "flex_flow": null,
      "grid_area": null,
      "grid_auto_columns": null,
      "grid_auto_flow": null,
      "grid_auto_rows": null,
      "grid_column": null,
      "grid_gap": null,
      "grid_row": null,
      "grid_template_areas": null,
      "grid_template_columns": null,
      "grid_template_rows": null,
      "height": null,
      "justify_content": null,
      "justify_items": null,
      "left": null,
      "margin": null,
      "max_height": null,
      "max_width": null,
      "min_height": null,
      "min_width": null,
      "object_fit": null,
      "object_position": null,
      "order": null,
      "overflow": null,
      "overflow_x": null,
      "overflow_y": null,
      "padding": null,
      "right": null,
      "top": null,
      "visibility": null,
      "width": null
     }
    },
    "edd3a28c11fe46b884a0a9879ca91931": {
     "model_module": "@jupyter-widgets/base",
     "model_module_version": "1.2.0",
     "model_name": "LayoutModel",
     "state": {
      "_model_module": "@jupyter-widgets/base",
      "_model_module_version": "1.2.0",
      "_model_name": "LayoutModel",
      "_view_count": null,
      "_view_module": "@jupyter-widgets/base",
      "_view_module_version": "1.2.0",
      "_view_name": "LayoutView",
      "align_content": null,
      "align_items": null,
      "align_self": null,
      "border": null,
      "bottom": null,
      "display": null,
      "flex": null,
      "flex_flow": null,
      "grid_area": null,
      "grid_auto_columns": null,
      "grid_auto_flow": null,
      "grid_auto_rows": null,
      "grid_column": null,
      "grid_gap": null,
      "grid_row": null,
      "grid_template_areas": null,
      "grid_template_columns": null,
      "grid_template_rows": null,
      "height": null,
      "justify_content": null,
      "justify_items": null,
      "left": null,
      "margin": null,
      "max_height": null,
      "max_width": null,
      "min_height": null,
      "min_width": null,
      "object_fit": null,
      "object_position": null,
      "order": null,
      "overflow": null,
      "overflow_x": null,
      "overflow_y": null,
      "padding": null,
      "right": null,
      "top": null,
      "visibility": null,
      "width": null
     }
    },
    "fb935e423dfb4259b2924c9fc8662082": {
     "model_module": "@jupyter-widgets/controls",
     "model_module_version": "1.5.0",
     "model_name": "DescriptionStyleModel",
     "state": {
      "_model_module": "@jupyter-widgets/controls",
      "_model_module_version": "1.5.0",
      "_model_name": "DescriptionStyleModel",
      "_view_count": null,
      "_view_module": "@jupyter-widgets/base",
      "_view_module_version": "1.2.0",
      "_view_name": "StyleView",
      "description_width": ""
     }
    },
    "fd4e0c7c85254298a38a0001e067d696": {
     "model_module": "@jupyter-widgets/base",
     "model_module_version": "1.2.0",
     "model_name": "LayoutModel",
     "state": {
      "_model_module": "@jupyter-widgets/base",
      "_model_module_version": "1.2.0",
      "_model_name": "LayoutModel",
      "_view_count": null,
      "_view_module": "@jupyter-widgets/base",
      "_view_module_version": "1.2.0",
      "_view_name": "LayoutView",
      "align_content": null,
      "align_items": null,
      "align_self": null,
      "border": null,
      "bottom": null,
      "display": null,
      "flex": null,
      "flex_flow": null,
      "grid_area": null,
      "grid_auto_columns": null,
      "grid_auto_flow": null,
      "grid_auto_rows": null,
      "grid_column": null,
      "grid_gap": null,
      "grid_row": null,
      "grid_template_areas": null,
      "grid_template_columns": null,
      "grid_template_rows": null,
      "height": null,
      "justify_content": null,
      "justify_items": null,
      "left": null,
      "margin": null,
      "max_height": null,
      "max_width": null,
      "min_height": null,
      "min_width": null,
      "object_fit": null,
      "object_position": null,
      "order": null,
      "overflow": null,
      "overflow_x": null,
      "overflow_y": null,
      "padding": null,
      "right": null,
      "top": null,
      "visibility": null,
      "width": null
     }
    }
   }
  }
 },
 "nbformat": 4,
 "nbformat_minor": 0
}
